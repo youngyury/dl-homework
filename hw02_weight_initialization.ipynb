{
  "cells": [
    {
      "cell_type": "markdown",
      "metadata": {
        "id": "kpO0-LSGIac0"
      },
      "source": [
        "# Weight Initialization\n",
        "В этом ноутбуке вы узнаете, как найти хорошие начальные веса для нейронной сети. \n",
        "Инициализация весов происходит один раз, когда модель создана, до обучения.\n",
        "Имея хорошие начальные веса, можно расположить нейронную сеть близко к оптимальному решению.\n",
        "Это позволяет нейронной сети быстрее сойтись к наилучшему решению.\n",
        "\n",
        "\n",
        "## Initial Weights and Observing Training Loss\n",
        "\n",
        "Чтобы увидеть, как работают различные веса, мы протестируем один и тот же набор данных и нейронную сеть. Таким образом, мы знаем, что любые изменения в поведении модели происходят из-за весов, а не из-за каких-либо изменений данных или структуры модели. \n",
        "\n",
        "### Dataset and Model\n",
        "\n",
        "Для изучения различных инициализаций мы обучим MLP классифицировать изображения из набора данных [Fashion-MNIST] (https://github.com/zalandoresearch/fashion-mnist). Набор данных FashionMNIST содержит изображения типов одежды; ' classes = ['футболка / топ', 'брюки', 'пуловер', 'платье', 'пальто', 'сандалии', 'рубашка', 'кроссовки', 'сумка',`ботильоны']'. Изображения нормализуются таким образом, чтобы их пиксельные значения находились в диапазоне [0.0 - 1.0).  Запустите ячейку ниже, чтобы загрузить данные.\n",
        "\n"
      ]
    },
    {
      "cell_type": "markdown",
      "metadata": {
        "id": "2Pl7r9RDIac1"
      },
      "source": [
        "### Import Libraries and Load [Data](http://pytorch.org/docs/stable/torchvision/datasets.html)"
      ]
    },
    {
      "cell_type": "code",
      "execution_count": 1,
      "metadata": {
        "id": "8xNOEfk7Iac2",
        "colab": {
          "base_uri": "https://localhost:8080/",
          "height": 437,
          "referenced_widgets": [
            "3e363b6afef8405fb36fcf1f1ea27b49",
            "ba8fcfe2c63246ca94c61e57fe4db24d",
            "dee491fa654741c58253d4896edb6a0c",
            "b53ecf6783994b52b84ed4906fbb8088",
            "77a3f595a01441228e6dbb3cd07133a9",
            "eb63afa2454e44259c73cb244054de2c",
            "c354fcf178e243abafb9acf1d5e5a4e4",
            "a66b6e195ae24797988198477f00b23d",
            "790e3e3744c64b9ab438622a028d9e2c",
            "e3bafd6d241c4d9f8583f51407042b6b",
            "cfcc7d03f09643809afa63baa4ec8095",
            "9f133bc17e7b41ba9042ba3854b26776",
            "d5f8a0b555cc405dab5658a5767d12ef",
            "cb20ab87c2a148d58293c622fb2acd4a",
            "a6c32600bda14f16802ecd38ce066346",
            "c5cad7c8fa1a421297f78b2c49fd85d6",
            "27a814fc3f624f039983b94625e4dbbd",
            "5a8d88178f3243feb1100e095b5e50bc",
            "61d814fa8c71416b9d165eef207c758d",
            "36eed82ba47842dcb6945acd08ec859f",
            "f6addc79ce7e4fadb2c5f2a4dfdea2c6",
            "50302b1946814f2fb21795884b93f70a",
            "4832d6e3ba374d45b76e44889a8db7db",
            "146bf85e0f7a4c7990f3d153aff9a408",
            "4eb518602d70481e9995f12b062a9463",
            "9924f65cbef34d569414f8856cce2097",
            "433a6e1e818c4c1d8c6f9232cf27f71f",
            "9e2a3b79ba134f2983fb71de9b9a1af3",
            "6477bcede993461fb30055b75b5ef4c9",
            "1ab527974b1349288987078b7506a7d0",
            "3c99990228b64dc1914adf6baf7642be",
            "104dfe9c17c24867a5ae9150d8aca7dd",
            "5aa101c410474f898296b280c4dc309d",
            "edd22c97b9284702adf33f74eca99597",
            "9bac56c871cd4cac92184dd15c7f5400",
            "ccfc67d3e9384d7e8fd3466a23e1b10b",
            "a5ba64e519d042a5acf11ce2fef1d404",
            "db488ade4cb54a6a9625eb20c06967f7",
            "d34f4b83c24b4144ad565f880273798a",
            "d7fc9eccfd6547c8bd0d3568232be8b2",
            "781f7b3da18746bd900e948476b45dd9",
            "6b77f6777cf749f68e1a991320c4a72b",
            "dc519755847e4c24b3935686e8defe25",
            "9a316432bd4c4670a12fa56aa77acc41"
          ]
        },
        "outputId": "f2e19c0e-b821-4b6b-c717-3ed4ffb415b8"
      },
      "outputs": [
        {
          "output_type": "stream",
          "name": "stdout",
          "text": [
            "Downloading http://fashion-mnist.s3-website.eu-central-1.amazonaws.com/train-images-idx3-ubyte.gz\n",
            "Downloading http://fashion-mnist.s3-website.eu-central-1.amazonaws.com/train-images-idx3-ubyte.gz to data/FashionMNIST/raw/train-images-idx3-ubyte.gz\n"
          ]
        },
        {
          "output_type": "display_data",
          "data": {
            "text/plain": [
              "  0%|          | 0/26421880 [00:00<?, ?it/s]"
            ],
            "application/vnd.jupyter.widget-view+json": {
              "version_major": 2,
              "version_minor": 0,
              "model_id": "3e363b6afef8405fb36fcf1f1ea27b49"
            }
          },
          "metadata": {}
        },
        {
          "output_type": "stream",
          "name": "stdout",
          "text": [
            "Extracting data/FashionMNIST/raw/train-images-idx3-ubyte.gz to data/FashionMNIST/raw\n",
            "\n",
            "Downloading http://fashion-mnist.s3-website.eu-central-1.amazonaws.com/train-labels-idx1-ubyte.gz\n",
            "Downloading http://fashion-mnist.s3-website.eu-central-1.amazonaws.com/train-labels-idx1-ubyte.gz to data/FashionMNIST/raw/train-labels-idx1-ubyte.gz\n"
          ]
        },
        {
          "output_type": "display_data",
          "data": {
            "text/plain": [
              "  0%|          | 0/29515 [00:00<?, ?it/s]"
            ],
            "application/vnd.jupyter.widget-view+json": {
              "version_major": 2,
              "version_minor": 0,
              "model_id": "9f133bc17e7b41ba9042ba3854b26776"
            }
          },
          "metadata": {}
        },
        {
          "output_type": "stream",
          "name": "stdout",
          "text": [
            "Extracting data/FashionMNIST/raw/train-labels-idx1-ubyte.gz to data/FashionMNIST/raw\n",
            "\n",
            "Downloading http://fashion-mnist.s3-website.eu-central-1.amazonaws.com/t10k-images-idx3-ubyte.gz\n",
            "Downloading http://fashion-mnist.s3-website.eu-central-1.amazonaws.com/t10k-images-idx3-ubyte.gz to data/FashionMNIST/raw/t10k-images-idx3-ubyte.gz\n"
          ]
        },
        {
          "output_type": "display_data",
          "data": {
            "text/plain": [
              "  0%|          | 0/4422102 [00:00<?, ?it/s]"
            ],
            "application/vnd.jupyter.widget-view+json": {
              "version_major": 2,
              "version_minor": 0,
              "model_id": "4832d6e3ba374d45b76e44889a8db7db"
            }
          },
          "metadata": {}
        },
        {
          "output_type": "stream",
          "name": "stdout",
          "text": [
            "Extracting data/FashionMNIST/raw/t10k-images-idx3-ubyte.gz to data/FashionMNIST/raw\n",
            "\n",
            "Downloading http://fashion-mnist.s3-website.eu-central-1.amazonaws.com/t10k-labels-idx1-ubyte.gz\n",
            "Downloading http://fashion-mnist.s3-website.eu-central-1.amazonaws.com/t10k-labels-idx1-ubyte.gz to data/FashionMNIST/raw/t10k-labels-idx1-ubyte.gz\n"
          ]
        },
        {
          "output_type": "display_data",
          "data": {
            "text/plain": [
              "  0%|          | 0/5148 [00:00<?, ?it/s]"
            ],
            "application/vnd.jupyter.widget-view+json": {
              "version_major": 2,
              "version_minor": 0,
              "model_id": "edd22c97b9284702adf33f74eca99597"
            }
          },
          "metadata": {}
        },
        {
          "output_type": "stream",
          "name": "stdout",
          "text": [
            "Extracting data/FashionMNIST/raw/t10k-labels-idx1-ubyte.gz to data/FashionMNIST/raw\n",
            "\n"
          ]
        }
      ],
      "source": [
        "import torch\n",
        "import numpy as np\n",
        "from torchvision import datasets\n",
        "import torchvision.transforms as transforms\n",
        "from torch.utils.data.sampler import SubsetRandomSampler\n",
        "\n",
        "# number of subprocesses to use for data loading\n",
        "num_workers = 0\n",
        "# how many samples per batch to load\n",
        "batch_size = 100\n",
        "# percentage of training set to use as validation\n",
        "valid_size = 0.2\n",
        "\n",
        "# convert data to torch.FloatTensor\n",
        "transform = transforms.ToTensor()\n",
        "\n",
        "# choose the training and test datasets\n",
        "train_data = datasets.FashionMNIST(root='data', train=True,\n",
        "                                   download=True, transform=transform)\n",
        "test_data = datasets.FashionMNIST(root='data', train=False,\n",
        "                                  download=True, transform=transform)\n",
        "\n",
        "# obtain training indices that will be used for validation\n",
        "num_train = len(train_data)\n",
        "indices = list(range(num_train))\n",
        "np.random.shuffle(indices)\n",
        "split = int(np.floor(valid_size * num_train))\n",
        "train_idx, valid_idx = indices[split:], indices[:split]\n",
        "\n",
        "# define samplers for obtaining training and validation batches\n",
        "train_sampler = SubsetRandomSampler(train_idx)\n",
        "valid_sampler = SubsetRandomSampler(valid_idx)\n",
        "\n",
        "# prepare data loaders (combine dataset and sampler)\n",
        "train_loader = torch.utils.data.DataLoader(train_data, batch_size=batch_size,\n",
        "    sampler=train_sampler, num_workers=num_workers)\n",
        "valid_loader = torch.utils.data.DataLoader(train_data, batch_size=batch_size, \n",
        "    sampler=valid_sampler, num_workers=num_workers)\n",
        "test_loader = torch.utils.data.DataLoader(test_data, batch_size=batch_size, \n",
        "    num_workers=num_workers)\n",
        "\n",
        "# specify the image classes\n",
        "classes = ['T-shirt/top', 'Trouser', 'Pullover', 'Dress', 'Coat', \n",
        "    'Sandal', 'Shirt', 'Sneaker', 'Bag', 'Ankle boot']"
      ]
    },
    {
      "cell_type": "markdown",
      "metadata": {
        "id": "VtSyj5oPIadP"
      },
      "source": [
        "### Visualize Some Training Data"
      ]
    },
    {
      "cell_type": "code",
      "execution_count": 2,
      "metadata": {
        "id": "G4_Xhj00IadP",
        "colab": {
          "base_uri": "https://localhost:8080/",
          "height": 268
        },
        "outputId": "ed1ef5b2-4ac8-47c2-9a54-fde286fdceb8"
      },
      "outputs": [
        {
          "output_type": "display_data",
          "data": {
            "text/plain": [
              "<Figure size 1800x288 with 20 Axes>"
            ],
            "image/png": "[encoded data removed]"
          },
          "metadata": {}
        }
      ],
      "source": [
        "import matplotlib.pyplot as plt\n",
        "%matplotlib inline\n",
        "    \n",
        "# obtain one batch of training images\n",
        "dataiter = iter(train_loader)\n",
        "images, labels = next(dataiter)\n",
        "images = images.numpy()\n",
        "\n",
        "# plot the images in the batch, along with the corresponding labels\n",
        "fig = plt.figure(figsize=(25, 4))\n",
        "for idx in np.arange(20):\n",
        "    ax = fig.add_subplot(2, int(20/2), idx+1, xticks=[], yticks=[])\n",
        "    ax.imshow(np.squeeze(images[idx]), cmap='gray')\n",
        "    ax.set_title(classes[labels[idx]])"
      ]
    },
    {
      "cell_type": "markdown",
      "metadata": {
        "id": "-A_HQmOHIadV"
      },
      "source": [
        "## Архитектура модели\n",
        "\n",
        "Мы создадим MLP (multilayer perceptron), который будем использовать для классификации данных, со следующими характеристиками:\n",
        "\n",
        "\n",
        "* 3 линейных слоя с размерами 256 и 128; \n",
        "\n",
        "* MLP принимает в качестве входных данных выпрямленное изображение (вектор длины 784) и выдает оценку принадлежности объекта к каждому из 10 классов.\n",
        "---\n",
        "Мы проверим влияние различных инициализаций на эту 3-слойную нейронную сеть, обученную с активациями ReLU и оптимизатором Adam.  \n",
        "\n",
        "Полученные выводы применимы и к другим нейронным сетям, включая различные активации и оптимизаторы."
      ]
    },
    {
      "cell_type": "markdown",
      "metadata": {
        "id": "GVgjRR_QIadW"
      },
      "source": [
        "---\n",
        "\n",
        "### All Zeros or Ones\n",
        "Следуя принципам бритвы Оккама ([Occam's razor](https://en.wikipedia.org/wiki/Occam's_razor)), вы могли бы естестевенно подумать, что достаточно проиницализировать все веса нулем или единицей.\n",
        "\n",
        "При одинаковом весе все нейроны в каждом слое выдают одинаковый результат.  Это затрудняет обучение, так как непонятно, какие именно веса в какую сторону нужно менять.\n",
        "\n",
        "Давайте сравним функции потерь для двух моделей, проинициализированных (1) нулями и (2) единицами.\n",
        "\n",
        "Ниже мы используем Pytorch's [nn. init](https://pytorch.org/docs/stable/nn.html#torch-nn-init), чтобы проинициализировать веса каждого линейного слоя константной. Библиотека init предоставляет ряд функций инициализации, которые дают возможность инициализировать веса каждого слоя в соответствии с его типом.\n",
        "Для линейного слоя веса инициализируются следующим образом:\n",
        "\n",
        ">```\n",
        "if isinstance(m, nn.Linear):\n",
        "    nn.init.constant_(m.weight, constant_weight)\n",
        "    nn.init.constant_(m.bias, 0)\n",
        "```\n",
        "\n",
        "где `constant_weight` - значение константы (в нашем случае 0 или 1)."
      ]
    },
    {
      "cell_type": "markdown",
      "metadata": {
        "id": "QWNwHkLuti_Q"
      },
      "source": [
        "**Задание**: определите модель c описанной выше архитуктурой"
      ]
    },
    {
      "cell_type": "code",
      "execution_count": 3,
      "metadata": {
        "id": "4JLlJa8FIadZ"
      },
      "outputs": [],
      "source": [
        "import torch.nn as nn\n",
        "import torch.nn.functional as F\n",
        "\n",
        "# define the NN architecture\n",
        "class Net(nn.Module):\n",
        "    def __init__(self, hidden_1=256, hidden_2=128, constant_weight=None):\n",
        "        super(Net, self).__init__()\n",
        "        # linear layer (784 -> hidden_1)\n",
        "        self.fc1 = nn.Sequential(\n",
        "                        nn.Linear(784, hidden_1),\n",
        "                        nn.ReLU()\n",
        "                    )\n",
        "        # linear layer (hidden_1 -> hidden_2)\n",
        "        self.fc2 = nn.Sequential(\n",
        "                        nn.Linear(hidden_1, hidden_2),\n",
        "                        nn.ReLU()\n",
        "                    )\n",
        "        # linear layer (hidden_2 -> 10)\n",
        "        self.fc3 = nn.Sequential(\n",
        "                        nn.Linear(hidden_2, 10),\n",
        "                        nn.ReLU()\n",
        "                    )\n",
        "        # dropout layer (p=0.2)\n",
        "        self.dropout = nn.Dropout(p=0.2)\n",
        "        \n",
        "        # initialize the weights to a specified, constant value\n",
        "        if(constant_weight is not None):\n",
        "            for m in self.modules():\n",
        "                if isinstance(m, nn.Linear):\n",
        "                    nn.init.constant_(m.weight, constant_weight)\n",
        "                    nn.init.constant_(m.bias, 0)\n",
        "    \n",
        "            \n",
        "    def forward(self, x):\n",
        "        # flatten image input\n",
        "        x = x.view(-1, 28 * 28)\n",
        "        # add hidden layer, with relu activation function\n",
        "        x = F.relu(self.fc1(x))\n",
        "        # add dropout layer\n",
        "        x = self.dropout(x)\n",
        "        # add hidden layer, with relu activation function\n",
        "        x = F.relu(self.fc2(x))\n",
        "        # add dropout layer\n",
        "        x = self.dropout(x)\n",
        "        # add output layer\n",
        "        x = self.fc3(x)\n",
        "        return x\n"
      ]
    },
    {
      "cell_type": "markdown",
      "metadata": {
        "id": "_IaEhz74Iadg"
      },
      "source": [
        "### Сравнение поведения модели\n",
        "\n",
        "Ниже мы используем функцию `.compare_init_weights`, чтобы сравнить функции потерь на обучении и тесте для двух моделей: `model_0` и `model_1`.  Эта функция принимает список моделей (каждая с различными начальными весами), название создаваемого графика, а также загрузчики обучающих и тестовых наборов данных. Для каждой заданной модели эта функцию построит график лосса га обучения для первых 100 батчей и выведет точность валидации после 2 эпох обучения. \n",
        "\n",
        "*Примечание: Если вы использовали батчи меньшего размера, вы можете увеличить количество эпох здесь, чтобы лучше сравнить, как ведут себя модели после просмотра нескольких сотен изображений.* \n",
        "\n",
        "\n",
        "**Задание**: Допишите обучение модели и запустите ячейки ниже, чтобы увидеть разницу между инициализациями всеми нулями и всеми единицами."
      ]
    },
    {
      "cell_type": "code",
      "execution_count": 4,
      "metadata": {
        "id": "MDxbliCuIadh"
      },
      "outputs": [],
      "source": [
        "# initialize two NN's with 0 and 1 constant weights\n",
        "model_0 = Net(constant_weight=0)\n",
        "model_1 = Net(constant_weight=1)"
      ]
    },
    {
      "cell_type": "code",
      "execution_count": 5,
      "metadata": {
        "id": "xrmqVW1MKWHT"
      },
      "outputs": [],
      "source": [
        "\n",
        "def _get_loss_acc(model, train_loader, valid_loader):\n",
        "    \"\"\"\n",
        "    Get losses and validation accuracy of example neural network\n",
        "    \"\"\"\n",
        "    n_epochs = 2\n",
        "    learning_rate = 0.001\n",
        "    \n",
        "    # Training loss\n",
        "    criterion = nn.CrossEntropyLoss()\n",
        "\n",
        "    # Optimizer\n",
        "    optimizer = torch.optim.Adam(model.parameters(), learning_rate)\n",
        "\n",
        "    # Measurements used for graphing loss\n",
        "    loss_batch = []\n",
        "\n",
        "    for epoch in range(1, n_epochs+1):\n",
        "        # initialize var to monitor training loss\n",
        "        train_loss = 0.0\n",
        "        ########################\n",
        "        # TODO train the model #\n",
        "        ########################\n",
        "        for data, target in train_loader:\n",
        "            # clear the gradients of all optimized variables\n",
        "            optimizer.zero_grad()\n",
        "            # forward pass: compute predicted outputs by passing inputs to the model\n",
        "            output = model(data)\n",
        "            # calculate the batch loss\n",
        "            loss = criterion(output, target)\n",
        "            # backward pass: compute gradient of the loss with respect to model parameters\n",
        "            # perform a single optimization step (parameter update)\n",
        "            # record average batch loss \n",
        "            \n",
        "            loss.backward()\n",
        "            optimizer.step()\n",
        "            loss_batch.append(loss.item())\n",
        "\n",
        "             \n",
        "    # after training for 2 epochs, check validation accuracy \n",
        "    correct = 0\n",
        "    total = 0\n",
        "    for data, target in valid_loader:\n",
        "        # forward pass: compute predicted outputs by passing inputs to the model\n",
        "        output = model(data)\n",
        "        # get the predicted class from the maximum class score\n",
        "        _, predicted = torch.max(output.data, 1)\n",
        "        # count up total number of correct labels\n",
        "        # for which the predicted and true labels are equal\n",
        "        total += target.size(0)\n",
        "        correct += (predicted == target).sum()\n",
        "      \n",
        "    # calculate the accuracy\n",
        "    # to convert `correct` from a Tensor into a scalar, use .item()\n",
        "    valid_acc = correct.item() / total\n",
        "    # return model stats\n",
        "    return loss_batch, valid_acc\n"
      ]
    },
    {
      "cell_type": "code",
      "execution_count": 6,
      "metadata": {
        "id": "JKNMCYznIadn"
      },
      "outputs": [],
      "source": [
        "\n",
        "def compare_init_weights(\n",
        "        model_list,\n",
        "        plot_title,\n",
        "        train_loader,\n",
        "        valid_loader,\n",
        "        plot_n_batches=100):\n",
        "    \"\"\"\n",
        "    Plot loss and print stats of weights using an example neural network\n",
        "    \"\"\"\n",
        "    colors = ['r', 'b', 'g', 'c', 'y', 'k']\n",
        "    label_accs = []\n",
        "    label_loss = []\n",
        "\n",
        "    assert len(model_list) <= len(colors), 'Too many initial weights to plot'\n",
        "\n",
        "    for i, (model, label) in enumerate(model_list):\n",
        "        torch.save(model.state_dict(), f\"{label}.pt\")\n",
        "\n",
        "        loss, val_acc = _get_loss_acc(model, train_loader, valid_loader)\n",
        "        print(loss)\n",
        "        plt.plot(loss[:plot_n_batches], colors[i], label=label)\n",
        "        label_accs.append((label, val_acc))\n",
        "        label_loss.append((label, loss[-1]))\n",
        "\n",
        "    plt.title(plot_title)\n",
        "    plt.xlabel('Batches')\n",
        "    plt.ylabel('Loss')\n",
        "    plt.legend(bbox_to_anchor=(1.05, 1), loc=2, borderaxespad=0.)\n",
        "    plt.show()\n",
        "\n",
        "    print('After 2 Epochs:')\n",
        "    print('Validation Accuracy')\n",
        "    for label, val_acc in label_accs:\n",
        "        print('  {:7.3f}% -- {}'.format(val_acc*100, label))\n",
        "    print('Training Loss')\n",
        "    for label, loss in label_loss:\n",
        "        print('  {:7.3f}  -- {}'.format(loss, label))\n"
      ]
    },
    {
      "cell_type": "code",
      "execution_count": 7,
      "metadata": {
        "id": "C4H_ov6gKPC2",
        "colab": {
          "base_uri": "https://localhost:8080/",
          "height": 479
        },
        "outputId": "ba0ed2a1-e7b2-4407-c2ea-c5fc0961ecba"
      },
      "outputs": [
        {
          "output_type": "stream",
          "name": "stdout",
          "text": [
            "[2.3025853633880615, 2.3025853633880615, 2.3025853633880615, 2.3025853633880615, 2.3025853633880615, 2.3025853633880615, 2.3025853633880615, 2.3025853633880615, 2.3025853633880615, 2.3025853633880615, 2.3025853633880615, 2.3025853633880615, 2.3025853633880615, 2.3025853633880615, 2.3025853633880615, 2.3025853633880615, 2.3025853633880615, 2.3025853633880615, 2.3025853633880615, 2.3025853633880615, 2.3025853633880615, 2.3025853633880615, 2.3025853633880615, 2.3025853633880615, 2.3025853633880615, 2.3025853633880615, 2.3025853633880615, 2.3025853633880615, 2.3025853633880615, 2.3025853633880615, 2.3025853633880615, 2.3025853633880615, 2.3025853633880615, 2.3025853633880615, 2.3025853633880615, 2.3025853633880615, 2.3025853633880615, 2.3025853633880615, 2.3025853633880615, 2.3025853633880615, 2.3025853633880615, 2.3025853633880615, 2.3025853633880615, 2.3025853633880615, 2.3025853633880615, 2.3025853633880615, 2.3025853633880615, 2.3025853633880615, 2.3025853633880615, 2.3025853633880615, 2.3025853633880615, 2.3025853633880615, 2.3025853633880615, 2.3025853633880615, 2.3025853633880615, 2.3025853633880615, 2.3025853633880615, 2.3025853633880615, 2.3025853633880615, 2.3025853633880615, 2.3025853633880615, 2.3025853633880615, 2.3025853633880615, 2.3025853633880615, 2.3025853633880615, 2.3025853633880615, 2.3025853633880615, 2.3025853633880615, 2.3025853633880615, 2.3025853633880615, 2.3025853633880615, 2.3025853633880615, 2.3025853633880615, 2.3025853633880615, 2.3025853633880615, 2.3025853633880615, 2.3025853633880615, 2.3025853633880615, 2.3025853633880615, 2.3025853633880615, 2.3025853633880615, 2.3025853633880615, 2.3025853633880615, 2.3025853633880615, 2.3025853633880615, 2.3025853633880615, 2.3025853633880615, 2.3025853633880615, 2.3025853633880615, 2.3025853633880615, 2.3025853633880615, 2.3025853633880615, 2.3025853633880615, 2.3025853633880615, 2.3025853633880615, 2.3025853633880615, 2.3025853633880615, 2.3025853633880615, 2.3025853633880615, 2.3025853633880615, 2.3025853633880615, 2.3025853633880615, 2.3025853633880615, 2.3025853633880615, 2.3025853633880615, 2.3025853633880615, 2.3025853633880615, 2.3025853633880615, 2.3025853633880615, 2.3025853633880615, 2.3025853633880615, 2.3025853633880615, 2.3025853633880615, 2.3025853633880615, 2.3025853633880615, 2.3025853633880615, 2.3025853633880615, 2.3025853633880615, 2.3025853633880615, 2.3025853633880615, 2.3025853633880615, 2.3025853633880615, 2.3025853633880615, 2.3025853633880615, 2.3025853633880615, 2.3025853633880615, 2.3025853633880615, 2.3025853633880615, 2.3025853633880615, 2.3025853633880615, 2.3025853633880615, 2.3025853633880615, 2.3025853633880615, 2.3025853633880615, 2.3025853633880615, 2.3025853633880615, 2.3025853633880615, 2.3025853633880615, 2.3025853633880615, 2.3025853633880615, 2.3025853633880615, 2.3025853633880615, 2.3025853633880615, 2.3025853633880615, 2.3025853633880615, 2.3025853633880615, 2.3025853633880615, 2.3025853633880615, 2.3025853633880615, 2.3025853633880615, 2.3025853633880615, 2.3025853633880615, 2.3025853633880615, 2.3025853633880615, 2.3025853633880615, 2.3025853633880615, 2.3025853633880615, 2.3025853633880615, 2.3025853633880615, 2.3025853633880615, 2.3025853633880615, 2.3025853633880615, 2.3025853633880615, 2.3025853633880615, 2.3025853633880615, 2.3025853633880615, 2.3025853633880615, 2.3025853633880615, 2.3025853633880615, 2.3025853633880615, 2.3025853633880615, 2.3025853633880615, 2.3025853633880615, 2.3025853633880615, 2.3025853633880615, 2.3025853633880615, 2.3025853633880615, 2.3025853633880615, 2.3025853633880615, 2.3025853633880615, 2.3025853633880615, 2.3025853633880615, 2.3025853633880615, 2.3025853633880615, 2.3025853633880615, 2.3025853633880615, 2.3025853633880615, 2.3025853633880615, 2.3025853633880615, 2.3025853633880615, 2.3025853633880615, 2.3025853633880615, 2.3025853633880615, 2.3025853633880615, 2.3025853633880615, 2.3025853633880615, 2.3025853633880615, 2.3025853633880615, 2.3025853633880615, 2.3025853633880615, 2.3025853633880615, 2.3025853633880615, 2.3025853633880615, 2.3025853633880615, 2.3025853633880615, 2.3025853633880615, 2.3025853633880615, 2.3025853633880615, 2.3025853633880615, 2.3025853633880615, 2.3025853633880615, 2.3025853633880615, 2.3025853633880615, 2.3025853633880615, 2.3025853633880615, 2.3025853633880615, 2.3025853633880615, 2.3025853633880615, 2.3025853633880615, 2.3025853633880615, 2.3025853633880615, 2.3025853633880615, 2.3025853633880615, 2.3025853633880615, 2.3025853633880615, 2.3025853633880615, 2.3025853633880615, 2.3025853633880615, 2.3025853633880615, 2.3025853633880615, 2.3025853633880615, 2.3025853633880615, 2.3025853633880615, 2.3025853633880615, 2.3025853633880615, 2.3025853633880615, 2.3025853633880615, 2.3025853633880615, 2.3025853633880615, 2.3025853633880615, 2.3025853633880615, 2.3025853633880615, 2.3025853633880615, 2.3025853633880615, 2.3025853633880615, 2.3025853633880615, 2.3025853633880615, 2.3025853633880615, 2.3025853633880615, 2.3025853633880615, 2.3025853633880615, 2.3025853633880615, 2.3025853633880615, 2.3025853633880615, 2.3025853633880615, 2.3025853633880615, 2.3025853633880615, 2.3025853633880615, 2.3025853633880615, 2.3025853633880615, 2.3025853633880615, 2.3025853633880615, 2.3025853633880615, 2.3025853633880615, 2.3025853633880615, 2.3025853633880615, 2.3025853633880615, 2.3025853633880615, 2.3025853633880615, 2.3025853633880615, 2.3025853633880615, 2.3025853633880615, 2.3025853633880615, 2.3025853633880615, 2.3025853633880615, 2.3025853633880615, 2.3025853633880615, 2.3025853633880615, 2.3025853633880615, 2.3025853633880615, 2.3025853633880615, 2.3025853633880615, 2.3025853633880615, 2.3025853633880615, 2.3025853633880615, 2.3025853633880615, 2.3025853633880615, 2.3025853633880615, 2.3025853633880615, 2.3025853633880615, 2.3025853633880615, 2.3025853633880615, 2.3025853633880615, 2.3025853633880615, 2.3025853633880615, 2.3025853633880615, 2.3025853633880615, 2.3025853633880615, 2.3025853633880615, 2.3025853633880615, 2.3025853633880615, 2.3025853633880615, 2.3025853633880615, 2.3025853633880615, 2.3025853633880615, 2.3025853633880615, 2.3025853633880615, 2.3025853633880615, 2.3025853633880615, 2.3025853633880615, 2.3025853633880615, 2.3025853633880615, 2.3025853633880615, 2.3025853633880615, 2.3025853633880615, 2.3025853633880615, 2.3025853633880615, 2.3025853633880615, 2.3025853633880615, 2.3025853633880615, 2.3025853633880615, 2.3025853633880615, 2.3025853633880615, 2.3025853633880615, 2.3025853633880615, 2.3025853633880615, 2.3025853633880615, 2.3025853633880615, 2.3025853633880615, 2.3025853633880615, 2.3025853633880615, 2.3025853633880615, 2.3025853633880615, 2.3025853633880615, 2.3025853633880615, 2.3025853633880615, 2.3025853633880615, 2.3025853633880615, 2.3025853633880615, 2.3025853633880615, 2.3025853633880615, 2.3025853633880615, 2.3025853633880615, 2.3025853633880615, 2.3025853633880615, 2.3025853633880615, 2.3025853633880615, 2.3025853633880615, 2.3025853633880615, 2.3025853633880615, 2.3025853633880615, 2.3025853633880615, 2.3025853633880615, 2.3025853633880615, 2.3025853633880615, 2.3025853633880615, 2.3025853633880615, 2.3025853633880615, 2.3025853633880615, 2.3025853633880615, 2.3025853633880615, 2.3025853633880615, 2.3025853633880615, 2.3025853633880615, 2.3025853633880615, 2.3025853633880615, 2.3025853633880615, 2.3025853633880615, 2.3025853633880615, 2.3025853633880615, 2.3025853633880615, 2.3025853633880615, 2.3025853633880615, 2.3025853633880615, 2.3025853633880615, 2.3025853633880615, 2.3025853633880615, 2.3025853633880615, 2.3025853633880615, 2.3025853633880615, 2.3025853633880615, 2.3025853633880615, 2.3025853633880615, 2.3025853633880615, 2.3025853633880615, 2.3025853633880615, 2.3025853633880615, 2.3025853633880615, 2.3025853633880615, 2.3025853633880615, 2.3025853633880615, 2.3025853633880615, 2.3025853633880615, 2.3025853633880615, 2.3025853633880615, 2.3025853633880615, 2.3025853633880615, 2.3025853633880615, 2.3025853633880615, 2.3025853633880615, 2.3025853633880615, 2.3025853633880615, 2.3025853633880615, 2.3025853633880615, 2.3025853633880615, 2.3025853633880615, 2.3025853633880615, 2.3025853633880615, 2.3025853633880615, 2.3025853633880615, 2.3025853633880615, 2.3025853633880615, 2.3025853633880615, 2.3025853633880615, 2.3025853633880615, 2.3025853633880615, 2.3025853633880615, 2.3025853633880615, 2.3025853633880615, 2.3025853633880615, 2.3025853633880615, 2.3025853633880615, 2.3025853633880615, 2.3025853633880615, 2.3025853633880615, 2.3025853633880615, 2.3025853633880615, 2.3025853633880615, 2.3025853633880615, 2.3025853633880615, 2.3025853633880615, 2.3025853633880615, 2.3025853633880615, 2.3025853633880615, 2.3025853633880615, 2.3025853633880615, 2.3025853633880615, 2.3025853633880615, 2.3025853633880615, 2.3025853633880615, 2.3025853633880615, 2.3025853633880615, 2.3025853633880615, 2.3025853633880615, 2.3025853633880615, 2.3025853633880615, 2.3025853633880615, 2.3025853633880615, 2.3025853633880615, 2.3025853633880615, 2.3025853633880615, 2.3025853633880615, 2.3025853633880615, 2.3025853633880615, 2.3025853633880615, 2.3025853633880615, 2.3025853633880615, 2.3025853633880615, 2.3025853633880615, 2.3025853633880615, 2.3025853633880615, 2.3025853633880615, 2.3025853633880615, 2.3025853633880615, 2.3025853633880615, 2.3025853633880615, 2.3025853633880615, 2.3025853633880615, 2.3025853633880615, 2.3025853633880615, 2.3025853633880615, 2.3025853633880615, 2.3025853633880615, 2.3025853633880615, 2.3025853633880615, 2.3025853633880615, 2.3025853633880615, 2.3025853633880615, 2.3025853633880615, 2.3025853633880615, 2.3025853633880615, 2.3025853633880615, 2.3025853633880615, 2.3025853633880615, 2.3025853633880615, 2.3025853633880615, 2.3025853633880615, 2.3025853633880615, 2.3025853633880615, 2.3025853633880615, 2.3025853633880615, 2.3025853633880615, 2.3025853633880615, 2.3025853633880615, 2.3025853633880615, 2.3025853633880615, 2.3025853633880615, 2.3025853633880615, 2.3025853633880615, 2.3025853633880615, 2.3025853633880615, 2.3025853633880615, 2.3025853633880615, 2.3025853633880615, 2.3025853633880615, 2.3025853633880615, 2.3025853633880615, 2.3025853633880615, 2.3025853633880615, 2.3025853633880615, 2.3025853633880615, 2.3025853633880615, 2.3025853633880615, 2.3025853633880615, 2.3025853633880615, 2.3025853633880615, 2.3025853633880615, 2.3025853633880615, 2.3025853633880615, 2.3025853633880615, 2.3025853633880615, 2.3025853633880615, 2.3025853633880615, 2.3025853633880615, 2.3025853633880615, 2.3025853633880615, 2.3025853633880615, 2.3025853633880615, 2.3025853633880615, 2.3025853633880615, 2.3025853633880615, 2.3025853633880615, 2.3025853633880615, 2.3025853633880615, 2.3025853633880615, 2.3025853633880615, 2.3025853633880615, 2.3025853633880615, 2.3025853633880615, 2.3025853633880615, 2.3025853633880615, 2.3025853633880615, 2.3025853633880615, 2.3025853633880615, 2.3025853633880615, 2.3025853633880615, 2.3025853633880615, 2.3025853633880615, 2.3025853633880615, 2.3025853633880615, 2.3025853633880615, 2.3025853633880615, 2.3025853633880615, 2.3025853633880615, 2.3025853633880615, 2.3025853633880615, 2.3025853633880615, 2.3025853633880615, 2.3025853633880615, 2.3025853633880615, 2.3025853633880615, 2.3025853633880615, 2.3025853633880615, 2.3025853633880615, 2.3025853633880615, 2.3025853633880615, 2.3025853633880615, 2.3025853633880615, 2.3025853633880615, 2.3025853633880615, 2.3025853633880615, 2.3025853633880615, 2.3025853633880615, 2.3025853633880615, 2.3025853633880615, 2.3025853633880615, 2.3025853633880615, 2.3025853633880615, 2.3025853633880615, 2.3025853633880615, 2.3025853633880615, 2.3025853633880615, 2.3025853633880615, 2.3025853633880615, 2.3025853633880615, 2.3025853633880615, 2.3025853633880615, 2.3025853633880615, 2.3025853633880615, 2.3025853633880615, 2.3025853633880615, 2.3025853633880615, 2.3025853633880615, 2.3025853633880615, 2.3025853633880615, 2.3025853633880615, 2.3025853633880615, 2.3025853633880615, 2.3025853633880615, 2.3025853633880615, 2.3025853633880615, 2.3025853633880615, 2.3025853633880615, 2.3025853633880615, 2.3025853633880615, 2.3025853633880615, 2.3025853633880615, 2.3025853633880615, 2.3025853633880615, 2.3025853633880615, 2.3025853633880615, 2.3025853633880615, 2.3025853633880615, 2.3025853633880615, 2.3025853633880615, 2.3025853633880615, 2.3025853633880615, 2.3025853633880615, 2.3025853633880615, 2.3025853633880615, 2.3025853633880615, 2.3025853633880615, 2.3025853633880615, 2.3025853633880615, 2.3025853633880615, 2.3025853633880615, 2.3025853633880615, 2.3025853633880615, 2.3025853633880615, 2.3025853633880615, 2.3025853633880615, 2.3025853633880615, 2.3025853633880615, 2.3025853633880615, 2.3025853633880615, 2.3025853633880615, 2.3025853633880615, 2.3025853633880615, 2.3025853633880615, 2.3025853633880615, 2.3025853633880615, 2.3025853633880615, 2.3025853633880615, 2.3025853633880615, 2.3025853633880615, 2.3025853633880615, 2.3025853633880615, 2.3025853633880615, 2.3025853633880615, 2.3025853633880615, 2.3025853633880615, 2.3025853633880615, 2.3025853633880615, 2.3025853633880615, 2.3025853633880615, 2.3025853633880615, 2.3025853633880615, 2.3025853633880615, 2.3025853633880615, 2.3025853633880615, 2.3025853633880615, 2.3025853633880615, 2.3025853633880615, 2.3025853633880615, 2.3025853633880615, 2.3025853633880615, 2.3025853633880615, 2.3025853633880615, 2.3025853633880615, 2.3025853633880615, 2.3025853633880615, 2.3025853633880615, 2.3025853633880615, 2.3025853633880615, 2.3025853633880615, 2.3025853633880615, 2.3025853633880615, 2.3025853633880615, 2.3025853633880615, 2.3025853633880615, 2.3025853633880615, 2.3025853633880615, 2.3025853633880615, 2.3025853633880615, 2.3025853633880615, 2.3025853633880615, 2.3025853633880615, 2.3025853633880615, 2.3025853633880615, 2.3025853633880615, 2.3025853633880615, 2.3025853633880615, 2.3025853633880615, 2.3025853633880615, 2.3025853633880615, 2.3025853633880615, 2.3025853633880615, 2.3025853633880615, 2.3025853633880615, 2.3025853633880615, 2.3025853633880615, 2.3025853633880615, 2.3025853633880615, 2.3025853633880615, 2.3025853633880615, 2.3025853633880615, 2.3025853633880615, 2.3025853633880615, 2.3025853633880615, 2.3025853633880615, 2.3025853633880615, 2.3025853633880615, 2.3025853633880615, 2.3025853633880615, 2.3025853633880615, 2.3025853633880615, 2.3025853633880615, 2.3025853633880615, 2.3025853633880615, 2.3025853633880615, 2.3025853633880615, 2.3025853633880615, 2.3025853633880615, 2.3025853633880615, 2.3025853633880615, 2.3025853633880615, 2.3025853633880615, 2.3025853633880615, 2.3025853633880615, 2.3025853633880615, 2.3025853633880615, 2.3025853633880615, 2.3025853633880615, 2.3025853633880615, 2.3025853633880615, 2.3025853633880615, 2.3025853633880615, 2.3025853633880615, 2.3025853633880615, 2.3025853633880615, 2.3025853633880615, 2.3025853633880615, 2.3025853633880615, 2.3025853633880615, 2.3025853633880615, 2.3025853633880615, 2.3025853633880615, 2.3025853633880615, 2.3025853633880615, 2.3025853633880615, 2.3025853633880615, 2.3025853633880615, 2.3025853633880615, 2.3025853633880615, 2.3025853633880615, 2.3025853633880615, 2.3025853633880615, 2.3025853633880615, 2.3025853633880615, 2.3025853633880615, 2.3025853633880615, 2.3025853633880615, 2.3025853633880615, 2.3025853633880615, 2.3025853633880615, 2.3025853633880615, 2.3025853633880615, 2.3025853633880615, 2.3025853633880615, 2.3025853633880615, 2.3025853633880615, 2.3025853633880615, 2.3025853633880615, 2.3025853633880615, 2.3025853633880615, 2.3025853633880615, 2.3025853633880615, 2.3025853633880615, 2.3025853633880615, 2.3025853633880615, 2.3025853633880615, 2.3025853633880615, 2.3025853633880615, 2.3025853633880615, 2.3025853633880615, 2.3025853633880615, 2.3025853633880615, 2.3025853633880615, 2.3025853633880615, 2.3025853633880615, 2.3025853633880615, 2.3025853633880615, 2.3025853633880615, 2.3025853633880615, 2.3025853633880615, 2.3025853633880615, 2.3025853633880615, 2.3025853633880615, 2.3025853633880615, 2.3025853633880615, 2.3025853633880615, 2.3025853633880615, 2.3025853633880615, 2.3025853633880615, 2.3025853633880615, 2.3025853633880615, 2.3025853633880615, 2.3025853633880615, 2.3025853633880615, 2.3025853633880615, 2.3025853633880615, 2.3025853633880615, 2.3025853633880615, 2.3025853633880615, 2.3025853633880615, 2.3025853633880615, 2.3025853633880615, 2.3025853633880615, 2.3025853633880615, 2.3025853633880615, 2.3025853633880615, 2.3025853633880615, 2.3025853633880615, 2.3025853633880615, 2.3025853633880615, 2.3025853633880615, 2.3025853633880615, 2.3025853633880615, 2.3025853633880615, 2.3025853633880615, 2.3025853633880615, 2.3025853633880615, 2.3025853633880615, 2.3025853633880615, 2.3025853633880615, 2.3025853633880615, 2.3025853633880615, 2.3025853633880615, 2.3025853633880615, 2.3025853633880615, 2.3025853633880615, 2.3025853633880615, 2.3025853633880615, 2.3025853633880615, 2.3025853633880615, 2.3025853633880615, 2.3025853633880615, 2.3025853633880615, 2.3025853633880615, 2.3025853633880615, 2.3025853633880615, 2.3025853633880615, 2.3025853633880615, 2.3025853633880615, 2.3025853633880615, 2.3025853633880615, 2.3025853633880615, 2.3025853633880615, 2.3025853633880615, 2.3025853633880615, 2.3025853633880615, 2.3025853633880615, 2.3025853633880615, 2.3025853633880615, 2.3025853633880615, 2.3025853633880615, 2.3025853633880615, 2.3025853633880615, 2.3025853633880615, 2.3025853633880615, 2.3025853633880615, 2.3025853633880615, 2.3025853633880615, 2.3025853633880615, 2.3025853633880615, 2.3025853633880615, 2.3025853633880615, 2.3025853633880615, 2.3025853633880615, 2.3025853633880615, 2.3025853633880615, 2.3025853633880615, 2.3025853633880615, 2.3025853633880615, 2.3025853633880615, 2.3025853633880615, 2.3025853633880615, 2.3025853633880615, 2.3025853633880615, 2.3025853633880615, 2.3025853633880615, 2.3025853633880615, 2.3025853633880615, 2.3025853633880615, 2.3025853633880615, 2.3025853633880615, 2.3025853633880615, 2.3025853633880615, 2.3025853633880615, 2.3025853633880615, 2.3025853633880615, 2.3025853633880615, 2.3025853633880615, 2.3025853633880615, 2.3025853633880615, 2.3025853633880615, 2.3025853633880615, 2.3025853633880615, 2.3025853633880615, 2.3025853633880615, 2.3025853633880615, 2.3025853633880615, 2.3025853633880615, 2.3025853633880615, 2.3025853633880615, 2.3025853633880615, 2.3025853633880615, 2.3025853633880615, 2.3025853633880615, 2.3025853633880615, 2.3025853633880615, 2.3025853633880615, 2.3025853633880615, 2.3025853633880615, 2.3025853633880615, 2.3025853633880615, 2.3025853633880615, 2.3025853633880615, 2.3025853633880615, 2.3025853633880615, 2.3025853633880615, 2.3025853633880615, 2.3025853633880615, 2.3025853633880615, 2.3025853633880615, 2.3025853633880615, 2.3025853633880615, 2.3025853633880615, 2.3025853633880615, 2.3025853633880615, 2.3025853633880615, 2.3025853633880615, 2.3025853633880615, 2.3025853633880615, 2.3025853633880615, 2.3025853633880615, 2.3025853633880615, 2.3025853633880615, 2.3025853633880615, 2.3025853633880615, 2.3025853633880615, 2.3025853633880615, 2.3025853633880615, 2.3025853633880615, 2.3025853633880615, 2.3025853633880615, 2.3025853633880615, 2.3025853633880615, 2.3025853633880615, 2.3025853633880615]\n",
            "[2.3025853633880615, 8118.958984375, 12258.947265625, 7788.73876953125, 10110.92578125, 8164.2001953125, 8437.4501953125, 14376.525390625, 20765.720703125, 13761.2333984375, 17072.900390625, 13000.87890625, 12042.37890625, 6733.267578125, 10755.8984375, 8049.7685546875, 6483.958984375, 5986.611328125, 6237.07373046875, 9358.0, 9400.2197265625, 7597.24755859375, 9314.15625, 9123.7412109375, 9716.26953125, 9468.412109375, 7631.564453125, 7623.08251953125, 6346.99755859375, 5528.3681640625, 5924.1435546875, 5209.083984375, 4787.615234375, 4714.263671875, 5843.87646484375, 6432.35986328125, 5477.544921875, 5971.955078125, 5036.8037109375, 3998.38427734375, 5389.66357421875, 4785.60546875, 5501.853515625, 6084.42138671875, 5434.1181640625, 3506.6669921875, 4552.7724609375, 3245.498779296875, 3473.13623046875, 3854.19384765625, 2769.2802734375, 2488.140869140625, 2953.65380859375, 3411.885009765625, 2710.76123046875, 2766.548828125, 3255.6337890625, 2309.79150390625, 2836.19873046875, 2948.640625, 2796.169921875, 2178.5595703125, 2880.327392578125, 2880.017578125, 3414.57373046875, 2038.0433349609375, 1951.434326171875, 1772.4776611328125, 2016.166259765625, 2170.08056640625, 2065.03076171875, 2245.188720703125, 1514.3690185546875, 1540.4659423828125, 1753.083740234375, 1725.89501953125, 1894.572509765625, 2153.063720703125, 2744.742431640625, 2626.66259765625, 2536.21875, 2770.612548828125, 2217.163818359375, 2835.953857421875, 2580.892578125, 2388.03515625, 2544.22119140625, 2951.245849609375, 3512.68505859375, 2953.554931640625, 2821.6650390625, 3322.614990234375, 2573.62451171875, 2592.4287109375, 2858.261962890625, 3080.9423828125, 3263.070068359375, 2830.550048828125, 3365.7138671875, 3233.133056640625, 1907.515625, 1982.43505859375, 2361.043212890625, 3364.08056640625, 3020.507568359375, 2462.439453125, 3425.336181640625, 3469.91748046875, 2247.87890625, 2908.300537109375, 1595.0921630859375, 1525.9737548828125, 1794.6231689453125, 2101.788818359375, 2473.570068359375, 2409.169921875, 3036.44384765625, 2320.3671875, 2269.597900390625, 1549.9671630859375, 1120.0167236328125, 1277.1982421875, 1890.860107421875, 1586.428466796875, 1209.839111328125, 1376.1925048828125, 1413.8824462890625, 2086.4375, 1837.0224609375, 1481.8363037109375, 1404.6131591796875, 1328.177490234375, 1509.765625, 1493.1011962890625, 1775.440185546875, 1580.34912109375, 2061.71630859375, 1754.923095703125, 1948.76123046875, 2585.590087890625, 2656.462158203125, 2163.708740234375, 2315.016357421875, 1775.1298828125, 1867.594970703125, 2650.108642578125, 2716.56884765625, 2973.288818359375, 3366.24365234375, 2948.972900390625, 3309.6474609375, 1973.5552978515625, 1171.285888671875, 1739.4512939453125, 1413.87548828125, 1322.1156005859375, 1682.6412353515625, 1201.772705078125, 1540.197998046875, 1270.2459716796875, 1907.8487548828125, 2317.31591796875, 2841.701171875, 1263.2938232421875, 1191.4044189453125, 2246.308837890625, 1874.541259765625, 2886.52001953125, 2334.441162109375, 2306.4287109375, 1895.5128173828125, 2538.77880859375, 2517.09619140625, 1732.533935546875, 1615.2275390625, 1816.6990966796875, 2226.272705078125, 2309.492431640625, 1940.9237060546875, 1928.07177734375, 2376.314208984375, 2693.1611328125, 1464.385009765625, 1936.637451171875, 1999.8175048828125, 2362.762939453125, 2956.58154296875, 2881.71875, 2398.222412109375, 2202.6962890625, 2253.6767578125, 1966.7406005859375, 2218.487548828125, 1485.9337158203125, 1462.4425048828125, 1567.032470703125, 1766.824951171875, 1193.63623046875, 1015.0111694335938, 1678.4178466796875, 2382.510986328125, 2786.66748046875, 2514.804931640625, 2063.5224609375, 1158.68505859375, 1502.7900390625, 1327.2728271484375, 1636.6600341796875, 1978.7149658203125, 1878.106201171875, 2467.34619140625, 1986.3480224609375, 2003.314208984375, 2235.010009765625, 1965.6087646484375, 1500.5601806640625, 1400.1973876953125, 1825.8753662109375, 1386.4293212890625, 2162.589599609375, 1368.2828369140625, 1712.9990234375, 1610.100341796875, 1578.7841796875, 1855.1568603515625, 2054.048828125, 2262.517578125, 1696.56005859375, 2023.71142578125, 2772.242431640625, 1774.723876953125, 1377.9378662109375, 1332.9432373046875, 1462.1427001953125, 1703.7203369140625, 2128.6298828125, 2548.04248046875, 2176.994873046875, 2201.8369140625, 2041.0386962890625, 2599.322509765625, 2952.511962890625, 2805.159912109375, 1424.2049560546875, 2131.71240234375, 2900.867431640625, 2948.1181640625, 2393.136962890625, 3446.7119140625, 2754.683837890625, 3137.75927734375, 3194.851318359375, 2970.0146484375, 3232.34130859375, 2429.64697265625, 1750.330322265625, 1903.8336181640625, 2156.0830078125, 2390.22509765625, 3254.374267578125, 3556.539306640625, 4105.0537109375, 3083.65283203125, 3254.699951171875, 4628.52490234375, 4341.3037109375, 3759.778076171875, 3436.50634765625, 2278.44091796875, 2529.830078125, 2760.017578125, 1988.64501953125, 1867.6737060546875, 1967.1424560546875, 2450.418701171875, 2588.357421875, 2183.856201171875, 2454.63037109375, 2231.418701171875, 2173.964599609375, 1471.950439453125, 1427.149658203125, 3113.652587890625, 2193.580078125, 1989.7099609375, 1540.046142578125, 1403.6207275390625, 1401.77197265625, 1925.5919189453125, 2066.733642578125, 2442.366455078125, 2009.3939208984375, 1685.146240234375, 1870.16943359375, 1762.1077880859375, 1482.1923828125, 1491.2052001953125, 1883.2010498046875, 2472.7138671875, 2359.7861328125, 2276.986328125, 1696.2978515625, 1923.451904296875, 2078.266357421875, 2362.57568359375, 2235.103759765625, 2385.616943359375, 1518.0306396484375, 1579.260986328125, 1837.1287841796875, 2079.9375, 2037.6077880859375, 2358.28369140625, 1855.3123779296875, 2123.7421875, 1791.5244140625, 1513.52880859375, 1273.8375244140625, 1255.5230712890625, 1318.2115478515625, 1982.0306396484375, 2157.228759765625, 1435.337158203125, 2061.3046875, 1603.216552734375, 1561.2574462890625, 1004.9974365234375, 968.1620483398438, 1457.2529296875, 1647.3349609375, 1128.6300048828125, 1054.58251953125, 1360.94140625, 1750.3924560546875, 1796.162841796875, 2060.542724609375, 2087.82177734375, 2017.53662109375, 2871.545654296875, 2278.45458984375, 1968.13037109375, 2360.75244140625, 1761.3271484375, 1746.4140625, 2252.57373046875, 1551.014892578125, 1398.24755859375, 1527.936767578125, 2131.25634765625, 2875.2919921875, 2544.486328125, 1862.31494140625, 1949.91650390625, 2625.00439453125, 2872.892578125, 1616.3846435546875, 1636.388427734375, 1461.8018798828125, 1517.6011962890625, 1547.3543701171875, 1625.362548828125, 1567.87646484375, 1488.9981689453125, 2025.859375, 1323.02685546875, 1409.1400146484375, 1673.8787841796875, 1638.2149658203125, 2148.492431640625, 1510.4720458984375, 1902.4954833984375, 2097.79931640625, 2062.06494140625, 1885.97314453125, 1858.1787109375, 1585.2554931640625, 1566.0855712890625, 1553.1112060546875, 1632.57373046875, 700.819091796875, 1358.9224853515625, 1527.969970703125, 1824.42578125, 1239.03564453125, 1499.724365234375, 1549.681884765625, 1381.1820068359375, 1352.9481201171875, 909.90966796875, 1175.36767578125, 955.2238159179688, 1205.9879150390625, 1056.6663818359375, 1405.01123046875, 1593.1556396484375, 1978.07373046875, 1814.6083984375, 2165.64990234375, 1401.0899658203125, 1181.3583984375, 1012.8785400390625, 1421.65673828125, 1385.47119140625, 1488.0882568359375, 1641.0133056640625, 1695.199951171875, 1198.5029296875, 1387.378173828125, 1298.40380859375, 1338.15283203125, 1145.61669921875, 1105.1060791015625, 1182.06591796875, 1601.2177734375, 1781.0550537109375, 2137.735107421875, 1785.612548828125, 1956.03369140625, 1706.8912353515625, 1489.9136962890625, 1316.41455078125, 1026.49169921875, 1000.2479858398438, 1063.4508056640625, 753.39501953125, 729.14208984375, 812.7971801757812, 1003.06298828125, 1041.77001953125, 941.592041015625, 961.131103515625, 1330.3199462890625, 1345.2550048828125, 1359.6768798828125, 1238.157470703125, 1325.596923828125, 855.3739013671875, 1009.5999755859375, 812.4317016601562, 1283.030029296875, 1486.724365234375, 1078.3360595703125, 968.220703125, 684.1211547851562, 658.1453857421875, 711.8392944335938, 738.8535766601562, 1200.6324462890625, 890.9307250976562, 748.6238403320312, 1035.17431640625, 926.8662719726562, 994.017822265625, 1283.1898193359375, 933.3411865234375, 963.6365356445312, 1244.28955078125, 1118.5635986328125, 870.65673828125, 1090.938720703125, 1400.3687744140625, 937.2391967773438, 1520.4749755859375, 1626.64794921875, 1485.293701171875, 1468.78125, 1142.1644287109375, 1037.1192626953125, 826.1883544921875, 1311.0584716796875, 1485.9931640625, 1165.806884765625, 1457.7537841796875, 1340.85595703125, 1735.4324951171875, 1246.762451171875, 1386.869384765625, 1670.603271484375, 1915.0687255859375, 1077.987060546875, 1142.1650390625, 1353.6468505859375, 1254.83056640625, 992.32275390625, 951.369384765625, 862.017822265625, 757.0863037109375, 877.9795532226562, 801.571044921875, 893.0731811523438, 572.63623046875, 786.8629760742188, 764.855224609375, 928.1571655273438, 936.302490234375, 920.862548828125, 1131.38818359375, 1110.6812744140625, 1164.67431640625, 1295.2489013671875, 1616.725341796875, 1417.95068359375, 1030.8526611328125, 992.470703125, 1110.2481689453125, 1177.076416015625, 1355.428955078125, 1947.71630859375, 1956.4931640625, 1680.9627685546875, 2168.528076171875, 1581.1182861328125, 2085.95751953125, 2034.921875, 1927.52685546875, 2178.008056640625, 2551.800048828125, 1514.63037109375, 1518.3206787109375, 1176.3638916015625, 1788.13623046875, 1751.01806640625, 1855.0513916015625, 1530.5435791015625, 1387.923095703125, 1230.7523193359375, 597.8869018554688, 932.5734252929688, 1247.9390869140625, 1127.9837646484375, 826.2075805664062, 1006.137939453125, 1141.6038818359375, 851.1571655273438, 770.5271606445312, 745.3884887695312, 930.5282592773438, 920.2185668945312, 782.5476684570312, 807.76025390625, 706.8220825195312, 793.282470703125, 1022.5718994140625, 1093.590576171875, 855.8474731445312, 707.965576171875, 954.6246948242188, 843.3131103515625, 1105.70458984375, 1248.248046875, 1339.974365234375, 1558.4150390625, 1207.9293212890625, 1180.8800048828125, 1260.2763671875, 1067.73388671875, 1211.2637939453125, 1346.7412109375, 1062.3350830078125, 1382.6488037109375, 1370.87744140625, 1106.9178466796875, 961.7518920898438, 821.0572509765625, 1031.0103759765625, 1189.4793701171875, 1543.0419921875, 1352.2818603515625, 1112.5428466796875, 1158.93310546875, 1367.51318359375, 1538.2886962890625, 889.6351318359375, 1191.54443359375, 941.34912109375, 1281.2939453125, 1386.28076171875, 1004.7976684570312, 1239.9443359375, 1329.232177734375, 1145.9178466796875, 1065.897216796875, 1260.7119140625, 1259.4749755859375, 1444.6707763671875, 1388.7349853515625, 1612.2850341796875, 1122.18994140625, 1462.699951171875, 1553.0006103515625, 1245.6566162109375, 1481.38623046875, 1552.2662353515625, 1503.9566650390625, 1774.8603515625, 1623.8662109375, 2095.75, 1054.052001953125, 1512.7093505859375, 1958.6168212890625, 1304.3050537109375, 1054.0166015625, 1046.48291015625, 1124.704345703125, 1009.4360961914062, 1307.3240966796875, 969.05078125, 1157.3604736328125, 1194.7093505859375, 718.9618530273438, 1188.2691650390625, 948.6626586914062, 981.3535766601562, 1241.556884765625, 1377.1439208984375, 1126.4144287109375, 1051.15185546875, 598.7214965820312, 1023.588134765625, 781.0756225585938, 851.3092041015625, 882.4832153320312, 633.4000854492188, 594.0606079101562, 553.3388061523438, 737.1532592773438, 574.033203125, 660.0427856445312, 679.58984375, 732.723876953125, 781.6318969726562, 937.2777099609375, 966.8627319335938, 898.74267578125, 668.975341796875, 913.4762573242188, 691.1259155273438, 1007.584228515625, 1083.9456787109375, 1171.856201171875, 1147.7293701171875, 795.6148681640625, 1116.889892578125, 1103.0518798828125, 835.0518798828125, 1032.5887451171875, 612.2156372070312, 705.4124145507812, 900.82373046875, 830.61376953125, 717.969970703125, 622.9706420898438, 585.495849609375, 1065.539794921875, 980.4649047851562, 1196.65869140625, 1235.5841064453125, 613.3632202148438, 868.1681518554688, 915.3474731445312, 1012.6459350585938, 1003.7068481445312, 853.6904907226562, 956.9012451171875, 483.6329040527344, 679.580810546875, 862.1425170898438, 670.9043579101562, 790.7000122070312, 826.56787109375, 952.9043579101562, 1037.3594970703125, 696.3158569335938, 930.09033203125, 766.4639282226562, 519.2349853515625, 543.9623413085938, 814.2728271484375, 789.0974731445312, 932.6099853515625, 743.9171142578125, 697.5753173828125, 522.52490234375, 678.3968505859375, 617.6522827148438, 705.065185546875, 872.0228881835938, 922.6417236328125, 822.3295288085938, 875.7249145507812, 1354.9637451171875, 1179.36181640625, 916.171875, 780.9353637695312, 982.2400512695312, 817.0597534179688, 1060.89697265625, 892.7237548828125, 1051.342529296875, 780.0328369140625, 931.9679565429688, 904.0974731445312, 625.9168701171875, 601.287353515625, 614.5305786132812, 645.159912109375, 668.0826416015625, 418.92578125, 500.6943664550781, 429.0330505371094, 653.9212646484375, 603.7680053710938, 749.4865112304688, 640.5550537109375, 836.6881103515625, 749.9556274414062, 840.943115234375, 689.3588256835938, 747.822998046875, 838.265869140625, 893.1843872070312, 627.3488159179688, 789.0036010742188, 961.565673828125, 878.380859375, 934.7391357421875, 849.65185546875, 1057.5731201171875, 850.703857421875, 808.2168579101562, 946.406005859375, 944.4356079101562, 1339.4881591796875, 1433.8922119140625, 1621.969970703125, 1252.0250244140625, 1467.940185546875, 1530.510009765625, 1108.06494140625, 807.3071899414062, 1019.5518798828125, 895.539794921875, 988.2542724609375, 982.6281127929688, 746.501953125, 844.22998046875, 719.697998046875, 1052.8231201171875, 714.7806396484375, 725.809326171875, 810.9837646484375, 790.5831298828125, 368.9075012207031, 521.9683837890625, 651.4991455078125, 895.7256469726562, 1196.139404296875, 925.545654296875, 754.0560302734375, 875.099365234375, 933.8175048828125, 830.023681640625, 1162.8087158203125, 1018.7577514648438, 773.9629516601562, 737.3973388671875, 904.9293823242188, 1072.65380859375, 1294.1644287109375, 1266.9512939453125, 881.2845458984375, 1093.063720703125, 808.4728393554688, 559.3084716796875, 924.0443725585938, 889.2659301757812, 598.32275390625, 639.0831909179688, 622.1082763671875, 661.7210083007812, 549.5285034179688, 467.3158264160156, 579.4529418945312, 691.635009765625, 783.93115234375, 703.1256103515625, 631.3722534179688, 742.16845703125, 900.1298217773438, 789.1420288085938, 826.1387329101562, 652.2130737304688, 897.2625122070312, 648.2439575195312, 706.43896484375, 734.49853515625, 670.2493896484375, 711.4371337890625, 661.4012451171875, 782.6234130859375, 761.1701049804688, 586.1378173828125, 655.0022583007812, 596.76416015625, 755.8468627929688, 690.572021484375, 812.7406005859375, 701.17041015625, 542.0494384765625, 721.9000854492188, 872.7013549804688, 761.0552978515625, 697.6911010742188, 728.1599731445312, 590.9004516601562, 562.467529296875, 814.843017578125, 799.1537475585938, 1106.5831298828125, 907.2023315429688, 999.6631469726562, 662.1282958984375, 580.4421997070312, 789.6319580078125, 1009.2568969726562, 929.6610717773438, 848.585693359375, 705.4996948242188, 646.4057006835938, 912.5354614257812, 715.9823608398438, 749.6185302734375, 1002.4912719726562, 926.9698486328125, 785.333740234375, 767.7212524414062, 791.416259765625, 1058.546875, 694.8777465820312, 477.73748779296875, 531.82373046875, 833.494384765625, 867.116943359375, 852.84912109375, 1011.2918701171875, 732.7974853515625, 577.2987670898438, 620.0037231445312, 639.4968872070312, 546.52294921875, 713.7320556640625, 786.3512573242188, 655.4749755859375, 586.6437377929688, 448.1081237792969, 585.6445922851562, 482.0904541015625, 735.61279296875, 733.0956420898438, 532.1054077148438, 811.4207763671875, 587.2302856445312, 556.2406616210938, 704.3724975585938, 459.6708068847656, 474.1177673339844, 478.6349182128906, 600.514404296875, 468.2975769042969, 541.2127075195312, 463.41717529296875, 293.1429138183594, 256.108642578125, 303.7901306152344, 386.1176452636719, 524.0052490234375, 525.6171264648438, 655.921630859375, 708.9346923828125, 744.0162353515625, 581.4176025390625, 375.8601989746094, 578.9434204101562, 423.1673889160156, 381.69866943359375, 483.3494567871094, 677.088134765625, 573.893798828125, 758.7119750976562, 502.8653869628906, 602.8629760742188, 426.4130859375, 461.5653076171875, 799.3812255859375, 361.8160095214844, 527.7291259765625, 723.6709594726562, 462.89373779296875, 624.2787475585938, 544.00830078125, 622.5811767578125, 635.1621704101562, 694.947509765625, 461.4991455078125, 530.3419799804688, 662.0895385742188, 592.65625, 612.05419921875, 397.6474914550781, 720.0184326171875, 868.9961547851562, 822.9396362304688, 709.51513671875, 652.8152465820312, 760.6168823242188, 775.53564453125, 618.8544311523438, 544.1744384765625, 698.1771850585938, 763.6021728515625, 685.1320190429688, 652.2380981445312, 561.543212890625, 642.5022583007812, 887.2943725585938, 546.2742919921875, 537.236328125, 630.304931640625, 710.96923828125, 755.9271240234375, 575.1021728515625, 623.5050659179688, 605.5845947265625, 757.3456420898438, 571.5106201171875, 457.6533508300781, 520.9476318359375, 556.9769897460938, 579.892333984375, 607.1676635742188, 526.2894287109375, 536.9783935546875, 477.0434265136719, 375.8426513671875, 320.4796142578125, 485.619384765625, 259.4072570800781, 276.3070373535156, 301.4193115234375, 243.49551391601562, 383.7300720214844, 191.25389099121094, 197.6108856201172, 354.4641418457031, 381.3089904785156, 381.1326599121094, 389.9186706542969, 441.9852600097656, 414.0229797363281, 448.2403564453125]\n"
          ]
        },
        {
          "output_type": "display_data",
          "data": {
            "text/plain": [
              "<Figure size 432x288 with 1 Axes>"
            ],
            "image/png": "[encoded data removed]"
          },
          "metadata": {
            "needs_background": "light"
          }
        },
        {
          "output_type": "stream",
          "name": "stdout",
          "text": [
            "After 2 Epochs:\n",
            "Validation Accuracy\n",
            "    9.925% -- All Zeros\n",
            "    9.742% -- All Ones\n",
            "Training Loss\n",
            "    2.303  -- All Zeros\n",
            "  448.240  -- All Ones\n"
          ]
        }
      ],
      "source": [
        "model_list = [(model_0, 'All Zeros'),   # не надо менять название лейбла модели, на это завязаны тесты\n",
        "              (model_1, 'All Ones')]    # не надо менять название лейбла модели, на это завязаны тесты\n",
        "\n",
        "compare_init_weights(model_list, \n",
        "                             'All Zeros vs All Ones', \n",
        "                             train_loader,\n",
        "                             valid_loader)"
      ]
    },
    {
      "cell_type": "markdown",
      "metadata": {
        "id": "jMZF8HhhIadp"
      },
      "source": [
        "Как вы можете видеть, точность близка к случайному угадыванию как для нулей, так и для единиц, около 10%.\n",
        "\n",
        "Нейронной сети трудно определить, какие веса должны быть изменены, так как нейроны имеют одинаковый выход для каждого слоя.  Чтобы избежать нейронов с одинаковым выходом, давайте использовать уникальные веса.  Мы также можем случайным образом выбрать веса, чтобы избежать застревания в локальном минимуме для каждого запуска.\n",
        "\n",
        "Хорошим решением для получения этих случайных весов является выборка из однородного распределения."
      ]
    },
    {
      "cell_type": "markdown",
      "source": [
        "# Воспроизводимость результатов\n",
        "\n",
        "Для того, чтобы запуск в колабе и запуск в пайплайных были более-менее воспроизводимы, воспользуйтесь следующей функцией. См так же [заметку](https://pytorch.org/docs/stable/notes/randomness.html) о воспроизводимости в доке pytorch"
      ],
      "metadata": {
        "id": "_sQXCy-4LUq-"
      }
    },
    {
      "cell_type": "code",
      "source": [
        "def seed_everything(seed: int):\n",
        "    import random, os\n",
        "    import numpy as np\n",
        "    import torch\n",
        "    \n",
        "    if torch.__version__ >= '1.8':\n",
        "        torch.use_deterministic_algorithms(True)\n",
        "    else:\n",
        "        torch.set_deterministic(True)\n",
        "\n",
        "    random.seed(seed)\n",
        "    os.environ['PYTHONHASHSEED'] = str(seed)\n",
        "    np.random.seed(seed)\n",
        "    torch.manual_seed(seed)\n",
        "    torch.cuda.manual_seed(seed)\n",
        "    torch.backends.cudnn.deterministic = True\n",
        "    torch.backends.cudnn.benchmark = True\n",
        "    "
      ],
      "metadata": {
        "id": "Vun0jePgLSou"
      },
      "execution_count": 8,
      "outputs": []
    },
    {
      "cell_type": "markdown",
      "metadata": {
        "collapsed": true,
        "id": "aa4-lO_dIadq"
      },
      "source": [
        "### Равномерное распределение\n",
        "[Равномерное распределение](https://en.wikipedia.org/wiki/Uniform_distribution) имеет равную вероятность выбора любого числа из набора. Мы будем выбирать из непрерывного распределения, поэтому вероятность выбора одного и того же числа невелика. "
      ]
    },
    {
      "cell_type": "markdown",
      "metadata": {
        "id": "7B_gpGUMIadu"
      },
      "source": [
        "### Uniform Initialization, Baseline\n",
        "\n",
        "\n",
        "Давайте посмотрим, насколько хорошо нейронная сеть тренируется с использованием равномерной инициализации весов, где параметры равномерного распределения `a=0.0` и `b=1.0`. Мы рассмотрим другой способ инициализации весов нейросети (помимо использованного в коде класса Net). Чтобы инициализировать веса вне определения модели, вы можете:\n",
        "1. Определить функцию, которая инициализирует веса нужных слоев (в нашем случае - линейных)\n",
        "\n",
        "2. Инициализировать модель, используя `model.apply(fn)`, которая применяет функцию `fn` к каждому слою модели.\n",
        "\n",
        "Для равномерной инициализации весов нашей модели используйте `weight.data.uniform_`.\n",
        "\n",
        "**Задание:** допишите функцию равномерной инициализации весов"
      ]
    },
    {
      "cell_type": "code",
      "execution_count": 9,
      "metadata": {
        "id": "2vgzzwcqIadv"
      },
      "outputs": [],
      "source": [
        "# takes in a module and applies the specified weight initialization\n",
        "def weights_init_uniform(m):\n",
        "    classname = m.__class__.__name__\n",
        "    # for every Linear layer in a model..\n",
        "    if classname.find('Linear') != -1:\n",
        "        # apply a uniform distribution to the weights and a bias=0\n",
        "        m.weight.data.uniform_(0.0, 1.0)\n",
        "        m.bias.data.fill_(0)"
      ]
    },
    {
      "cell_type": "code",
      "execution_count": 10,
      "metadata": {
        "id": "0DvzLfUwIady",
        "colab": {
          "base_uri": "https://localhost:8080/"
        },
        "outputId": "fbbddedd-10e9-4151-a87f-3873715d62d0"
      },
      "outputs": [
        {
          "output_type": "execute_result",
          "data": {
            "text/plain": [
              "Net(\n",
              "  (fc1): Sequential(\n",
              "    (0): Linear(in_features=784, out_features=256, bias=True)\n",
              "    (1): ReLU()\n",
              "  )\n",
              "  (fc2): Sequential(\n",
              "    (0): Linear(in_features=256, out_features=128, bias=True)\n",
              "    (1): ReLU()\n",
              "  )\n",
              "  (fc3): Sequential(\n",
              "    (0): Linear(in_features=128, out_features=10, bias=True)\n",
              "    (1): ReLU()\n",
              "  )\n",
              "  (dropout): Dropout(p=0.2, inplace=False)\n",
              ")"
            ]
          },
          "metadata": {},
          "execution_count": 10
        }
      ],
      "source": [
        "# create a new model with these weights\n",
        "model_uniform = Net()\n",
        "\n",
        "seed_everything(42)\n",
        "model_uniform.apply(weights_init_uniform)"
      ]
    },
    {
      "cell_type": "code",
      "execution_count": 11,
      "metadata": {
        "id": "cJ9tT12SIaeG",
        "colab": {
          "base_uri": "https://localhost:8080/",
          "height": 424
        },
        "outputId": "f916d539-80c2-44f5-ecb6-8329f565178f"
      },
      "outputs": [
        {
          "output_type": "stream",
          "name": "stdout",
          "text": [
            "[126898.796875, 138924.390625, 122031.1875, 130874.859375, 118878.8125, 112114.578125, 117096.1484375, 110185.796875, 119227.3828125, 91156.4921875, 102222.546875, 103332.3125, 94374.359375, 91705.6796875, 97410.2265625, 105805.6875, 87580.2421875, 85312.6328125, 82639.03125, 83887.546875, 65572.3671875, 64553.078125, 69095.3125, 62318.13671875, 53454.9140625, 63393.9765625, 57880.2109375, 61696.296875, 58628.10546875, 52324.109375, 61751.765625, 42285.93359375, 46799.921875, 54797.67578125, 45981.1953125, 47261.25390625, 46656.8515625, 44283.0546875, 42742.5703125, 32770.6640625, 40273.0625, 39399.12109375, 36034.609375, 33230.3515625, 35197.984375, 37167.23828125, 31688.9765625, 28564.30078125, 40943.93359375, 33605.71484375, 36046.4453125, 25101.7578125, 32769.71875, 34195.58203125, 34906.51171875, 35099.328125, 29546.3046875, 37639.5703125, 35423.41015625, 38423.83203125, 34107.8359375, 27460.5859375, 32331.82421875, 34370.5234375, 31738.607421875, 28747.279296875, 28591.439453125, 29657.82421875, 33648.87109375, 31230.89453125, 30375.0546875, 32014.615234375, 30621.3125, 27359.46484375, 35587.49609375, 28571.6875, 32236.029296875, 32276.3046875, 28448.841796875, 33291.50390625, 30232.98046875, 29615.515625, 28622.78515625, 34414.859375, 28641.36328125, 29435.150390625, 27333.73046875, 34669.7421875, 28367.001953125, 34509.65625, 28978.974609375, 32004.908203125, 27740.4453125, 29478.869140625, 28876.359375, 28711.759765625, 30439.6484375, 29521.599609375, 33189.25390625, 25815.046875, 29190.009765625, 24718.107421875, 32230.55078125, 29872.466796875, 25358.126953125, 25294.48046875, 35018.44140625, 25454.349609375, 25855.3671875, 31683.875, 28523.232421875, 29450.9296875, 31386.26171875, 31396.560546875, 29368.66015625, 29081.931640625, 26227.265625, 29882.755859375, 28695.9453125, 26175.435546875, 27133.115234375, 25624.1015625, 28702.251953125, 25042.67578125, 30024.744140625, 28502.830078125, 25907.03515625, 26260.703125, 24151.390625, 29012.939453125, 26958.34765625, 26606.0234375, 33869.48828125, 27127.01953125, 25195.509765625, 28899.080078125, 28500.02734375, 28559.123046875, 25582.73046875, 27119.234375, 25811.94921875, 26314.0, 29522.419921875, 24576.3203125, 25066.109375, 27696.5390625, 28188.19921875, 24220.498046875, 26902.623046875, 25292.0546875, 27938.60546875, 31452.76171875, 30888.859375, 26745.318359375, 25746.232421875, 24848.80078125, 29035.38671875, 28949.685546875, 25794.98828125, 26335.900390625, 26218.3046875, 25062.1640625, 30167.349609375, 28145.787109375, 25096.453125, 23006.26953125, 24822.580078125, 23074.1796875, 26854.984375, 22539.7421875, 25368.48046875, 27236.400390625, 24990.556640625, 21675.369140625, 22235.6484375, 22394.115234375, 26768.705078125, 25154.720703125, 26110.931640625, 23431.775390625, 24824.693359375, 25029.609375, 25581.990234375, 21597.0859375, 23516.79296875, 23905.625, 19534.576171875, 21845.119140625, 25277.73046875, 17611.4296875, 24687.3984375, 21464.125, 21136.119140625, 18951.00390625, 22945.8828125, 20637.44921875, 23250.427734375, 20034.693359375, 23808.8125, 24507.40234375, 24302.0078125, 22506.33984375, 22115.779296875, 23435.349609375, 20721.853515625, 21244.240234375, 23471.890625, 18578.5703125, 22231.982421875, 22453.01953125, 27721.9296875, 24218.279296875, 22445.751953125, 22956.7734375, 23108.439453125, 23065.5546875, 20090.568359375, 19674.974609375, 23248.015625, 25388.849609375, 19245.474609375, 21549.419921875, 22570.1953125, 20679.45703125, 20812.859375, 22794.34765625, 23079.232421875, 22112.6796875, 21335.375, 23175.8828125, 20720.224609375, 22845.91796875, 22690.61328125, 22757.765625, 23204.677734375, 21272.26171875, 21294.685546875, 25058.4765625, 21599.41015625, 18467.05078125, 20968.0859375, 19637.609375, 21067.19921875, 22988.505859375, 18648.158203125, 19700.744140625, 22453.314453125, 18642.322265625, 19939.958984375, 20078.439453125, 22625.525390625, 21856.9375, 19008.80078125, 19645.189453125, 19837.5234375, 17170.837890625, 20613.310546875, 21901.712890625, 23615.251953125, 23104.01953125, 19744.345703125, 22456.595703125, 19774.970703125, 21966.439453125, 18381.3671875, 18935.8125, 18699.234375, 16766.7421875, 21090.099609375, 18379.76171875, 17903.69921875, 18533.302734375, 19734.330078125, 17668.923828125, 18717.072265625, 21457.109375, 19669.64453125, 19706.623046875, 16554.078125, 20779.4453125, 15207.07421875, 18543.38671875, 17426.16015625, 16972.443359375, 18732.154296875, 18651.53125, 17230.6015625, 19234.947265625, 16740.8203125, 16509.658203125, 17665.025390625, 15924.33203125, 18829.388671875, 17782.23828125, 20090.724609375, 22675.5859375, 19873.537109375, 16499.703125, 14997.525390625, 18670.08203125, 17688.7578125, 18700.46875, 19552.63671875, 16268.3408203125, 19053.5390625, 17918.640625, 18252.3359375, 15825.857421875, 12936.6572265625, 16326.7412109375, 14900.5458984375, 15076.8349609375, 17126.654296875, 18301.98046875, 18008.04296875, 18232.9765625, 19207.806640625, 17055.181640625, 16717.447265625, 13449.7353515625, 14925.5625, 15611.5302734375, 17693.92578125, 19584.521484375, 16758.8984375, 17994.625, 14046.5791015625, 17236.392578125, 16523.875, 16690.029296875, 14314.09375, 16559.98828125, 14668.7265625, 15783.724609375, 16789.763671875, 17804.169921875, 19108.533203125, 16357.6220703125, 17784.595703125, 15505.337890625, 19597.162109375, 14637.7041015625, 14214.740234375, 15092.142578125, 19339.880859375, 16931.439453125, 15539.3134765625, 13728.01953125, 13000.2353515625, 16892.041015625, 15761.7197265625, 15961.54296875, 16361.8876953125, 13944.9189453125, 14521.869140625, 15834.1376953125, 13103.6904296875, 15013.8623046875, 14980.271484375, 14072.7978515625, 14682.91796875, 15499.3388671875, 13813.2958984375, 15523.4052734375, 14576.1748046875, 13116.9599609375, 15164.009765625, 14990.6826171875, 14058.767578125, 15224.5791015625, 14651.34765625, 14556.85546875, 11072.650390625, 13594.7822265625, 15457.4951171875, 14408.099609375, 15070.71875, 11856.7900390625, 12811.7734375, 13925.44140625, 12663.62109375, 12684.455078125, 14486.0546875, 13735.3759765625, 14759.900390625, 13404.66015625, 14873.84765625, 12546.447265625, 14607.6337890625, 13933.57421875, 14285.228515625, 13398.76171875, 11320.5078125, 12725.03125, 12372.4873046875, 12438.2822265625, 12987.8603515625, 12859.71484375, 13115.9296875, 12421.400390625, 11644.15625, 13601.5478515625, 15207.681640625, 13880.7822265625, 11353.96484375, 12099.55078125, 13111.853515625, 12379.2734375, 12783.20703125, 10909.1611328125, 8799.3916015625, 11892.2373046875, 12512.857421875, 13641.98046875, 9688.5673828125, 9820.02734375, 12579.10546875, 12913.0625, 12157.2861328125, 13058.517578125, 10763.2099609375, 10892.8291015625, 11211.8916015625, 11627.21484375, 10779.98046875, 13286.69140625, 12245.4228515625, 12000.8779296875, 10638.5166015625, 10839.7333984375, 11740.59375, 10774.36328125, 10500.384765625, 11710.9833984375, 11503.9013671875, 13082.34765625, 12810.7373046875, 9115.2021484375, 11229.2646484375, 11889.755859375, 10097.8984375, 11691.552734375, 13431.1796875, 9952.1376953125, 11447.6279296875, 11978.431640625, 11007.6796875, 13050.0751953125, 11504.037109375, 10534.423828125, 11162.7509765625, 9662.1181640625, 9569.2451171875, 10977.369140625, 9795.30859375, 11476.3154296875, 11119.724609375, 10798.6025390625, 9124.978515625, 10650.2646484375, 10498.0478515625, 7934.8564453125, 10111.974609375, 9075.451171875, 9789.54296875, 10082.8330078125, 10636.7646484375, 10137.697265625, 9499.6923828125, 9420.5126953125, 8517.0341796875, 10434.615234375, 9471.8486328125, 8983.419921875, 8968.8935546875, 10189.2880859375, 11295.349609375, 7772.77001953125, 8150.103515625, 9202.556640625, 9456.9912109375, 9302.115234375, 10245.8408203125, 9884.7490234375, 8798.009765625, 9069.0810546875, 8274.1279296875, 8045.4755859375, 8119.552734375, 6841.38232421875, 9264.98828125, 9301.3623046875, 9680.791015625, 8117.49609375, 7376.5126953125, 8832.3134765625, 8849.150390625, 8498.2802734375, 8898.43359375, 9220.642578125, 7842.51708984375, 7543.822265625, 7629.96630859375, 7152.05859375, 8965.6865234375, 7391.79638671875, 7445.56982421875, 7416.61767578125, 7438.3173828125, 8720.6904296875, 8399.5146484375, 8431.484375, 7820.81005859375, 7962.8349609375, 8590.6474609375, 6586.6455078125, 7148.27880859375, 7124.95751953125, 6639.31884765625, 6965.4375, 7772.28271484375, 8746.0673828125, 7274.86865234375, 7163.9599609375, 7275.62353515625, 7130.78759765625, 7138.37353515625, 8689.869140625, 6572.3251953125, 6606.10546875, 7701.24267578125, 9232.087890625, 7046.3037109375, 8071.37255859375, 6811.08642578125, 8163.16015625, 7501.2060546875, 6654.90185546875, 6889.7314453125, 6441.4462890625, 6453.65625, 7314.93017578125, 6513.98876953125, 6274.44140625, 8347.16796875, 7075.240234375, 6961.38232421875, 5943.74755859375, 6297.048828125, 6945.39892578125, 7357.96826171875, 6599.0439453125, 6253.43505859375, 6668.97607421875, 5873.31689453125, 5557.6201171875, 7307.673828125, 5598.732421875, 5269.1845703125, 6972.20166015625, 7079.287109375, 6207.71923828125, 6199.53515625, 5902.9501953125, 6122.2060546875, 6589.455078125, 5850.3935546875, 5856.134765625, 6957.7861328125, 6351.03515625, 6505.19921875, 6570.384765625, 5588.48388671875, 5273.89501953125, 5447.654296875, 5703.80322265625, 5526.75732421875, 5629.544921875, 4186.89794921875, 5019.69677734375, 5980.3779296875, 5208.64990234375, 5341.6357421875, 5253.85693359375, 5421.91357421875, 5189.84423828125, 5605.9873046875, 4672.84912109375, 5158.07666015625, 5091.34326171875, 5727.7314453125, 5083.84326171875, 4203.552734375, 4501.16552734375, 4837.3134765625, 5003.49560546875, 3905.180908203125, 4465.76171875, 4580.67041015625, 4723.162109375, 4576.625, 4658.66357421875, 4104.66552734375, 4414.33935546875, 4567.427734375, 4532.8310546875, 3754.436767578125, 4138.05517578125, 3432.030029296875, 4343.73291015625, 4063.405517578125, 3802.63037109375, 3839.971923828125, 5038.0087890625, 3983.202392578125, 4369.7451171875, 3841.67724609375, 4089.010009765625, 3930.18896484375, 3689.58740234375, 4197.24169921875, 4149.39453125, 3525.583740234375, 4135.88623046875, 3980.152099609375, 3226.139404296875, 3065.286865234375, 2937.156005859375, 3335.86181640625, 4212.1904296875, 3242.873046875, 3350.1015625, 4472.00927734375, 3213.829345703125, 2917.8798828125, 3217.34619140625, 3682.038818359375, 3312.0107421875, 3308.1572265625, 2837.724365234375, 2948.262451171875, 3020.65625, 3103.1240234375, 3402.2275390625, 2729.94384765625, 3076.101806640625, 3239.688232421875, 2785.219482421875, 3327.983642578125, 2905.344482421875, 2554.859130859375, 2671.82373046875, 2891.906494140625, 2689.5869140625, 2785.639404296875, 2181.097412109375, 2844.821044921875, 2563.9990234375, 2745.64697265625, 2701.641357421875, 2726.008056640625, 2504.094970703125, 2530.060546875, 2404.68115234375, 2044.04541015625, 2659.08740234375, 2626.97802734375, 2232.2548828125, 2194.96044921875, 2192.761474609375, 2559.587646484375, 2006.415771484375, 2335.848876953125, 2388.70947265625, 2334.896728515625, 2305.50927734375, 2081.944091796875, 2052.4326171875, 2098.156982421875, 2209.1865234375, 2270.2548828125, 1604.846923828125, 1840.3028564453125, 1785.877197265625, 1711.05419921875, 2168.94775390625, 1674.88232421875, 1801.1646728515625, 1919.9954833984375, 1758.02294921875, 1523.4749755859375, 1396.848388671875, 1682.6279296875, 1560.60986328125, 1426.1583251953125, 1413.013427734375, 1631.282470703125, 1353.0584716796875, 1729.0408935546875, 1444.20068359375, 1378.717529296875, 1692.4102783203125, 1392.61962890625, 1631.947021484375, 1560.64501953125, 1469.2249755859375, 1162.3402099609375, 1304.9468994140625, 1333.26220703125, 1266.5045166015625, 1568.5721435546875, 1638.599365234375, 1082.322021484375, 1020.2754516601562, 1632.4044189453125, 1297.73095703125, 1176.304931640625, 928.7003173828125, 1104.2276611328125, 912.8244018554688, 895.870361328125, 1081.4925537109375, 1061.509033203125, 1052.7515869140625, 1102.1572265625, 905.6041259765625, 1077.0308837890625, 735.001708984375, 900.1917114257812, 838.4491577148438, 888.4639282226562, 814.6271362304688, 872.947509765625, 723.227783203125, 926.8301391601562, 784.9525756835938, 1012.8925170898438, 907.2001342773438, 728.9534912109375, 833.5582885742188, 645.6896362304688, 709.5779418945312, 550.182861328125, 615.4551391601562, 601.4813842773438, 582.2669677734375, 632.0496826171875, 508.5390930175781, 510.10211181640625, 606.9537963867188, 555.3381958007812, 477.3291015625, 583.8025512695312, 565.0568237304688, 472.1716003417969, 638.935302734375, 458.26922607421875, 498.2392883300781, 472.07928466796875, 411.47406005859375, 484.2037353515625, 587.3467407226562, 476.63812255859375, 407.26727294921875, 366.8793029785156, 412.91949462890625, 379.10858154296875, 359.412109375, 360.989990234375, 358.9412536621094, 360.4460144042969, 364.82257080078125, 279.04620361328125, 324.6558532714844, 347.17608642578125, 325.9125061035156, 280.663818359375, 208.6561737060547, 313.7055969238281, 279.7308349609375, 302.56512451171875, 295.0611572265625, 244.09744262695312, 299.1477966308594, 235.60580444335938, 202.44866943359375, 268.5917663574219, 200.5714111328125, 221.95164489746094, 274.2308349609375, 217.9526824951172, 202.82138061523438, 165.18670654296875, 221.7032012939453, 217.87359619140625, 191.86859130859375, 192.59603881835938, 165.64862060546875, 178.45632934570312, 158.4316864013672, 200.32461547851562, 190.05722045898438, 165.6724853515625, 137.27499389648438, 162.86289978027344, 138.39503479003906, 145.9584503173828, 137.62652587890625, 151.43792724609375, 144.54531860351562, 119.5766830444336, 150.45111083984375, 133.96121215820312, 100.89979553222656, 117.8431167602539, 109.20646667480469, 97.69921875, 107.22401428222656, 109.05866241455078, 78.66436004638672, 81.983154296875, 89.61296081542969, 81.07134246826172, 92.07763671875, 72.7136459350586, 76.29399108886719, 79.27635955810547, 107.00044250488281, 71.5842056274414, 69.60034942626953, 64.34146881103516, 75.00194549560547, 72.92288208007812, 85.86892700195312, 63.12080383300781, 50.63313293457031, 68.90481567382812, 72.73036193847656, 57.00636672973633, 59.14847183227539, 62.507442474365234, 70.48287200927734, 54.48594665527344, 70.05552673339844, 46.997806549072266, 75.80921173095703, 60.10626983642578, 60.7170524597168, 47.40342330932617, 50.43000411987305, 48.87565612792969, 39.99395751953125, 44.60262680053711, 42.238922119140625, 44.873008728027344, 53.97441482543945, 47.420623779296875, 31.667011260986328, 44.60529708862305, 45.295989990234375, 37.326717376708984, 46.68894577026367, 44.93284225463867, 35.12126159667969, 39.010902404785156, 46.28531265258789, 35.91054153442383, 29.815420150756836, 43.1288948059082, 40.41618347167969, 42.236534118652344, 36.757442474365234, 33.28607940673828, 38.095130920410156, 39.47433090209961, 35.27690124511719, 43.21182632446289, 30.094690322875977, 22.07170867919922, 31.549720764160156, 33.727447509765625, 35.976051330566406, 33.225914001464844, 35.30211639404297, 28.539535522460938, 22.552196502685547, 25.944780349731445, 25.792865753173828, 28.370681762695312, 33.85795211791992, 27.578227996826172, 27.039350509643555, 26.356679916381836, 21.187292098999023, 19.059934616088867, 19.44564437866211, 22.82538604736328, 16.874967575073242, 24.871522903442383, 18.921634674072266, 28.046293258666992, 20.994365692138672, 19.990781784057617, 20.7213077545166, 19.512042999267578, 20.9710636138916, 30.024518966674805, 17.941415786743164, 24.701749801635742, 18.094303131103516, 25.242149353027344, 22.193225860595703, 17.959802627563477, 16.183862686157227, 22.796297073364258, 16.840024948120117, 26.149126052856445, 17.14630699157715, 20.20098114013672, 14.102356910705566, 16.5555477142334, 16.888004302978516, 18.562273025512695, 18.9481143951416, 13.09698486328125, 16.95046043395996, 18.136024475097656, 15.73656940460205, 16.864587783813477, 16.756668090820312, 15.425472259521484, 13.979940414428711, 19.497446060180664, 18.222705841064453, 19.209613800048828, 23.182231903076172, 13.922203063964844, 19.644977569580078, 10.036681175231934, 13.905064582824707, 18.084142684936523, 14.077003479003906, 15.71621322631836, 17.39210319519043, 16.555143356323242, 14.389425277709961, 16.80402374267578, 15.215705871582031, 10.916873931884766, 12.005882263183594, 13.545370101928711, 19.465303421020508, 11.705284118652344, 14.277926445007324, 10.195647239685059, 16.90243911743164, 12.975808143615723, 16.066513061523438, 13.957592964172363, 20.634845733642578]\n"
          ]
        },
        {
          "output_type": "display_data",
          "data": {
            "text/plain": [
              "<Figure size 432x288 with 1 Axes>"
            ],
            "image/png": "[encoded data removed]"
          },
          "metadata": {
            "needs_background": "light"
          }
        },
        {
          "output_type": "stream",
          "name": "stdout",
          "text": [
            "After 2 Epochs:\n",
            "Validation Accuracy\n",
            "   42.292% -- Uniform Weights\n",
            "Training Loss\n",
            "   20.635  -- Uniform Weights\n"
          ]
        }
      ],
      "source": [
        "# evaluate behavior \n",
        "compare_init_weights([(model_uniform, 'Uniform Weights')],  # не надо менять название лейбла модели, на это завязаны тесты\n",
        "                             'Uniform Baseline', \n",
        "                             train_loader,\n",
        "                             valid_loader)"
      ]
    },
    {
      "cell_type": "markdown",
      "metadata": {
        "id": "qdMazkSiIaeX"
      },
      "source": [
        "TTdsg---\n",
        "График потерь показывает, что нейронная сеть учится, чего она не делала со всеми нулями или со всеми единицами. Мы движемся в правильном направлении!\n",
        "\n",
        "## Общее правило инициализации весов\n",
        "Общее правило для инициализации весов в нейронной сети состоит в том, чтобы установить их близкими к нулю, но не слишком маленькими. \n",
        ">Хорошая практика заключается в том, чтобы инициализировать веса в диапазоне $[- y, y]$, где $y=1/\\sqrt{n}$  \n",
        "($n$ - это число входов в данный нейрон).\n",
        "\n",
        "Давайте посмотрим, верно ли это: центрируем наш равномерный диапазон относительно нуля, сдвинув его на 0,5.  Это даст нам диапазон [-0.5, 0.5] равномерного распределения.\n",
        "\n",
        "**Задание:** поменяйте функцию равномерной инициализации весов, чтобы распределение весов было в диапозоне [-0.5, 0.5]."
      ]
    },
    {
      "cell_type": "code",
      "execution_count": 12,
      "metadata": {
        "id": "KxQzgLVrIaeZ",
        "colab": {
          "base_uri": "https://localhost:8080/"
        },
        "outputId": "f9261305-14c4-48e5-b4bc-64abfff304ea"
      },
      "outputs": [
        {
          "output_type": "execute_result",
          "data": {
            "text/plain": [
              "Net(\n",
              "  (fc1): Sequential(\n",
              "    (0): Linear(in_features=784, out_features=256, bias=True)\n",
              "    (1): ReLU()\n",
              "  )\n",
              "  (fc2): Sequential(\n",
              "    (0): Linear(in_features=256, out_features=128, bias=True)\n",
              "    (1): ReLU()\n",
              "  )\n",
              "  (fc3): Sequential(\n",
              "    (0): Linear(in_features=128, out_features=10, bias=True)\n",
              "    (1): ReLU()\n",
              "  )\n",
              "  (dropout): Dropout(p=0.2, inplace=False)\n",
              ")"
            ]
          },
          "metadata": {},
          "execution_count": 12
        }
      ],
      "source": [
        "# takes in a module and applies the specified weight initialization\n",
        "def weights_init_uniform_center(m):\n",
        "    classname = m.__class__.__name__\n",
        "    # for every Linear layer in a model..\n",
        "    if classname.find('Linear') != -1:\n",
        "        # apply a centered, uniform distribution to the weights\n",
        "        m.weight.data.uniform_(-0.5, 0.5)\n",
        "        m.bias.data.fill_(0)\n",
        "# create a new model with these weights\n",
        "model_centered = Net()\n",
        "\n",
        "seed_everything(42)\n",
        "model_centered.apply(weights_init_uniform_center)"
      ]
    },
    {
      "cell_type": "code",
      "execution_count": 13,
      "metadata": {
        "id": "n88LC249Iaei",
        "colab": {
          "base_uri": "https://localhost:8080/"
        },
        "outputId": "30ebb459-445c-4915-fc20-4ecaac9b451e"
      },
      "outputs": [
        {
          "output_type": "execute_result",
          "data": {
            "text/plain": [
              "Net(\n",
              "  (fc1): Sequential(\n",
              "    (0): Linear(in_features=784, out_features=256, bias=True)\n",
              "    (1): ReLU()\n",
              "  )\n",
              "  (fc2): Sequential(\n",
              "    (0): Linear(in_features=256, out_features=128, bias=True)\n",
              "    (1): ReLU()\n",
              "  )\n",
              "  (fc3): Sequential(\n",
              "    (0): Linear(in_features=128, out_features=10, bias=True)\n",
              "    (1): ReLU()\n",
              "  )\n",
              "  (dropout): Dropout(p=0.2, inplace=False)\n",
              ")"
            ]
          },
          "metadata": {},
          "execution_count": 13
        }
      ],
      "source": [
        "# takes in a module and applies the specified weight initialization\n",
        "def weights_init_uniform_rule(m):\n",
        "    classname = m.__class__.__name__\n",
        "    # for every Linear layer in a model..\n",
        "    \n",
        "# create a new model with these weights\n",
        "model_rule = Net()\n",
        "model_rule.apply(weights_init_uniform_rule)"
      ]
    },
    {
      "cell_type": "code",
      "execution_count": 14,
      "metadata": {
        "id": "Dxc-99kCIaem",
        "colab": {
          "base_uri": "https://localhost:8080/",
          "height": 479
        },
        "outputId": "891cec82-7556-4a4c-ab79-e42d6e549039"
      },
      "outputs": [
        {
          "output_type": "stream",
          "name": "stdout",
          "text": [
            "[50.061859130859375, 41.06808090209961, 28.922077178955078, 23.941940307617188, 14.723620414733887, 14.81967544555664, 11.872193336486816, 9.187854766845703, 8.273027420043945, 8.330713272094727, 7.147583484649658, 6.602077007293701, 4.844654560089111, 5.202780246734619, 4.327819347381592, 3.7924513816833496, 3.414001703262329, 3.211604356765747, 2.9835119247436523, 2.756688117980957, 2.621506690979004, 2.6640851497650146, 2.9182322025299072, 2.4490976333618164, 2.2613439559936523, 2.5812113285064697, 2.655752182006836, 2.3025853633880615, 2.4670522212982178, 2.6412975788116455, 2.288120985031128, 2.336684465408325, 2.285111904144287, 2.39190673828125, 2.345468521118164, 2.403031587600708, 2.323671817779541, 2.35296368598938, 2.29892635345459, 2.309062957763672, 2.3542184829711914, 2.3025853633880615, 2.32082462310791, 2.393636465072632, 2.279561996459961, 2.4100513458251953, 2.299769639968872, 2.3756940364837646, 2.3025853633880615, 2.3025853633880615, 2.3292675018310547, 2.324387311935425, 2.3414366245269775, 2.3025853633880615, 2.353335380554199, 2.2960383892059326, 2.5289669036865234, 2.279559373855591, 2.3936383724212646, 2.3025853633880615, 2.5649936199188232, 2.302809715270996, 2.3695571422576904, 2.3025853633880615, 2.3028175830841064, 2.3025853633880615, 2.279559373855591, 2.3025853633880615, 2.303873062133789, 2.4148693084716797, 2.2807302474975586, 2.3025853633880615, 2.3025853633880615, 2.3025853633880615, 2.307234287261963, 2.3025853633880615, 2.3025853633880615, 2.3025853633880615, 2.3045082092285156, 2.3229076862335205, 2.3039209842681885, 2.300774574279785, 2.3025853633880615, 2.302790880203247, 2.3031930923461914, 2.485217809677124, 2.3025853633880615, 2.3873746395111084, 2.336890935897827, 2.3025853633880615, 2.3025853633880615, 2.3025853633880615, 2.284235715866089, 2.310434103012085, 2.302757740020752, 2.3034327030181885, 2.33357310295105, 2.3025853633880615, 2.275782823562622, 2.3025853633880615, 2.3025853633880615, 2.3025853633880615, 2.3025853633880615, 2.3546385765075684, 2.3025853633880615, 2.303114891052246, 2.321387529373169, 2.3110077381134033, 2.355180025100708, 2.365821361541748, 2.585695505142212, 2.3025853633880615, 2.3025853633880615, 2.3028295040130615, 2.3025853633880615, 2.3025853633880615, 2.279808759689331, 2.3025853633880615, 2.302987813949585, 2.3025853633880615, 2.3025853633880615, 2.3025853633880615, 2.3025853633880615, 2.3025853633880615, 2.404404640197754, 2.3025853633880615, 2.2795841693878174, 2.316906690597534, 2.587906837463379, 2.3025853633880615, 2.3025853633880615, 2.3025853633880615, 2.3025853633880615, 2.305866003036499, 2.3025853633880615, 2.3025853633880615, 2.393723964691162, 2.3540995121002197, 2.3396172523498535, 2.3488738536834717, 2.3025853633880615, 2.3715879917144775, 2.3025853633880615, 2.3025853633880615, 2.3933238983154297, 2.3025853633880615, 2.3042750358581543, 2.3025853633880615, 2.2796504497528076, 2.3477623462677, 2.284952163696289, 2.302065134048462, 2.3202707767486572, 2.3025853633880615, 2.3025853633880615, 2.2987287044525146, 2.3025853633880615, 2.3025853633880615, 2.3025853633880615, 2.332937240600586, 2.3025853633880615, 2.3025853633880615, 2.307868242263794, 2.3025853633880615, 2.30550479888916, 2.3025853633880615, 2.3025853633880615, 2.3090081214904785, 2.3025853633880615, 2.3320186138153076, 2.337341785430908, 2.499598979949951, 2.3025853633880615, 2.3025853633880615, 2.3025853633880615, 2.3025853633880615, 2.303549289703369, 2.3025853633880615, 2.303858757019043, 2.3025853633880615, 2.3025853633880615, 2.3025853633880615, 2.3025853633880615, 2.3025853633880615, 2.3025853633880615, 2.3025853633880615, 2.387801170349121, 2.3025853633880615, 2.280334711074829, 2.308750867843628, 2.3025853633880615, 2.3025853633880615, 2.3025853633880615, 2.3025853633880615, 2.3025853633880615, 2.3025853633880615, 2.3025853633880615, 2.3025853633880615, 2.3025853633880615, 2.3025853633880615, 2.3152384757995605, 2.3025853633880615, 2.3025853633880615, 2.3025853633880615, 2.3025853633880615, 2.3289594650268555, 2.3025853633880615, 2.286264657974243, 2.3027727603912354, 2.306420087814331, 2.3406405448913574, 2.3025853633880615, 2.3025853633880615, 2.397944688796997, 2.316467523574829, 2.2993369102478027, 2.289226531982422, 2.3025853633880615, 2.2965517044067383, 2.3186686038970947, 2.3025853633880615, 2.3025853633880615, 2.3025853633880615, 2.3025853633880615, 2.3045945167541504, 2.3031039237976074, 2.3025853633880615, 2.3025853633880615, 2.298722982406616, 2.3025853633880615, 2.3025853633880615, 2.3025853633880615, 2.3025853633880615, 2.3290348052978516, 2.3025853633880615, 2.305763006210327, 2.3025853633880615, 2.3025853633880615, 2.3414063453674316, 2.3025853633880615, 2.302610397338867, 2.3554985523223877, 2.3025853633880615, 2.3025853633880615, 2.3025853633880615, 2.3025853633880615, 2.280111074447632, 2.302619218826294, 2.3025853633880615, 2.3025853633880615, 2.3025853633880615, 2.3025853633880615, 2.307558536529541, 2.3025853633880615, 2.2829153537750244, 2.3025853633880615, 2.3128867149353027, 2.3025853633880615, 2.3025853633880615, 2.3025853633880615, 2.3025853633880615, 2.3025853633880615, 2.2991745471954346, 2.3025853633880615, 2.304723024368286, 2.3025853633880615, 2.3025853633880615, 2.3025853633880615, 2.3025853633880615, 2.2805263996124268, 2.3025853633880615, 2.3025853633880615, 2.3025853633880615, 2.3106088638305664, 2.3025853633880615, 2.3064703941345215, 2.3025853633880615, 2.3025853633880615, 2.3025853633880615, 2.3025853633880615, 2.3025853633880615, 2.3025853633880615, 2.3025853633880615, 2.3025853633880615, 2.3025853633880615, 2.3025853633880615, 2.303651809692383, 2.3114092350006104, 2.312014102935791, 2.3025853633880615, 2.3025853633880615, 2.3025853633880615, 2.3025853633880615, 2.3057126998901367, 2.3025853633880615, 2.3025853633880615, 2.3025853633880615, 2.3025853633880615, 2.3025853633880615, 2.3025853633880615, 2.3025853633880615, 2.3025853633880615, 2.3025853633880615, 2.3025853633880615, 2.3025853633880615, 2.3025853633880615, 2.3025853633880615, 2.3025853633880615, 2.314608573913574, 2.3025853633880615, 2.3025853633880615, 2.3025853633880615, 2.3025853633880615, 2.310229539871216, 2.3025853633880615, 2.3025853633880615, 2.3025853633880615, 2.3025853633880615, 2.3025853633880615, 2.3025853633880615, 2.3025853633880615, 2.305516004562378, 2.3025853633880615, 2.3025853633880615, 2.302978992462158, 2.3025853633880615, 2.3221397399902344, 2.3025853633880615, 2.3025853633880615, 2.307253837585449, 2.3025853633880615, 2.3025853633880615, 2.3025853633880615, 2.3025853633880615, 2.3216729164123535, 2.3101673126220703, 2.3025853633880615, 2.2814486026763916, 2.3025853633880615, 2.3025853633880615, 2.3025853633880615, 2.3025853633880615, 2.3025853633880615, 2.3025853633880615, 2.3034234046936035, 2.355269432067871, 2.312095880508423, 2.3025853633880615, 2.312706708908081, 2.3025853633880615, 2.3025853633880615, 2.3025853633880615, 2.3025853633880615, 2.3025853633880615, 2.3025853633880615, 2.3025853633880615, 2.2953755855560303, 2.302618980407715, 2.3025853633880615, 2.3025853633880615, 2.3025853633880615, 2.3025853633880615, 2.3025853633880615, 2.3592472076416016, 2.3025853633880615, 2.3470821380615234, 2.3025853633880615, 2.3025853633880615, 2.3025853633880615, 2.3025853633880615, 2.3025853633880615, 2.3025853633880615, 2.3025853633880615, 2.3025853633880615, 2.27955961227417, 2.282733678817749, 2.3703017234802246, 2.3025853633880615, 2.3025853633880615, 2.3025853633880615, 2.3025853633880615, 2.3025853633880615, 2.3025853633880615, 2.3025853633880615, 2.3025853633880615, 2.3040316104888916, 2.3025853633880615, 2.3025853633880615, 2.3042731285095215, 2.3025853633880615, 2.3025853633880615, 2.3025853633880615, 2.3025853633880615, 2.3025853633880615, 2.3025853633880615, 2.3025853633880615, 2.3025853633880615, 2.3025853633880615, 2.3025853633880615, 2.3833751678466797, 2.30379056930542, 2.3025853633880615, 2.3025853633880615, 2.301851272583008, 2.3025853633880615, 2.3025853633880615, 2.310368537902832, 2.450617790222168, 2.3025853633880615, 2.302960157394409, 2.3025853633880615, 2.3025853633880615, 2.3025853633880615, 2.3025853633880615, 2.3025853633880615, 2.3025853633880615, 2.3025853633880615, 2.3025853633880615, 2.3025853633880615, 2.3025853633880615, 2.3025853633880615, 2.329400062561035, 2.3025853633880615, 2.3025853633880615, 2.3025853633880615, 2.3025853633880615, 2.3025853633880615, 2.3025853633880615, 2.3025853633880615, 2.3033554553985596, 2.3025853633880615, 2.3025853633880615, 2.3025853633880615, 2.3025853633880615, 2.3025853633880615, 2.3025853633880615, 2.3025853633880615, 2.3025853633880615, 2.303654432296753, 2.3025853633880615, 2.3025853633880615, 2.3025853633880615, 2.3025853633880615, 2.3025853633880615, 2.3028056621551514, 2.3025853633880615, 2.3025853633880615, 2.3025853633880615, 2.3025853633880615, 2.3025853633880615, 2.3025853633880615, 2.3310647010803223, 2.317762851715088, 2.3025853633880615, 2.3025853633880615, 2.3025853633880615, 2.3025853633880615, 2.3025853633880615, 2.3025853633880615, 2.3025853633880615, 2.3025853633880615, 2.3025853633880615, 2.3025853633880615, 2.3025853633880615, 2.3025853633880615, 2.3025853633880615, 2.375368118286133, 2.3025853633880615, 2.3025853633880615, 2.3025853633880615, 2.4050912857055664, 2.379269599914551, 2.3025853633880615, 2.3025853633880615, 2.3076534271240234, 2.3025853633880615, 2.3025853633880615, 2.3025853633880615, 2.3025853633880615, 2.3025853633880615, 2.3025853633880615, 2.3025853633880615, 2.3025853633880615, 2.3025853633880615, 2.3025853633880615, 2.3025853633880615, 2.3025853633880615, 2.3025853633880615, 2.3025853633880615, 2.3025853633880615, 2.3025853633880615, 2.3025853633880615, 2.3025853633880615, 2.3025853633880615, 2.3025853633880615, 2.5345516204833984, 2.3025853633880615, 2.3068296909332275, 2.3025853633880615, 2.3025853633880615, 2.3025853633880615, 2.3025853633880615, 2.307684898376465, 2.3025853633880615, 2.3452253341674805, 2.3025853633880615, 2.3025853633880615, 2.3516807556152344, 2.3025853633880615, 2.3025853633880615, 2.3025853633880615, 2.3025853633880615, 2.3025853633880615, 2.3025853633880615, 2.3025853633880615, 2.3025853633880615, 2.3025853633880615, 2.3025853633880615, 2.3025853633880615, 2.3025853633880615, 2.3028860092163086, 2.3062148094177246, 2.3025853633880615, 2.3025853633880615, 2.3025853633880615, 2.3025853633880615, 2.3025853633880615, 2.3025853633880615, 2.3025853633880615, 2.3025853633880615, 2.3025853633880615, 2.3025853633880615, 2.3025853633880615, 2.3490896224975586, 2.3025853633880615, 2.3025853633880615, 2.3025853633880615, 2.3025853633880615, 2.3025853633880615, 2.3025853633880615, 2.3025853633880615, 2.3025853633880615, 2.3025853633880615, 2.3025853633880615, 2.3025853633880615, 2.3182408809661865, 2.3025853633880615, 2.3025853633880615, 2.3025853633880615, 2.3025853633880615, 2.3025853633880615, 2.3025853633880615, 2.3025853633880615, 2.3025853633880615, 2.3025853633880615, 2.3080027103424072, 2.3025853633880615, 2.3025853633880615, 2.3025853633880615, 2.3025853633880615, 2.3025853633880615, 2.3025853633880615, 2.3025853633880615, 2.284806489944458, 2.3025853633880615, 2.3156044483184814, 2.3025853633880615, 2.3025853633880615, 2.3025853633880615, 2.3025853633880615, 2.3025853633880615, 2.3025853633880615, 2.3025853633880615, 2.3025853633880615, 2.3025853633880615, 2.3025853633880615, 2.3025853633880615, 2.3025853633880615, 2.3025853633880615, 2.3025853633880615, 2.3025853633880615, 2.3025853633880615, 2.3025853633880615, 2.3025853633880615, 2.3202216625213623, 2.3025853633880615, 2.3115036487579346, 2.3025853633880615, 2.3025853633880615, 2.304149866104126, 2.3025853633880615, 2.3025853633880615, 2.294100761413574, 2.3025853633880615, 2.463992118835449, 2.3025853633880615, 2.3025853633880615, 2.3025853633880615, 2.3025853633880615, 2.3025853633880615, 2.3025853633880615, 2.3025853633880615, 2.3025853633880615, 2.3025853633880615, 2.3025853633880615, 2.347576379776001, 2.3025853633880615, 2.3025853633880615, 2.3025853633880615, 2.3025853633880615, 2.3025853633880615, 2.446140766143799, 2.3025853633880615, 2.3025853633880615, 2.3025853633880615, 2.3025853633880615, 2.3025853633880615, 2.3025853633880615, 2.3025853633880615, 2.347346544265747, 2.3025853633880615, 2.3025853633880615, 2.3025853633880615, 2.3025853633880615, 2.3025853633880615, 2.3025853633880615, 2.3025853633880615, 2.3025853633880615, 2.3025853633880615, 2.3025853633880615, 2.3025853633880615, 2.3025853633880615, 2.279559850692749, 2.3025853633880615, 2.348588228225708, 2.3025853633880615, 2.3025853633880615, 2.3025853633880615, 2.3025853633880615, 2.3025853633880615, 2.3025853633880615, 2.3025853633880615, 2.3025853633880615, 2.3025853633880615, 2.3025853633880615, 2.3025853633880615, 2.3025853633880615, 2.3025853633880615, 2.3025853633880615, 2.3025853633880615, 2.3025853633880615, 2.3025853633880615, 2.3025853633880615, 2.3025853633880615, 2.3025853633880615, 2.3025853633880615, 2.3025853633880615, 2.3025853633880615, 2.3025853633880615, 2.3025853633880615, 2.2973363399505615, 2.3025853633880615, 2.3025853633880615, 2.3025853633880615, 2.3025853633880615, 2.3025853633880615, 2.3025853633880615, 2.279559373855591, 2.3025853633880615, 2.3025853633880615, 2.3025853633880615, 2.3025853633880615, 2.3025853633880615, 2.3025853633880615, 2.3025853633880615, 2.3025853633880615, 2.3286099433898926, 2.3025853633880615, 2.3025853633880615, 2.3025853633880615, 2.3025853633880615, 2.3025853633880615, 2.3025853633880615, 2.3025853633880615, 2.3025853633880615, 2.3025853633880615, 2.3025853633880615, 2.3025853633880615, 2.3025853633880615, 2.3025853633880615, 2.3025853633880615, 2.3025853633880615, 2.3025853633880615, 2.3025853633880615, 2.3025853633880615, 2.3025853633880615, 2.3025853633880615, 2.3054370880126953, 2.3025853633880615, 2.3025853633880615, 2.3025853633880615, 2.3025853633880615, 2.3025853633880615, 2.3025853633880615, 2.3025853633880615, 2.3025853633880615, 2.3025853633880615, 2.3025853633880615, 2.3025853633880615, 2.3025853633880615, 2.303415298461914, 2.3025853633880615, 2.3025853633880615, 2.3025853633880615, 2.3025853633880615, 2.3025853633880615, 2.3025853633880615, 2.3025853633880615, 2.3025853633880615, 2.3025853633880615, 2.427936315536499, 2.3025853633880615, 2.3025853633880615, 2.3025853633880615, 2.3025853633880615, 2.3025853633880615, 2.3025853633880615, 2.3025853633880615, 2.3025853633880615, 2.3025853633880615, 2.3025853633880615, 2.3119869232177734, 2.3025853633880615, 2.3025853633880615, 2.3025853633880615, 2.3025853633880615, 2.3025853633880615, 2.3025853633880615, 2.3025853633880615, 2.3025853633880615, 2.3025853633880615, 2.3025853633880615, 2.3025853633880615, 2.3025853633880615, 2.3025853633880615, 2.3025853633880615, 2.3025853633880615, 2.3025853633880615, 2.3025853633880615, 2.3025853633880615, 2.3025853633880615, 2.3172168731689453, 2.3025853633880615, 2.302598237991333, 2.3025853633880615, 2.3025853633880615, 2.3025853633880615, 2.3025853633880615, 2.3025853633880615, 2.3025853633880615, 2.3025853633880615, 2.3040573596954346, 2.3025853633880615, 2.3025853633880615, 2.3025853633880615, 2.3025853633880615, 2.3025853633880615, 2.3025853633880615, 2.280397891998291, 2.3025853633880615, 2.3025853633880615, 2.3025853633880615, 2.3025853633880615, 2.3025853633880615, 2.3025853633880615, 2.3025853633880615, 2.3025853633880615, 2.3025853633880615, 2.3025853633880615, 2.3025853633880615, 2.3025853633880615, 2.2805259227752686, 2.310511589050293, 2.3025853633880615, 2.3025853633880615, 2.3025853633880615, 2.3025853633880615, 2.3025853633880615, 2.3025853633880615, 2.3025853633880615, 2.3025853633880615, 2.3025853633880615, 2.3025853633880615, 2.3025853633880615, 2.3416764736175537, 2.3025853633880615, 2.3244752883911133, 2.3025853633880615, 2.3025853633880615, 2.3025853633880615, 2.3025853633880615, 2.3025853633880615, 2.3025853633880615, 2.3025853633880615, 2.3025853633880615, 2.3086490631103516, 2.3025853633880615, 2.3025853633880615, 2.3025853633880615, 2.319410562515259, 2.3025853633880615, 2.3025853633880615, 2.3025853633880615, 2.3025853633880615, 2.307112693786621, 2.3025853633880615, 2.3025853633880615, 2.2825379371643066, 2.3025853633880615, 2.279934883117676, 2.3025853633880615, 2.3025853633880615, 2.3025853633880615, 2.3025853633880615, 2.3025853633880615, 2.3025853633880615, 2.3025853633880615, 2.3025853633880615, 2.3025853633880615, 2.3025853633880615, 2.3025853633880615, 2.3025853633880615, 2.3025853633880615, 2.3025853633880615, 2.3025853633880615, 2.3025853633880615, 2.3025853633880615, 2.3025853633880615, 2.3025853633880615, 2.3025853633880615, 2.3025853633880615, 2.3025853633880615, 2.382995367050171, 2.3025853633880615, 2.3025853633880615, 2.3025853633880615, 2.3025853633880615, 2.306027412414551, 2.3025853633880615, 2.3025853633880615, 2.3025853633880615, 2.3025853633880615, 2.3025853633880615, 2.3025853633880615, 2.3025853633880615, 2.3025853633880615, 2.3025853633880615, 2.3025853633880615, 2.3025853633880615, 2.3025853633880615, 2.3025853633880615, 2.3025853633880615, 2.3025853633880615, 2.304131507873535, 2.3025853633880615, 2.3025853633880615, 2.3025853633880615, 2.3025853633880615, 2.3025853633880615, 2.3025853633880615, 2.3025853633880615, 2.3025853633880615, 2.3025853633880615, 2.3025853633880615, 2.302990436553955, 2.3025853633880615, 2.3025853633880615, 2.303449869155884, 2.3025853633880615, 2.3025853633880615, 2.3025853633880615, 2.3025853633880615, 2.3025853633880615, 2.3025853633880615, 2.3025853633880615, 2.3025853633880615, 2.3025853633880615, 2.3025853633880615, 2.3025853633880615, 2.3025853633880615, 2.3025853633880615, 2.3578038215637207, 2.3025853633880615, 2.3025853633880615, 2.3025853633880615, 2.3025853633880615, 2.3025853633880615, 2.3025853633880615, 2.280499219894409, 2.3025853633880615, 2.3025853633880615, 2.3025853633880615, 2.3025853633880615, 2.3025853633880615, 2.3025853633880615, 2.3025853633880615, 2.27956223487854, 2.293135643005371, 2.3025853633880615, 2.3025853633880615, 2.3025853633880615, 2.3025853633880615, 2.3025853633880615, 2.3025853633880615, 2.3025853633880615, 2.3025853633880615, 2.3025853633880615, 2.3025853633880615, 2.3025853633880615, 2.3025853633880615, 2.3025853633880615, 2.3025853633880615, 2.3025853633880615, 2.3025853633880615, 2.3025853633880615, 2.3025853633880615, 2.3025853633880615, 2.3025853633880615, 2.3025853633880615, 2.3025853633880615, 2.3025853633880615, 2.3025853633880615, 2.3025853633880615, 2.312025547027588, 2.3025853633880615, 2.3025853633880615, 2.3025853633880615, 2.3025853633880615, 2.3025853633880615, 2.3025853633880615, 2.3025853633880615, 2.3025853633880615, 2.3025853633880615, 2.3025853633880615, 2.279559850692749, 2.3025853633880615, 2.3025853633880615, 2.3025853633880615, 2.3025853633880615, 2.3025853633880615, 2.3025853633880615, 2.3025853633880615, 2.3025853633880615, 2.3025853633880615, 2.3025853633880615, 2.339388370513916, 2.3025853633880615, 2.3025853633880615, 2.3025853633880615, 2.3025853633880615]\n",
            "[2.3052711486816406, 2.271543025970459, 2.2549421787261963, 2.197599411010742, 2.144821882247925, 2.1029067039489746, 2.0882647037506104, 2.0162620544433594, 1.8966702222824097, 1.846176028251648, 1.7997446060180664, 1.735547661781311, 1.5561212301254272, 1.56410551071167, 1.4934369325637817, 1.5014517307281494, 1.488286018371582, 1.4187639951705933, 1.2884507179260254, 1.2867738008499146, 1.2687883377075195, 1.2207255363464355, 1.4417301416397095, 1.0926703214645386, 1.2106343507766724, 0.9989458322525024, 1.0847078561782837, 0.9372491240501404, 1.2009119987487793, 1.0381766557693481, 0.9582798480987549, 0.9703584313392639, 0.8465554714202881, 0.965366542339325, 0.9784832000732422, 0.8672283887863159, 1.0054432153701782, 0.8958971500396729, 1.0051639080047607, 0.8449975848197937, 0.918149471282959, 0.781002402305603, 1.164715051651001, 0.8980457186698914, 0.9419972896575928, 0.8829621076583862, 0.884059727191925, 0.919704794883728, 0.8765318393707275, 0.8863716125488281, 1.0424559116363525, 0.9115007519721985, 0.8928020000457764, 0.7945229411125183, 0.877441942691803, 0.7509721517562866, 0.8187969923019409, 0.7346744537353516, 0.6478868126869202, 0.8274862766265869, 0.7469031810760498, 0.9594702124595642, 0.5276523232460022, 0.8256011009216309, 0.7313469648361206, 0.7654767632484436, 0.8239290714263916, 0.8184568881988525, 0.719709575176239, 0.7096538543701172, 0.871549665927887, 0.6593824625015259, 0.7163774967193604, 0.7114787101745605, 0.6013644337654114, 0.7726540565490723, 0.6321067214012146, 0.6402024626731873, 0.7256909012794495, 0.6267446279525757, 0.7799796462059021, 0.9285894632339478, 0.7186745405197144, 0.5869033336639404, 0.6206305027008057, 0.6318371295928955, 0.6246029138565063, 0.8097162842750549, 0.7778642177581787, 0.6102306842803955, 0.5244995951652527, 0.6409858465194702, 0.7385580539703369, 0.7952873110771179, 0.7232142686843872, 0.5689424872398376, 0.6233970522880554, 0.5272308588027954, 0.7781661152839661, 0.7753623723983765, 0.7245638966560364, 0.6745437383651733, 0.6755111217498779, 0.7203181385993958, 0.5248468518257141, 0.6522953510284424, 0.6286768913269043, 0.7637261152267456, 0.7621592879295349, 0.8103074431419373, 0.6346517205238342, 0.6135658621788025, 0.5442577600479126, 0.6477745771408081, 0.6855754852294922, 0.6457412838935852, 0.6447784900665283, 0.6480708122253418, 0.5821029543876648, 0.7059091329574585, 0.5420843362808228, 0.6276103258132935, 0.6588234901428223, 0.6464105844497681, 0.6184347867965698, 0.522371768951416, 0.7206469774246216, 0.6048452854156494, 0.733721137046814, 0.693067193031311, 0.5203903913497925, 0.47315043210983276, 0.636089026927948, 0.5633127093315125, 0.5587853789329529, 0.6404342651367188, 0.4947110712528229, 0.762961745262146, 0.6529301404953003, 0.5051038265228271, 0.5956399440765381, 0.47623810172080994, 0.6206154227256775, 0.6407707333564758, 0.5722513794898987, 0.7003936171531677, 0.706724226474762, 0.5675036907196045, 0.6583345532417297, 0.6350815296173096, 0.5804283618927002, 0.6044626832008362, 0.6332119107246399, 0.5776183605194092, 0.632472813129425, 0.6580485701560974, 0.7404847145080566, 0.5212290287017822, 0.7424370646476746, 0.6380484700202942, 0.799704372882843, 0.5868797898292542, 0.6932198405265808, 0.711628794670105, 0.6740814447402954, 0.6138249635696411, 0.7430436015129089, 0.6526679992675781, 0.44568702578544617, 0.45687785744667053, 0.7836393713951111, 0.41329559683799744, 0.6090516448020935, 0.684333860874176, 0.7426999807357788, 0.4889684021472931, 0.6656084656715393, 0.6285153031349182, 0.5430756211280823, 0.6287380456924438, 0.5037921071052551, 0.6597393155097961, 0.5126234889030457, 0.4909955859184265, 0.5766190886497498, 0.5046015381813049, 0.7226262092590332, 0.5393578410148621, 0.6609556078910828, 0.764839231967926, 0.5072581768035889, 0.5690740346908569, 0.5470632314682007, 0.6180488467216492, 0.3901171386241913, 0.4974086284637451, 0.5564729571342468, 0.6856354475021362, 0.5160141587257385, 0.571769654750824, 0.6186689734458923, 0.5154526233673096, 0.5895196795463562, 0.4500649571418762, 0.4499554932117462, 0.5037046670913696, 0.6277597546577454, 0.6507306694984436, 0.49148640036582947, 0.5434521436691284, 0.5923545956611633, 0.48350393772125244, 0.4822303056716919, 0.6385079026222229, 0.6319982409477234, 0.5337432026863098, 0.4609287679195404, 0.46259135007858276, 0.5579203963279724, 0.5633473992347717, 0.5623062252998352, 0.6066113710403442, 0.5601451992988586, 0.7325828671455383, 0.5483822822570801, 0.5253136157989502, 0.5489832162857056, 0.5372548699378967, 0.6446051001548767, 0.6351379752159119, 0.5215705633163452, 0.7045425176620483, 0.5811377167701721, 0.5292841196060181, 0.6052045822143555, 0.5345602631568909, 0.5106165409088135, 0.5959306359291077, 0.5644161701202393, 0.4590616524219513, 0.5795737504959106, 0.39327725768089294, 0.4588565528392792, 0.5752333402633667, 0.547631025314331, 0.4524792730808258, 0.6945503354072571, 0.5668286085128784, 0.730112612247467, 0.6070135235786438, 0.6129779815673828, 0.3130827248096466, 0.45310652256011963, 0.591691792011261, 0.4989235997200012, 0.5635172128677368, 0.5477796792984009, 0.6543595790863037, 0.605842649936676, 0.46633613109588623, 0.6561969518661499, 0.48134908080101013, 0.5386185646057129, 0.5912449955940247, 0.6373471617698669, 0.6564530730247498, 0.5563923716545105, 0.6189908981323242, 0.385538250207901, 0.7162551879882812, 0.5127884149551392, 0.6823999285697937, 0.3975599408149719, 0.5628769993782043, 0.6244475841522217, 0.49031901359558105, 0.41965875029563904, 0.7109144330024719, 0.8013008236885071, 0.5587209463119507, 0.7197301387786865, 0.5561074018478394, 0.46366968750953674, 0.47654688358306885, 0.5089779496192932, 0.4188045561313629, 0.5308321118354797, 0.48631399869918823, 0.3998023271560669, 0.6131004691123962, 0.5025361180305481, 0.4717174470424652, 0.5783409476280212, 0.5638197064399719, 0.603347659111023, 0.6292769312858582, 0.5357125997543335, 0.5316134691238403, 0.48641669750213623, 0.5085377097129822, 0.39535197615623474, 0.5519999861717224, 0.40573906898498535, 0.6037836670875549, 0.47872501611709595, 0.49145352840423584, 0.5969284176826477, 0.7510260939598083, 0.5700192451477051, 0.6156825423240662, 0.5592718720436096, 0.6766159534454346, 0.40233656764030457, 0.521818220615387, 0.4561036229133606, 0.4314943253993988, 0.457162469625473, 0.682853102684021, 0.4854051172733307, 0.346594899892807, 0.5697696208953857, 0.5867040753364563, 0.549670398235321, 0.504565954208374, 0.40731048583984375, 0.4709048569202423, 0.4018155038356781, 0.39423641562461853, 0.5599489212036133, 0.41213035583496094, 0.3643266260623932, 0.4324769973754883, 0.4452474117279053, 0.5429399609565735, 0.458019495010376, 0.4248306155204773, 0.5381952524185181, 0.4937087893486023, 0.4557775855064392, 0.648678183555603, 0.44144728779792786, 0.47045189142227173, 0.49708613753318787, 0.4408961832523346, 0.528830349445343, 0.43749263882637024, 0.530683696269989, 0.5678342580795288, 0.6282126903533936, 0.5224286913871765, 0.4241413474082947, 0.49834033846855164, 0.4044681191444397, 0.5777353048324585, 0.4331843852996826, 0.480643093585968, 0.48715999722480774, 0.5692706108093262, 0.4677441120147705, 0.45982229709625244, 0.5640406608581543, 0.5432704091072083, 0.4484289586544037, 0.43703556060791016, 0.5770624279975891, 0.4957250952720642, 0.4078201651573181, 0.45060959458351135, 0.46077099442481995, 0.35729849338531494, 0.4933509826660156, 0.4448085129261017, 0.4880305528640747, 0.46624892950057983, 0.4559003412723541, 0.5087146759033203, 0.5899478197097778, 0.43375638127326965, 0.4450003504753113, 0.5917271375656128, 0.5528433322906494, 0.5222881436347961, 0.6941002011299133, 0.4969126582145691, 0.4352016746997833, 0.5853530764579773, 0.535471498966217, 0.3671248257160187, 0.5772902965545654, 0.48740923404693604, 0.47198235988616943, 0.5273754000663757, 0.4741015136241913, 0.746055543422699, 0.565142810344696, 0.40652191638946533, 0.4405473470687866, 0.42510277032852173, 0.53084796667099, 0.5992590188980103, 0.4883473217487335, 0.44248732924461365, 0.35918575525283813, 0.5397477746009827, 0.4334838092327118, 0.5408822894096375, 0.49702996015548706, 0.5522630214691162, 0.5669887661933899, 0.43711453676223755, 0.6255824565887451, 0.4562264680862427, 0.4540407955646515, 0.4511783719062805, 0.580817461013794, 0.4000341296195984, 0.4578293561935425, 0.46536147594451904, 0.6999001502990723, 0.4820738136768341, 0.6811022758483887, 0.4816219210624695, 0.4594372510910034, 0.49618610739707947, 0.4213294982910156, 0.43690726161003113, 0.579839289188385, 0.5018121004104614, 0.43349143862724304, 0.43638479709625244, 0.42411938309669495, 0.4952079653739929, 0.3417951464653015, 0.5458409190177917, 0.4704717695713043, 0.5494993329048157, 0.4702893793582916, 0.4221874177455902, 0.420740008354187, 0.5507031083106995, 0.5472495555877686, 0.5133817791938782, 0.47150349617004395, 0.49120259284973145, 0.4866844415664673, 0.370270699262619, 0.44963210821151733, 0.38595902919769287, 0.42437344789505005, 0.4987136423587799, 0.518069863319397, 0.4738958775997162, 0.3689974248409271, 0.5161667466163635, 0.42118436098098755, 0.5057060122489929, 0.4680580794811249, 0.47314125299453735, 0.4621076285839081, 0.5689054131507874, 0.612626314163208, 0.2826734781265259, 0.519889771938324, 0.6836190819740295, 0.4613970220088959, 0.37108391523361206, 0.2972336411476135, 0.5203130841255188, 0.5619863271713257, 0.5445303916931152, 0.4463171064853668, 0.5236290097236633, 0.4995384216308594, 0.5252586007118225, 0.5800254344940186, 0.4339422285556793, 0.36261677742004395, 0.4828038513660431, 0.4451996684074402, 0.34733664989471436, 0.5393384695053101, 0.5373161435127258, 0.43901070952415466, 0.4179750382900238, 0.4119184613227844, 0.3888101875782013, 0.4150298237800598, 0.402515709400177, 0.5083634853363037, 0.5435659885406494, 0.6369541883468628, 0.5418229103088379, 0.38186752796173096, 0.5228303670883179, 0.39325371384620667, 0.38679271936416626, 0.5138229727745056, 0.27816107869148254, 0.5943860411643982, 0.5465365648269653, 0.5033928155899048, 0.4701014757156372, 0.5522294044494629, 0.49564215540885925, 0.5293857455253601, 0.40714913606643677, 0.39190274477005005, 0.3934101462364197, 0.5542693138122559, 0.3359850347042084, 0.43654343485832214, 0.5526447892189026, 0.4457637071609497, 0.4755062162876129, 0.38127025961875916, 0.46846240758895874, 0.42405736446380615, 0.4799611270427704, 0.4327171742916107, 0.46449998021125793, 0.3334069550037384, 0.43476349115371704, 0.33069851994514465, 0.5100671648979187, 0.4598888158798218, 0.5396014451980591, 0.4611709713935852, 0.5220941305160522, 0.5774453282356262, 0.5238460302352905, 0.3838985860347748, 0.38226088881492615, 0.3367459774017334, 0.4277247488498688, 0.5766604542732239, 0.3662976920604706, 0.4356817603111267, 0.39356282353401184, 0.4940555691719055, 0.487952321767807, 0.5650243759155273, 0.6981553435325623, 0.3962252140045166, 0.522255539894104, 0.26604753732681274, 0.44550517201423645, 0.4799109399318695, 0.4544440805912018, 0.5762930512428284, 0.38231757283210754, 0.5990619659423828, 0.3374197483062744, 0.38738250732421875, 0.5001626014709473, 0.5573279857635498, 0.4060794413089752, 0.3687485158443451, 0.5277281999588013, 0.4320055842399597, 0.46113574504852295, 0.401078999042511, 0.5676760077476501, 0.4648367166519165, 0.5442769527435303, 0.46949753165245056, 0.5682095885276794, 0.3909435272216797, 0.3229995369911194, 0.5475009083747864, 0.386572003364563, 0.30820024013519287, 0.35037118196487427, 0.373661607503891, 0.32137995958328247, 0.43459832668304443, 0.5530369877815247, 0.5185688734054565, 0.5250051021575928, 0.5657102465629578, 0.39251700043678284, 0.40559157729148865, 0.5980537533760071, 0.37196871638298035, 0.44183841347694397, 0.4226600229740143, 0.35743606090545654, 0.3929809331893921, 0.3699615001678467, 0.41144824028015137, 0.4729321300983429, 0.3419029712677002, 0.5086988210678101, 0.4715811014175415, 0.3622591495513916, 0.46396660804748535, 0.6041926741600037, 0.37202635407447815, 0.3889308273792267, 0.25279825925827026, 0.42233946919441223, 0.4807991087436676, 0.4560055136680603, 0.44531500339508057, 0.4825432598590851, 0.38522469997406006, 0.5689117312431335, 0.3099522590637207, 0.40788283944129944, 0.44315123558044434, 0.5645027756690979, 0.33621251583099365, 0.33971408009529114, 0.5140507221221924, 0.488616406917572, 0.38383322954177856, 0.41943249106407166, 0.530440628528595, 0.33837100863456726, 0.5557647943496704, 0.4357309341430664, 0.2578159272670746, 0.5936375260353088, 0.39347973465919495, 0.37083443999290466, 0.4270143210887909, 0.38808977603912354, 0.42880287766456604, 0.3028859794139862, 0.401317298412323, 0.40202295780181885, 0.500310480594635, 0.3996730148792267, 0.49678125977516174, 0.48302164673805237, 0.3347138464450836, 0.4891599714756012, 0.48273056745529175, 0.36895954608917236, 0.40301594138145447, 0.3508945107460022, 0.37159934639930725, 0.32630211114883423, 0.3199785053730011, 0.5255284309387207, 0.35398826003074646, 0.5317436456680298, 0.4906424283981323, 0.3400651216506958, 0.2470012903213501, 0.37691038846969604, 0.3035218119621277, 0.40966546535491943, 0.4552851915359497, 0.7032061219215393, 0.42092975974082947, 0.3976525068283081, 0.611858069896698, 0.42329883575439453, 0.36791232228279114, 0.5084823369979858, 0.3926706612110138, 0.39245253801345825, 0.5384056568145752, 0.3383847773075104, 0.34365448355674744, 0.46836480498313904, 0.5559499859809875, 0.37015849351882935, 0.32102489471435547, 0.394530326128006, 0.5126357078552246, 0.4072888493537903, 0.3341142237186432, 0.3768571615219116, 0.5672445297241211, 0.5496074557304382, 0.36281514167785645, 0.4036204218864441, 0.4486485421657562, 0.5307597517967224, 0.29455265402793884, 0.4506922960281372, 0.5149276256561279, 0.3196606934070587, 0.4558831453323364, 0.5103275179862976, 0.38992270827293396, 0.5210341811180115, 0.41908130049705505, 0.6367093920707703, 0.3072693645954132, 0.3792130649089813, 0.478235125541687, 0.3719356656074524, 0.3603877127170563, 0.42073220014572144, 0.5211122632026672, 0.46572181582450867, 0.42100989818573, 0.540995717048645, 0.332023024559021, 0.40238600969314575, 0.5177702903747559, 0.5357541441917419, 0.38769057393074036, 0.439510703086853, 0.42791256308555603, 0.31506428122520447, 0.4240940809249878, 0.5448514819145203, 0.45897048711776733, 0.38362187147140503, 0.4289599359035492, 0.39998069405555725, 0.3032838702201843, 0.2890837788581848, 0.4725317656993866, 0.3788757026195526, 0.4362450838088989, 0.3493746519088745, 0.528337299823761, 0.3909069299697876, 0.40985730290412903, 0.464303582906723, 0.3962351083755493, 0.4953480660915375, 0.4826599061489105, 0.38237881660461426, 0.4475051164627075, 0.36693087220191956, 0.4031941592693329, 0.4028855562210083, 0.28828686475753784, 0.40407904982566833, 0.3702591061592102, 0.32765087485313416, 0.4106472134590149, 0.26525402069091797, 0.4201277494430542, 0.43274039030075073, 0.34991616010665894, 0.5487207770347595, 0.4149377942085266, 0.38141295313835144, 0.4320213198661804, 0.2907358407974243, 0.48967283964157104, 0.2927848994731903, 0.30773207545280457, 0.32816576957702637, 0.4426870048046112, 0.4557705223560333, 0.3604876399040222, 0.4302521049976349, 0.5144274234771729, 0.4187442362308502, 0.4753933250904083, 0.39495784044265747, 0.335326224565506, 0.43424415588378906, 0.4962157905101776, 0.31502094864845276, 0.46872904896736145, 0.3923404812812805, 0.31817713379859924, 0.33534500002861023, 0.4206395745277405, 0.4076237976551056, 0.40374574065208435, 0.4826101064682007, 0.33939194679260254, 0.3789874315261841, 0.3172818124294281, 0.540397047996521, 0.5741578936576843, 0.2936955690383911, 0.4194968044757843, 0.3756030797958374, 0.506582498550415, 0.4677067995071411, 0.36670953035354614, 0.5191615223884583, 0.35065510869026184, 0.36476242542266846, 0.31650978326797485, 0.3722900152206421, 0.3841755986213684, 0.3356863856315613, 0.4678908586502075, 0.4590841233730316, 0.3413999080657959, 0.38525980710983276, 0.4855724573135376, 0.3237268924713135, 0.46142032742500305, 0.35683268308639526, 0.35744261741638184, 0.32235896587371826, 0.332607626914978, 0.4654773771762848, 0.29716193675994873, 0.5983924865722656, 0.33925262093544006, 0.3962440490722656, 0.5150445699691772, 0.3172708749771118, 0.5400694012641907, 0.45243334770202637, 0.40531522035598755, 0.4953739643096924, 0.4413667321205139, 0.5658238530158997, 0.37837642431259155, 0.3183380365371704, 0.48978114128112793, 0.3970318138599396, 0.6372090578079224, 0.32514479756355286, 0.3758666515350342, 0.37393882870674133, 0.44192761182785034, 0.5013927817344666, 0.3952792286872864, 0.420332670211792, 0.34343817830085754, 0.44668644666671753, 0.34631073474884033, 0.3974606394767761, 0.5856942534446716, 0.3956606984138489, 0.46730804443359375, 0.7122881412506104, 0.6169807314872742, 0.4342079162597656, 0.5634204745292664, 0.41688072681427, 0.42093056440353394, 0.3719892203807831, 0.5180273652076721, 0.5627046823501587, 0.4700476825237274, 0.36908650398254395, 0.4809423089027405, 0.4246000051498413, 0.41597139835357666, 0.4066537916660309, 0.33063143491744995, 0.5378191471099854, 0.3290292024612427, 0.45932266116142273, 0.3916924297809601, 0.35520243644714355, 0.44725680351257324, 0.46216586232185364, 0.4913908839225769, 0.3912629783153534, 0.33758413791656494, 0.4155597388744354, 0.44494467973709106, 0.4381679892539978, 0.5200127959251404, 0.4649204909801483, 0.44584572315216064, 0.360637366771698, 0.3622919023036957, 0.39066749811172485, 0.5721051692962646, 0.5134352445602417, 0.41897904872894287, 0.4631776809692383, 0.47057488560676575, 0.4173610210418701, 0.4926608204841614, 0.4761798083782196, 0.2925716042518616, 0.5777735114097595, 0.5301499366760254, 0.3455032706260681, 0.5223538875579834, 0.49035537242889404, 0.5358811020851135, 0.4852558970451355, 0.4312399625778198, 0.47980308532714844, 0.37529709935188293, 0.5574828386306763, 0.5133408904075623, 0.5351830124855042, 0.5252420902252197, 0.4173891842365265, 0.40229371190071106, 0.39698871970176697, 0.45435774326324463, 0.3038715720176697, 0.3537186086177826, 0.40608614683151245, 0.37447619438171387, 0.43668705224990845, 0.38560807704925537, 0.5361982583999634, 0.40250763297080994, 0.4138883948326111, 0.377959281206131, 0.38692110776901245, 0.30434301495552063, 0.4195934236049652, 0.38827449083328247, 0.3496040999889374, 0.3090561032295227, 0.3602852523326874, 0.34170472621917725, 0.5355194807052612, 0.3978271782398224, 0.4714930057525635, 0.3836226761341095, 0.4372234344482422, 0.38552093505859375, 0.39244139194488525, 0.3516594171524048, 0.3218931555747986, 0.5133435726165771, 0.3550463616847992, 0.21717962622642517, 0.5474449396133423, 0.5015875697135925, 0.3593009114265442, 0.44042548537254333, 0.31849607825279236, 0.44235560297966003, 0.47182849049568176, 0.41130831837654114, 0.4353123903274536, 0.4525371789932251, 0.3871478736400604, 0.39007797837257385, 0.3781101703643799, 0.49261054396629333, 0.3143880367279053, 0.34428519010543823, 0.414869487285614, 0.31479817628860474, 0.4151924252510071, 0.4896010160446167, 0.4551021456718445, 0.3925166428089142, 0.43124258518218994, 0.37874075770378113, 0.3652072250843048, 0.43715202808380127, 0.5920548439025879, 0.4637375771999359, 0.3869336247444153, 0.3304882347583771, 0.406306654214859, 0.4632987082004547, 0.4128410220146179, 0.33168643712997437, 0.33929839730262756, 0.5347764492034912, 0.27332112193107605]\n"
          ]
        },
        {
          "output_type": "display_data",
          "data": {
            "text/plain": [
              "<Figure size 432x288 with 1 Axes>"
            ],
            "image/png": "[encoded data removed]"
          },
          "metadata": {
            "needs_background": "light"
          }
        },
        {
          "output_type": "stream",
          "name": "stdout",
          "text": [
            "After 2 Epochs:\n",
            "Validation Accuracy\n",
            "    9.958% -- Centered Weights [-0.5, 0.5)\n",
            "   84.433% -- General Rule [-y, y)\n",
            "Training Loss\n",
            "    2.303  -- Centered Weights [-0.5, 0.5)\n",
            "    0.273  -- General Rule [-y, y)\n"
          ]
        }
      ],
      "source": [
        "model_list = [(model_centered, 'Centered Weights [-0.5, 0.5)'),  # не надо менять название лейбла модели, на это завязаны тесты\n",
        "              (model_rule, 'General Rule [-y, y)')]              # не надо менять название лейбла модели, на это завязаны тесты\n",
        "\n",
        "compare_init_weights(model_list, \n",
        "                             '[-0.5, 0.5) vs [-y, y)', \n",
        "                             train_loader,\n",
        "                             valid_loader)"
      ]
    },
    {
      "cell_type": "markdown",
      "metadata": {
        "id": "LZZ_3YtuIaep"
      },
      "source": [
        "Такое поведение действительно многообещающе! Мало того, что лосс уменьшается, но, кажется, это происходит очень быстро; всего через две эпохи мы получаем довольно высокую точность на тесте. Это должно дать вам некоторое представление о том, почему хорошая инициализация весов действительно может помочь тренировочному процессу!\n",
        "\n",
        "---\n",
        "\n",
        "Равномерное распределение имеет одинаковый шанс выбрать *любое значение* в диапазоне. Что, если мы используем распределение, которое имеет более высокий шанс выбрать числа ближе к 0?  Давайте рассмотрим на нормальное распределение.\n",
        "\n",
        "### Hормальное распределение\n",
        "В отличие от равномерного распределения, [нормальное распределение](https://en.wikipedia.org/wiki/Normal_distribution) имеет более высокую вероятность выбора числа, близкого к среднему значению."
      ]
    },
    {
      "cell_type": "markdown",
      "metadata": {
        "id": "f6KlG2T2Iaer"
      },
      "source": [
        "**Задание:** добавьте нормальное распределение:\n",
        "как стандартное отклонение выберите $y=1/\\sqrt{n}$"
      ]
    },
    {
      "cell_type": "code",
      "execution_count": 15,
      "metadata": {
        "id": "yWtr-z3WIaes"
      },
      "outputs": [],
      "source": [
        "## complete this function\n",
        "def weights_init_normal(m):\n",
        "    '''Takes in a module and initializes all linear layers with weight\n",
        "       values taken from a normal distribution.'''\n",
        "    classname = m.__class__.__name__\n",
        "    if classname.find('Linear') != -1:\n",
        "        # get the number of the inputs\n",
        "        n = m.in_features\n",
        "        y = 1.0 / np.sqrt(n)\n",
        "        m.weight.data.uniform_(0, y)\n",
        "        m.bias.data.fill_(0)\n",
        "    "
      ]
    },
    {
      "cell_type": "code",
      "execution_count": 16,
      "metadata": {
        "id": "iriwx51SIaev",
        "colab": {
          "base_uri": "https://localhost:8080/"
        },
        "outputId": "16c1378b-c2e3-487c-e490-8ca6cb8ad3c0"
      },
      "outputs": [
        {
          "output_type": "execute_result",
          "data": {
            "text/plain": [
              "Net(\n",
              "  (fc1): Sequential(\n",
              "    (0): Linear(in_features=784, out_features=256, bias=True)\n",
              "    (1): ReLU()\n",
              "  )\n",
              "  (fc2): Sequential(\n",
              "    (0): Linear(in_features=256, out_features=128, bias=True)\n",
              "    (1): ReLU()\n",
              "  )\n",
              "  (fc3): Sequential(\n",
              "    (0): Linear(in_features=128, out_features=10, bias=True)\n",
              "    (1): ReLU()\n",
              "  )\n",
              "  (dropout): Dropout(p=0.2, inplace=False)\n",
              ")"
            ]
          },
          "metadata": {},
          "execution_count": 16
        }
      ],
      "source": [
        "## -- no need to change code below this line -- ##\n",
        "\n",
        "# create a new model with the rule-based, uniform weights\n",
        "model_uniform_rule = Net()\n",
        "\n",
        "seed_everything(42)\n",
        "model_uniform_rule.apply(weights_init_uniform_rule)\n",
        "\n",
        "# create a new model with the rule-based, NORMAL weights\n",
        "model_normal_rule = Net()\n",
        "\n",
        "seed_everything(42)\n",
        "model_normal_rule.apply(weights_init_normal)"
      ]
    },
    {
      "cell_type": "code",
      "execution_count": 17,
      "metadata": {
        "id": "u52PY05QIaez",
        "colab": {
          "base_uri": "https://localhost:8080/",
          "height": 479
        },
        "outputId": "950cfa30-7ddd-470f-bbe6-6890ec57ffc4"
      },
      "outputs": [
        {
          "output_type": "stream",
          "name": "stdout",
          "text": [
            "[2.314621686935425, 2.26279878616333, 2.223733425140381, 2.1777565479278564, 2.127990245819092, 2.043987989425659, 2.0200133323669434, 2.0250914096832275, 1.9328089952468872, 1.7889525890350342, 1.8669859170913696, 1.6252919435501099, 1.5078428983688354, 1.5707640647888184, 1.495133399963379, 1.4993467330932617, 1.522620677947998, 1.4393843412399292, 1.4038981199264526, 1.6108611822128296, 1.209167242050171, 1.1303881406784058, 1.484360933303833, 1.2909541130065918, 1.2488933801651, 1.2896209955215454, 1.3416213989257812, 1.2043095827102661, 1.2174782752990723, 1.153151273727417, 1.064306616783142, 1.0009095668792725, 1.1343090534210205, 1.0578595399856567, 0.9842407703399658, 1.2887846231460571, 1.0605121850967407, 1.1425833702087402, 1.0542181730270386, 1.08474600315094, 1.147315502166748, 1.075636863708496, 1.0124123096466064, 0.752726137638092, 1.0625969171524048, 0.8660215139389038, 0.8933911323547363, 0.7029966115951538, 1.003522515296936, 0.8569106459617615, 1.031589150428772, 0.9087240099906921, 0.7843884825706482, 0.9303062558174133, 1.0432218313217163, 0.7413774132728577, 0.8546886444091797, 0.8715711832046509, 0.7520887851715088, 0.8803799152374268, 0.8246927857398987, 0.8069111704826355, 0.6659929752349854, 0.8183417320251465, 1.034864902496338, 0.815565824508667, 0.7464737892150879, 0.7189812660217285, 0.7069860696792603, 0.787891149520874, 0.7433629631996155, 0.6780676245689392, 0.8060784339904785, 0.8236401081085205, 0.7199221849441528, 0.971412181854248, 0.8182007074356079, 0.6685943603515625, 0.7088168263435364, 0.7935439348220825, 0.8684660196304321, 0.8401201367378235, 0.7785898447036743, 0.6437435746192932, 0.5678330659866333, 0.7700321078300476, 0.9141901135444641, 0.7368699908256531, 0.6890904307365417, 0.6808591485023499, 0.7401231527328491, 0.8169925212860107, 0.6673650145530701, 0.6982919573783875, 0.8885707855224609, 0.8014223575592041, 0.7087684869766235, 0.6403349041938782, 0.774990975856781, 0.6714001297950745, 0.7980878353118896, 0.5667514204978943, 0.8347108364105225, 0.6378806829452515, 0.6663892269134521, 0.5796127915382385, 0.7471195459365845, 0.6580813527107239, 0.6349664330482483, 0.7727559804916382, 0.8069226145744324, 0.7626014947891235, 0.6060690879821777, 0.7121775150299072, 0.7487224340438843, 0.6017570495605469, 0.6314696073532104, 0.7945551872253418, 0.616347074508667, 0.6361656785011292, 0.7713829874992371, 0.6188578605651855, 0.7723343372344971, 0.5816130638122559, 0.7879797220230103, 0.5065824389457703, 0.681165337562561, 0.6795597076416016, 0.633059024810791, 0.6707088351249695, 0.6577939391136169, 0.6907792091369629, 0.6713618636131287, 0.5549997091293335, 0.48558875918388367, 0.7575359344482422, 0.7455541491508484, 0.6671212911605835, 0.6650226712226868, 0.654721736907959, 0.7982590198516846, 0.6430923342704773, 0.5869432687759399, 0.7424973845481873, 0.6581207513809204, 0.7154955267906189, 0.6612633466720581, 0.6386429071426392, 0.6176329255104065, 0.4049816429615021, 0.5218533277511597, 0.6545268297195435, 0.586826741695404, 0.5784115791320801, 0.6823182702064514, 0.6794787645339966, 0.5616313815116882, 0.5165631175041199, 0.658382773399353, 0.7063301801681519, 0.6672564148902893, 0.5412362813949585, 0.601871907711029, 0.6817939877510071, 0.5704368352890015, 0.5259426236152649, 0.5703682899475098, 0.5078734159469604, 0.6654162406921387, 0.67970871925354, 0.5379467010498047, 0.6706031560897827, 0.5202240943908691, 0.5327887535095215, 0.6857765913009644, 0.5200506448745728, 0.5953558087348938, 0.6042214035987854, 0.45458725094795227, 0.6685034036636353, 0.6395466327667236, 0.6805433034896851, 0.6780321002006531, 0.5622512698173523, 0.4516984224319458, 0.49803364276885986, 0.7738516926765442, 0.513985812664032, 0.5624992251396179, 0.5147424936294556, 0.6258779764175415, 0.6798823475837708, 0.5190487504005432, 0.5062450170516968, 0.5255622267723083, 0.7116965651512146, 0.5786638855934143, 0.5277769565582275, 0.5038782358169556, 0.6251952648162842, 0.5116034746170044, 0.517098605632782, 0.5769758224487305, 0.6192348003387451, 0.4109441637992859, 0.6399230360984802, 0.6678847670555115, 0.4097869396209717, 0.5881588459014893, 0.6371960043907166, 0.37648120522499084, 0.690712034702301, 0.5990200638771057, 0.6163907647132874, 0.693829357624054, 0.48659664392471313, 0.7354755997657776, 0.5152676105499268, 0.6748015880584717, 0.6572968363761902, 0.4753654897212982, 0.688854992389679, 0.5007008910179138, 0.6097155809402466, 0.5763738751411438, 0.6338260769844055, 0.45490482449531555, 0.44566068053245544, 0.47195762395858765, 0.5772389769554138, 0.5714068412780762, 0.6496195197105408, 0.5064694881439209, 0.6331543922424316, 0.7603086829185486, 0.5439642071723938, 0.5699683427810669, 0.5696579217910767, 0.5552201271057129, 0.5691000819206238, 0.5338581800460815, 0.4829544425010681, 0.45306941866874695, 0.5307372808456421, 0.6200115084648132, 0.5263602137565613, 0.48733410239219666, 0.6596385836601257, 0.5538106560707092, 0.5438213348388672, 0.5531090497970581, 0.4790254533290863, 0.4965328276157379, 0.4105612635612488, 0.4203369617462158, 0.5665284991264343, 0.493612140417099, 0.46170443296432495, 0.6058924198150635, 0.5248750448226929, 0.567762553691864, 0.6585835218429565, 0.5948362350463867, 0.48284295201301575, 0.43162083625793457, 0.5178287029266357, 0.5872472524642944, 0.6745420694351196, 0.5720059275627136, 0.3676847517490387, 0.5213831663131714, 0.5449679493904114, 0.5207288265228271, 0.6913377642631531, 0.561789333820343, 0.49029386043548584, 0.47163209319114685, 0.558072030544281, 0.431467741727829, 0.5750012397766113, 0.5534559488296509, 0.52748703956604, 0.5211098790168762, 0.623978853225708, 0.4417855739593506, 0.4502262473106384, 0.460764616727829, 0.5663796067237854, 0.6202657222747803, 0.4900096654891968, 0.46292877197265625, 0.4840141236782074, 0.5482173562049866, 0.40014106035232544, 0.3788856267929077, 0.4337993264198303, 0.43557143211364746, 0.5694405436515808, 0.48799750208854675, 0.49385902285575867, 0.5727575421333313, 0.488311231136322, 0.5013147592544556, 0.5528154969215393, 0.5964075326919556, 0.5869700908660889, 0.5372483134269714, 0.5636048316955566, 0.42397812008857727, 0.5762178301811218, 0.48975008726119995, 0.7680326700210571, 0.4698428213596344, 0.6475563645362854, 0.43518757820129395, 0.4531683027744293, 0.6585750579833984, 0.3978540301322937, 0.6190619468688965, 0.4140387773513794, 0.572745680809021, 0.596890926361084, 0.5760542750358582, 0.5077053904533386, 0.3808715343475342, 0.5367708802223206, 0.4935068190097809, 0.4395792782306671, 0.6578807234764099, 0.47444015741348267, 0.4668167233467102, 0.6380912661552429, 0.43695175647735596, 0.4584974944591522, 0.3904094398021698, 0.5826401710510254, 0.5992311835289001, 0.45112210512161255, 0.4766693115234375, 0.5613231658935547, 0.5453382134437561, 0.5280499458312988, 0.5759881138801575, 0.5441685318946838, 0.44149598479270935, 0.4906538128852844, 0.6682224869728088, 0.4131386876106262, 0.48160797357559204, 0.4444427192211151, 0.4644649028778076, 0.3801141381263733, 0.4197034537792206, 0.5202367901802063, 0.37412557005882263, 0.6222123503684998, 0.4262025058269501, 0.5593249797821045, 0.5196278095245361, 0.5204185843467712, 0.3880409598350525, 0.47385552525520325, 0.5143629312515259, 0.6505385041236877, 0.5523266792297363, 0.398003488779068, 0.5138142108917236, 0.5800957679748535, 0.5747107267379761, 0.6130258440971375, 0.42648792266845703, 0.43498364090919495, 0.39357686042785645, 0.47357261180877686, 0.4396170675754547, 0.4393584132194519, 0.5813994407653809, 0.4080440104007721, 0.5001539587974548, 0.5826297402381897, 0.7235702276229858, 0.5954298377037048, 0.4033361077308655, 0.39540329575538635, 0.4703085720539093, 0.5128298401832581, 0.40732693672180176, 0.6559450626373291, 0.6254817843437195, 0.44289249181747437, 0.609754204750061, 0.4905238449573517, 0.420734703540802, 0.3689761757850647, 0.5686478614807129, 0.4284895658493042, 0.5672661662101746, 0.508496880531311, 0.5162127614021301, 0.31978413462638855, 0.33180099725723267, 0.4094499945640564, 0.4576367437839508, 0.43240368366241455, 0.46143603324890137, 0.3359072804450989, 0.5956220030784607, 0.5413613319396973, 0.4728396534919739, 0.5412939190864563, 0.4013406038284302, 0.4431018829345703, 0.6526031494140625, 0.5857850909233093, 0.46188411116600037, 0.4738719165325165, 0.4337754547595978, 0.35184288024902344, 0.4182227849960327, 0.3936595916748047, 0.45401808619499207, 0.5315916538238525, 0.5729882717132568, 0.3643185794353485, 0.6518258452415466, 0.4504378139972687, 0.5536510944366455, 0.5153658390045166, 0.6113141775131226, 0.4194202423095703, 0.4516279101371765, 0.5296524167060852, 0.4689960479736328, 0.47670504450798035, 0.4589049816131592, 0.49982142448425293, 0.4261261820793152, 0.6181688904762268, 0.3954179883003235, 0.5538405776023865, 0.34938132762908936, 0.4302283525466919, 0.5957638621330261, 0.519844114780426, 0.5358766913414001, 0.42740970849990845, 0.4664902091026306, 0.6921954154968262, 0.5069335103034973, 0.49830231070518494, 0.46737492084503174, 0.5147097110748291, 0.3823862075805664, 0.5177126526832581, 0.5215428471565247, 0.6890794634819031, 0.45984402298927307, 0.53011155128479, 0.42096659541130066, 0.41024816036224365, 0.44555532932281494, 0.5628268718719482, 0.4799487590789795, 0.4621044993400574, 0.38206732273101807, 0.4602298438549042, 0.5184507966041565, 0.30136922001838684, 0.49398037791252136, 0.5277089476585388, 0.26107171177864075, 0.49392998218536377, 0.3758683502674103, 0.543433427810669, 0.5067469477653503, 0.3357473313808441, 0.3286190927028656, 0.45550987124443054, 0.4639173150062561, 0.523917555809021, 0.36071789264678955, 0.4686884582042694, 0.5495080351829529, 0.47358718514442444, 0.3800586760044098, 0.451631635427475, 0.5600677728652954, 0.36795273423194885, 0.5510429739952087, 0.35177871584892273, 0.5251027345657349, 0.5030206441879272, 0.3506771922111511, 0.5199301838874817, 0.49423518776893616, 0.48118236660957336, 0.46249470114707947, 0.49844127893447876, 0.5353425145149231, 0.32511577010154724, 0.3877314329147339, 0.5439516305923462, 0.2845699191093445, 0.45663905143737793, 0.3883359134197235, 0.44138580560684204, 0.3974948823451996, 0.3251633048057556, 0.5049139857292175, 0.5364372134208679, 0.39581093192100525, 0.44563236832618713, 0.4272768795490265, 0.4478623867034912, 0.5382602214813232, 0.4225511848926544, 0.6042771339416504, 0.4580284357070923, 0.5858548879623413, 0.505196750164032, 0.48687392473220825, 0.5002002120018005, 0.4934499263763428, 0.44728168845176697, 0.5512343049049377, 0.49419093132019043, 0.49817442893981934, 0.3852352201938629, 0.5974129438400269, 0.39651790261268616, 0.42091965675354004, 0.3679202198982239, 0.4677774906158447, 0.508084237575531, 0.584768533706665, 0.4177968502044678, 0.40119704604148865, 0.3885330855846405, 0.5277882218360901, 0.7096284627914429, 0.40119829773902893, 0.5297577381134033, 0.5529106259346008, 0.3902525007724762, 0.6123855113983154, 0.45332708954811096, 0.3307337462902069, 0.4859522879123688, 0.25386565923690796, 0.5194528102874756, 0.4709034264087677, 0.2890973389148712, 0.580472469329834, 0.5433538556098938, 0.4032270014286041, 0.5182445049285889, 0.36519232392311096, 0.41472160816192627, 0.4029685854911804, 0.4321385622024536, 0.48294174671173096, 0.3781943619251251, 0.5428047180175781, 0.4214264750480652, 0.34694334864616394, 0.36613285541534424, 0.5434378981590271, 0.5185233950614929, 0.42292144894599915, 0.4977215528488159, 0.41885337233543396, 0.5310251116752625, 0.3938513994216919, 0.4024913012981415, 0.39236029982566833, 0.4763873815536499, 0.4185694754123688, 0.41778603196144104, 0.5262678265571594, 0.5799018740653992, 0.5218971371650696, 0.45195630192756653, 0.2823813557624817, 0.4941571354866028, 0.48023152351379395, 0.38881751894950867, 0.38864654302597046, 0.4663800299167633, 0.4801290035247803, 0.383230596780777, 0.3150614798069, 0.4330247640609741, 0.6409012675285339, 0.3996439278125763, 0.26767557859420776, 0.42124998569488525, 0.5029667615890503, 0.49412429332733154, 0.37829068303108215, 0.40320107340812683, 0.36207592487335205, 0.3453584611415863, 0.34546950459480286, 0.48680880665779114, 0.731696367263794, 0.2734822928905487, 0.4135175347328186, 0.3564269244670868, 0.5115249752998352, 0.37940922379493713, 0.33878982067108154, 0.4267655611038208, 0.44437915086746216, 0.6930476427078247, 0.3817761540412903, 0.45645493268966675, 0.5165998339653015, 0.5325624942779541, 0.3740920126438141, 0.5397236347198486, 0.45453572273254395, 0.4063112735748291, 0.5972825884819031, 0.44159942865371704, 0.5941202640533447, 0.3314562141895294, 0.40494996309280396, 0.3171384036540985, 0.4002467691898346, 0.3974270522594452, 0.554785966873169, 0.5121731162071228, 0.5424084663391113, 0.3636828362941742, 0.4529917538166046, 0.4877251386642456, 0.3245774507522583, 0.47642412781715393, 0.38958659768104553, 0.3824633061885834, 0.27415934205055237, 0.6044206619262695, 0.37701216340065, 0.3758384585380554, 0.39179977774620056, 0.2981063425540924, 0.37033841013908386, 0.35252612829208374, 0.5252437591552734, 0.46858829259872437, 0.4483189880847931, 0.35626286268234253, 0.4975177049636841, 0.3568592965602875, 0.5450173020362854, 0.4522281885147095, 0.539691150188446, 0.41205188632011414, 0.47000789642333984, 0.3308318853378296, 0.3538696765899658, 0.375021368265152, 0.49456787109375, 0.32767584919929504, 0.40683528780937195, 0.549302339553833, 0.4129834473133087, 0.5309363603591919, 0.37721550464630127, 0.3530963957309723, 0.47443175315856934, 0.43823695182800293, 0.3927135467529297, 0.41528597474098206, 0.4651806652545929, 0.3039821982383728, 0.49906203150749207, 0.26847609877586365, 0.4081117510795593, 0.4233406186103821, 0.2921903729438782, 0.3312477767467499, 0.420159250497818, 0.3891722559928894, 0.2713627517223358, 0.3606209456920624, 0.47905075550079346, 0.4762912392616272, 0.6013030409812927, 0.5209986567497253, 0.3093112111091614, 0.380003422498703, 0.24846044182777405, 0.44142985343933105, 0.47896304726600647, 0.4222937524318695, 0.5958235263824463, 0.47045648097991943, 0.4790983200073242, 0.3503575026988983, 0.31898412108421326, 0.3960178792476654, 0.34405216574668884, 0.33500710129737854, 0.3542759418487549, 0.3605143427848816, 0.3290739357471466, 0.4014807641506195, 0.33393093943595886, 0.47261399030685425, 0.48783013224601746, 0.7607552409172058, 0.3106803894042969, 0.4900851845741272, 0.49367791414260864, 0.3647868037223816, 0.5030372738838196, 0.44895026087760925, 0.4266568124294281, 0.2717234790325165, 0.4716419279575348, 0.5477101802825928, 0.43813008069992065, 0.7486960887908936, 0.5798871517181396, 0.3674231767654419, 0.4457905888557434, 0.44326868653297424, 0.4344821274280548, 0.5494937300682068, 0.5238550901412964, 0.4852433502674103, 0.4333118796348572, 0.4319590628147125, 0.37800586223602295, 0.49656879901885986, 0.6763556003570557, 0.492450475692749, 0.4831303656101227, 0.47154349088668823, 0.407164990901947, 0.37427857518196106, 0.4009087085723877, 0.40227776765823364, 0.4236709475517273, 0.3484189510345459, 0.39758002758026123, 0.3756698966026306, 0.3224976360797882, 0.2417893409729004, 0.5246431231498718, 0.37292125821113586, 0.3550693392753601, 0.4812576174736023, 0.2703201174736023, 0.4234158992767334, 0.42273715138435364, 0.34735485911369324, 0.40752020478248596, 0.34059369564056396, 0.44469451904296875, 0.45330220460891724, 0.4583036005496979, 0.4150433838367462, 0.3767417073249817, 0.3772965669631958, 0.3884400427341461, 0.3402053415775299, 0.5812447667121887, 0.2972170114517212, 0.45143619179725647, 0.559497058391571, 0.289544016122818, 0.5895423293113708, 0.4540146291255951, 0.3674948513507843, 0.3456375002861023, 0.3640913665294647, 0.32399699091911316, 0.33115023374557495, 0.5050501227378845, 0.5751010775566101, 0.4123055338859558, 0.39419060945510864, 0.3875734210014343, 0.35153475403785706, 0.43603309988975525, 0.47604215145111084, 0.3596231937408447, 0.4853491485118866, 0.47378799319267273, 0.33963873982429504, 0.364400714635849, 0.3606865704059601, 0.3690297603607178, 0.4187704026699066, 0.47804564237594604, 0.4028458893299103, 0.5857235193252563, 0.4306463599205017, 0.46298590302467346, 0.37305372953414917, 0.702440619468689, 0.4004327058792114, 0.4560285210609436, 0.38320013880729675, 0.4373948574066162, 0.384734570980072, 0.3009549379348755, 0.3990979790687561, 0.42949074506759644, 0.475769579410553, 0.5301080942153931, 0.4011618494987488, 0.4360257089138031, 0.4398733973503113, 0.28039687871932983, 0.4117276072502136, 0.3395426869392395, 0.5250101685523987, 0.25339388847351074, 0.40945369005203247, 0.4134538173675537, 0.3002277910709381, 0.34224143624305725, 0.4075940251350403, 0.32364165782928467, 0.46058711409568787, 0.34569892287254333, 0.2137100249528885, 0.543482780456543, 0.4933379888534546, 0.4871140420436859, 0.5040042996406555, 0.4469010531902313, 0.4334656894207001, 0.39089587330818176, 0.4108295142650604, 0.3727741241455078, 0.5234229564666748, 0.3799242675304413, 0.5478417873382568, 0.3434666693210602, 0.383370965719223, 0.6519729495048523, 0.3709529638290405, 0.2934378683567047, 0.5885570645332336, 0.31969258189201355, 0.33165237307548523, 0.33685529232025146, 0.3709436357021332, 0.42197421193122864, 0.5268313884735107, 0.4007602334022522, 0.38540133833885193, 0.4254818260669708, 0.414951890707016, 0.32837462425231934, 0.5750798583030701, 0.5023684501647949, 0.5066554546356201, 0.41496899724006653, 0.49973350763320923, 0.48434340953826904, 0.6169936656951904, 0.3868962228298187, 0.3936978280544281, 0.38116034865379333, 0.5047794580459595, 0.33091461658477783, 0.39367905259132385, 0.4099459946155548, 0.7136249542236328, 0.4267549216747284, 0.407921701669693, 0.4752836525440216, 0.4086160361766815, 0.45242583751678467, 0.3839305639266968, 0.400818794965744, 0.3194276988506317, 0.38525164127349854, 0.38724398612976074, 0.44728684425354004, 0.45391133427619934, 0.3929932415485382, 0.36107414960861206, 0.3376418650150299, 0.6561676263809204, 0.408392071723938, 0.4449371099472046, 0.3552599251270294, 0.5033556818962097, 0.5496505498886108, 0.3403662443161011, 0.21327070891857147, 0.3183077573776245, 0.4144039452075958, 0.385093092918396, 0.5145938396453857, 0.47599291801452637, 0.49595940113067627, 0.47086670994758606, 0.4176039397716522, 0.4522819221019745, 0.35375428199768066, 0.5234571099281311, 0.445217102766037, 0.3836533725261688, 0.3479028344154358, 0.37886711955070496, 0.34922608733177185, 0.3790310025215149, 0.46112141013145447, 0.3731389343738556, 0.3468675911426544, 0.306936115026474, 0.4776223301887512, 0.3361249268054962, 0.36950093507766724, 0.4212903678417206, 0.4956185519695282, 0.45007026195526123, 0.47629424929618835, 0.4733716547489166, 0.27947574853897095, 0.4327162802219391, 0.5115666389465332, 0.3660483658313751, 0.3697229027748108, 0.2595547139644623, 0.4900382161140442, 0.39106589555740356, 0.49377307295799255, 0.47589394450187683, 0.40138617157936096, 0.5056270360946655, 0.26184165477752686, 0.6455565690994263, 0.3712742328643799, 0.4613639712333679, 0.41830700635910034, 0.4527716040611267, 0.37999752163887024, 0.4823540151119232, 0.5158116817474365, 0.3123205304145813, 0.4761677086353302, 0.38923659920692444, 0.37197887897491455, 0.3271438479423523, 0.445085346698761, 0.23701952397823334, 0.3585948050022125, 0.4454706907272339, 0.37593570351600647, 0.4804593622684479, 0.2483631670475006, 0.4997859299182892]\n",
            "[28.708051681518555, 19.778667449951172, 12.0043306350708, 9.319332122802734, 7.454458236694336, 6.088095188140869, 7.273362636566162, 6.82943868637085, 7.446483135223389, 6.984783172607422, 6.990859508514404, 6.722144603729248, 5.607711315155029, 5.083014488220215, 4.282361030578613, 4.286466598510742, 3.6002087593078613, 3.3061490058898926, 2.9816503524780273, 2.4542951583862305, 2.3393354415893555, 2.3243613243103027, 2.2810564041137695, 2.2912373542785645, 2.294553279876709, 2.299436569213867, 2.2972142696380615, 2.3014326095581055, 2.3017640113830566, 2.301389217376709, 2.302645683288574, 2.3025503158569336, 2.301759719848633, 2.3020806312561035, 2.302156925201416, 2.2991199493408203, 2.3013532161712646, 2.3003814220428467, 2.300168991088867, 2.301079034805298, 2.300624132156372, 2.3008506298065186, 2.2998833656311035, 2.301844835281372, 2.3016293048858643, 2.2989656925201416, 2.2972073554992676, 2.2938754558563232, 2.2977356910705566, 2.297893762588501, 2.298290491104126, 2.2981297969818115, 2.2982473373413086, 2.298754930496216, 2.298349380493164, 2.296532154083252, 2.2962887287139893, 2.294365882873535, 2.2968502044677734, 2.2982239723205566, 2.292302131652832, 2.296603202819824, 2.295457363128662, 2.295222043991089, 2.2917685508728027, 2.289557456970215, 2.2961907386779785, 2.2994635105133057, 2.2892303466796875, 2.2888801097869873, 2.2880656719207764, 2.2876410484313965, 2.285545825958252, 2.2906553745269775, 2.2820916175842285, 2.287290334701538, 2.285466194152832, 2.2905690670013428, 2.288621187210083, 2.2761292457580566, 2.2750051021575928, 2.2849349975585938, 2.2749855518341064, 2.2816457748413086, 2.2810189723968506, 2.2817702293395996, 2.2740824222564697, 2.268223285675049, 2.2672910690307617, 2.2652692794799805, 2.2692978382110596, 2.2652244567871094, 2.2541513442993164, 2.2767248153686523, 2.2517361640930176, 2.268141269683838, 2.261052131652832, 2.259033679962158, 2.263333797454834, 2.2438485622406006, 2.2444331645965576, 2.2570669651031494, 2.249387741088867, 2.2408854961395264, 2.238544225692749, 2.230114698410034, 2.243947744369507, 2.242521286010742, 2.2342934608459473, 2.209733724594116, 2.2374794483184814, 2.2124602794647217, 2.215397834777832, 2.2133333683013916, 2.222473382949829, 2.211209535598755, 2.209205389022827, 2.1853623390197754, 2.1833443641662598, 2.2047107219696045, 2.1576743125915527, 2.125788927078247, 2.185143232345581, 2.1555681228637695, 2.1534769535064697, 2.169950008392334, 2.2070844173431396, 2.1174094676971436, 2.0856664180755615, 2.1067867279052734, 2.10758113861084, 2.112882614135742, 2.089174270629883, 2.1166586875915527, 2.072969436645508, 2.081590175628662, 2.120145320892334, 2.0538337230682373, 2.070556402206421, 2.0510482788085938, 2.1334447860717773, 2.0126900672912598, 2.1213436126708984, 2.0971364974975586, 1.989599585533142, 2.084209680557251, 2.0715482234954834, 1.9897311925888062, 1.9419506788253784, 1.9956011772155762, 2.0557026863098145, 1.9985482692718506, 1.9839874505996704, 2.0226523876190186, 1.9064058065414429, 1.9721530675888062, 1.9311928749084473, 1.9320123195648193, 1.9676915407180786, 2.021427631378174, 1.955308437347412, 1.9709352254867554, 1.9502569437026978, 1.9604699611663818, 1.8673384189605713, 1.9139584302902222, 1.946561336517334, 2.009748935699463, 1.8607778549194336, 1.941178560256958, 1.9562475681304932, 1.8709025382995605, 1.924881100654602, 1.8851722478866577, 1.931463360786438, 1.8505467176437378, 1.8769502639770508, 1.8690752983093262, 1.9318084716796875, 1.8200947046279907, 1.7636038064956665, 1.887054443359375, 1.8864541053771973, 1.7823834419250488, 1.889845848083496, 1.906782865524292, 1.7892937660217285, 1.8927875757217407, 1.7771693468093872, 1.8376672267913818, 1.8687751293182373, 1.7644935846328735, 1.830678105354309, 1.8277438879013062, 1.8441505432128906, 1.788130521774292, 1.8378506898880005, 1.8768235445022583, 1.8659025430679321, 1.810054898262024, 1.745755672454834, 1.8005967140197754, 1.8107377290725708, 1.8579481840133667, 1.7796218395233154, 1.8545364141464233, 1.7531887292861938, 1.685826063156128, 1.8397412300109863, 1.7063902616500854, 1.7018319368362427, 1.789872646331787, 1.7557508945465088, 1.6828508377075195, 1.6889963150024414, 1.7611078023910522, 1.7985665798187256, 1.6308696269989014, 1.6576498746871948, 1.7548441886901855, 1.6715917587280273, 1.7835438251495361, 1.6018383502960205, 1.7003675699234009, 1.7180449962615967, 1.7026616334915161, 1.6883440017700195, 1.6661791801452637, 1.6866023540496826, 1.6825464963912964, 1.6447938680648804, 1.7224922180175781, 1.586122989654541, 1.6494957208633423, 1.7179700136184692, 1.5312293767929077, 1.623017430305481, 1.7211384773254395, 1.681012749671936, 1.6320339441299438, 1.5641343593597412, 1.5967081785202026, 1.6097456216812134, 1.6531987190246582, 1.5023183822631836, 1.670136570930481, 1.5572932958602905, 1.6636749505996704, 1.6818475723266602, 1.6438119411468506, 1.5059303045272827, 1.60294771194458, 1.5836493968963623, 1.6980024576187134, 1.5751652717590332, 1.6462798118591309, 1.5866057872772217, 1.5945444107055664, 1.5828263759613037, 1.5394835472106934, 1.4634299278259277, 1.6937390565872192, 1.5523192882537842, 1.6011465787887573, 1.5988421440124512, 1.6356698274612427, 1.541404366493225, 1.5029487609863281, 1.52179753780365, 1.611830711364746, 1.4979876279830933, 1.5941109657287598, 1.5166479349136353, 1.58586847782135, 1.466874122619629, 1.5194346904754639, 1.4795417785644531, 1.5721180438995361, 1.4043983221054077, 1.518082857131958, 1.6212081909179688, 1.4203959703445435, 1.5296621322631836, 1.4586983919143677, 1.5279054641723633, 1.594050407409668, 1.529667615890503, 1.4328584671020508, 1.5305644273757935, 1.5184526443481445, 1.4637032747268677, 1.4374380111694336, 1.4323838949203491, 1.3632826805114746, 1.3891338109970093, 1.5235744714736938, 1.4318487644195557, 1.521754264831543, 1.4273971319198608, 1.556665301322937, 1.5489246845245361, 1.4563789367675781, 1.4411815404891968, 1.4520537853240967, 1.305025339126587, 1.4605801105499268, 1.4422290325164795, 1.4444808959960938, 1.495305061340332, 1.4258488416671753, 1.3161096572875977, 1.4569144248962402, 1.4501745700836182, 1.416718602180481, 1.4493426084518433, 1.4451087713241577, 1.4847644567489624, 1.4758284091949463, 1.3946542739868164, 1.4515326023101807, 1.4762338399887085, 1.4835541248321533, 1.4292304515838623, 1.4569042921066284, 1.5578051805496216, 1.4144165515899658, 1.4362636804580688, 1.3539247512817383, 1.3031762838363647, 1.4480912685394287, 1.3423144817352295, 1.3906610012054443, 1.4296340942382812, 1.4469817876815796, 1.4352760314941406, 1.5108166933059692, 1.5611306428909302, 1.4425327777862549, 1.4798420667648315, 1.4045377969741821, 1.3157020807266235, 1.4082691669464111, 1.370255470275879, 1.4612404108047485, 1.5372631549835205, 1.348323941230774, 1.243499994277954, 1.3139772415161133, 1.5017509460449219, 1.4462363719940186, 1.3761694431304932, 1.5327926874160767, 1.4373862743377686, 1.3157042264938354, 1.402195930480957, 1.4490036964416504, 1.5169508457183838, 1.3151192665100098, 1.5715622901916504, 1.4849350452423096, 1.2665327787399292, 1.4167438745498657, 1.4014739990234375, 1.4664665460586548, 1.488802433013916, 1.4640321731567383, 1.3788081407546997, 1.4306308031082153, 1.2538774013519287, 1.320567011833191, 1.4155868291854858, 1.4433331489562988, 1.2861872911453247, 1.3357212543487549, 1.2570116519927979, 1.4332876205444336, 1.5306085348129272, 1.4314996004104614, 1.3274459838867188, 1.2236969470977783, 1.4395434856414795, 1.3764714002609253, 1.275965929031372, 1.3053783178329468, 1.4490149021148682, 1.385156512260437, 1.3075883388519287, 1.305620551109314, 1.3322001695632935, 1.317684531211853, 1.3691896200180054, 1.362366795539856, 1.4257638454437256, 1.391472578048706, 1.3327689170837402, 1.3730707168579102, 1.453436255455017, 1.2634414434432983, 1.3338890075683594, 1.320279598236084, 1.3745373487472534, 1.2993836402893066, 1.3321670293807983, 1.3165076971054077, 1.4246330261230469, 1.2408102750778198, 1.3269294500350952, 1.3741106986999512, 1.3052849769592285, 1.2735992670059204, 1.2689296007156372, 1.3162144422531128, 1.394338846206665, 1.1923601627349854, 1.4100223779678345, 1.2060983180999756, 1.3794468641281128, 1.426856517791748, 1.396054744720459, 1.356605887413025, 1.1641744375228882, 1.2954869270324707, 1.1412078142166138, 1.2636204957962036, 1.2083851099014282, 1.2345060110092163, 1.2896112203598022, 1.2143774032592773, 1.356035590171814, 1.3836560249328613, 1.3926992416381836, 1.286728024482727, 1.284652590751648, 1.4116512537002563, 1.231824517250061, 1.276699423789978, 1.2569137811660767, 1.3733516931533813, 1.3084352016448975, 1.3970599174499512, 1.2677725553512573, 1.355738639831543, 1.1922060251235962, 1.4842197895050049, 1.5285208225250244, 1.440840721130371, 1.295956015586853, 1.3754140138626099, 1.3578896522521973, 1.2589783668518066, 1.4362014532089233, 1.264983057975769, 1.2237310409545898, 1.2144930362701416, 1.3540663719177246, 1.2489216327667236, 1.3299560546875, 1.2941783666610718, 1.2307509183883667, 1.2633002996444702, 1.116957664489746, 1.316623330116272, 1.3577238321304321, 1.2806659936904907, 1.3239494562149048, 1.4259026050567627, 1.2287681102752686, 1.2709132432937622, 1.3430092334747314, 1.2027910947799683, 1.2576106786727905, 1.2546279430389404, 1.282323956489563, 1.158429741859436, 1.2596882581710815, 1.3570104837417603, 1.2081806659698486, 1.1997238397598267, 1.2024911642074585, 1.2494171857833862, 1.27558171749115, 1.5773066282272339, 1.291603446006775, 1.3552111387252808, 1.2831676006317139, 1.1214017868041992, 1.3326998949050903, 1.3861219882965088, 1.279521107673645, 1.3251265287399292, 1.184025764465332, 1.3373953104019165, 1.2264498472213745, 1.2846498489379883, 1.150144100189209, 1.1403931379318237, 1.289902687072754, 1.3901444673538208, 1.1752002239227295, 1.2503390312194824, 1.1329408884048462, 1.2997236251831055, 1.3075804710388184, 1.1693123579025269, 1.2828783988952637, 1.1618770360946655, 1.2029939889907837, 1.1399503946304321, 1.3352071046829224, 1.2326650619506836, 1.1312428712844849, 1.423619270324707, 1.2759714126586914, 1.2303111553192139, 1.36604905128479, 1.2549077272415161, 1.2261934280395508, 1.1758726835250854, 1.1773391962051392, 1.3257030248641968, 1.3702747821807861, 1.1325628757476807, 1.3844857215881348, 1.2502232789993286, 1.2785052061080933, 1.2525137662887573, 1.1277488470077515, 1.2022920846939087, 1.172195553779602, 1.2170253992080688, 1.3070865869522095, 1.185448408126831, 1.2549777030944824, 1.2508820295333862, 1.1961816549301147, 1.2210367918014526, 1.2541158199310303, 1.1468244791030884, 1.2382028102874756, 1.1201545000076294, 1.228999376296997, 1.1284042596817017, 1.3057583570480347, 1.3009729385375977, 1.235456109046936, 1.2182527780532837, 1.3493794202804565, 1.1548875570297241, 1.1963423490524292, 1.2755364179611206, 1.2056349515914917, 1.2000902891159058, 1.1492606401443481, 1.1541752815246582, 1.188083291053772, 1.080410122871399, 1.1024692058563232, 1.1720682382583618, 1.067444920539856, 1.3037388324737549, 1.187171459197998, 1.2904571294784546, 1.1149864196777344, 1.1280946731567383, 1.1383588314056396, 1.1258149147033691, 1.0809038877487183, 1.2038623094558716, 1.1737346649169922, 1.2040694952011108, 1.1918281316757202, 1.167097568511963, 1.0414963960647583, 1.2366942167282104, 1.1076815128326416, 1.207358717918396, 1.1073304414749146, 1.2560396194458008, 1.2073951959609985, 1.1184673309326172, 1.3699580430984497, 1.208471417427063, 1.082512378692627, 1.22199547290802, 1.2983977794647217, 1.0779911279678345, 1.2213150262832642, 1.19088876247406, 1.078902244567871, 1.1948755979537964, 1.1256637573242188, 1.0519320964813232, 1.1901297569274902, 1.2017369270324707, 1.0886369943618774, 1.140743613243103, 1.1860475540161133, 1.255263090133667, 1.1575291156768799, 1.2356882095336914, 1.1445866823196411, 1.1276898384094238, 1.1040894985198975, 1.068053960800171, 1.0861872434616089, 1.215937614440918, 1.200421929359436, 1.0068707466125488, 1.1075397729873657, 1.1900657415390015, 1.1677920818328857, 1.1438946723937988, 1.2698782682418823, 1.2041290998458862, 0.9940719604492188, 1.2559175491333008, 1.2901558876037598, 0.9275842905044556, 1.1791586875915527, 1.2056854963302612, 0.9944841265678406, 1.0706440210342407, 1.1873129606246948, 0.9734875559806824, 1.2293108701705933, 1.1457799673080444, 1.2344578504562378, 1.1673338413238525, 1.0917353630065918, 1.1583101749420166, 1.1058313846588135, 1.1311657428741455, 1.0811419486999512, 1.1360548734664917, 1.1030694246292114, 1.0360498428344727, 1.1700983047485352, 1.0988067388534546, 1.2064613103866577, 1.113877534866333, 1.1552115678787231, 1.0989621877670288, 1.177251935005188, 1.0829691886901855, 1.0732510089874268, 1.159212589263916, 1.1778548955917358, 1.051666021347046, 1.2172226905822754, 1.1359612941741943, 1.2924091815948486, 1.0608347654342651, 1.053216814994812, 1.112391471862793, 1.1085631847381592, 1.0132251977920532, 1.0102133750915527, 1.0780267715454102, 1.0972483158111572, 1.164770483970642, 1.1543877124786377, 1.0565377473831177, 0.9642723798751831, 1.0233718156814575, 1.0270814895629883, 1.1197395324707031, 1.1248973608016968, 1.0868160724639893, 1.0373835563659668, 1.131298542022705, 1.1586692333221436, 1.152348279953003, 1.2606706619262695, 0.9790521860122681, 1.2062315940856934, 1.0590600967407227, 1.2975726127624512, 1.1288353204727173, 1.0726995468139648, 1.228513479232788, 1.2471433877944946, 1.0949311256408691, 1.2206412553787231, 1.1309642791748047, 0.9590652585029602, 1.0831187963485718, 1.0410503149032593, 0.937824547290802, 1.0967308282852173, 1.1198039054870605, 1.3044894933700562, 0.960635244846344, 0.9550876021385193, 0.9694857597351074, 1.261440634727478, 1.0819041728973389, 1.1025903224945068, 1.1018847227096558, 1.1125224828720093, 1.1355292797088623, 1.2789247035980225, 1.044821858406067, 1.2386125326156616, 1.152592658996582, 1.0688509941101074, 1.2341169118881226, 1.17621910572052, 0.971910297870636, 0.9929517507553101, 1.269892692565918, 1.3895530700683594, 1.1341354846954346, 1.12822687625885, 1.1086068153381348, 1.045609712600708, 1.1485984325408936, 1.0572913885116577, 1.0323673486709595, 0.980517566204071, 1.0490131378173828, 1.1506115198135376, 1.1522618532180786, 1.0539740324020386, 0.9700952768325806, 1.1729233264923096, 0.9985011219978333, 1.125792145729065, 1.0726510286331177, 1.051581621170044, 1.0869708061218262, 1.1843390464782715, 0.9983278512954712, 1.050826072692871, 1.1292780637741089, 1.099005103111267, 1.1857634782791138, 0.8794041275978088, 1.087782859802246, 1.0442780256271362, 1.0212680101394653, 1.0904834270477295, 0.9711965918540955, 0.9270551800727844, 0.976671040058136, 1.0549033880233765, 1.0427117347717285, 0.9945266842842102, 1.027660846710205, 1.052526593208313, 1.0161086320877075, 1.0285307168960571, 1.0170913934707642, 0.9799201488494873, 0.9180535078048706, 1.0835684537887573, 1.0516432523727417, 1.0994523763656616, 1.047881841659546, 1.0786924362182617, 1.044489860534668, 1.042515516281128, 1.0475234985351562, 1.0105050802230835, 0.9463590383529663, 1.0242198705673218, 0.9690799117088318, 1.072121500968933, 1.0311537981033325, 0.9956250190734863, 1.081010103225708, 1.229027271270752, 1.0093592405319214, 1.2126003503799438, 0.9089570641517639, 1.0997573137283325, 1.0456465482711792, 1.0763957500457764, 1.072999119758606, 1.041775107383728, 1.1149786710739136, 1.1360348463058472, 1.0113418102264404, 1.0959616899490356, 1.1837875843048096, 1.1104199886322021, 0.9624236822128296, 0.8997977375984192, 1.0082429647445679, 0.9403218626976013, 1.1667585372924805, 0.9368602633476257, 0.9874959588050842, 1.0914472341537476, 1.1697639226913452, 1.0673266649246216, 1.1846063137054443, 1.1353871822357178, 1.0750831365585327, 0.9405324459075928, 1.0021246671676636, 1.1389073133468628, 1.103152871131897, 1.1610163450241089, 0.9627411365509033, 1.159933090209961, 0.9581816792488098, 1.0023837089538574, 1.250728726387024, 1.0648808479309082, 1.0613073110580444, 1.055017352104187, 0.9589420557022095, 1.057540774345398, 0.9865749478340149, 1.1651787757873535, 1.0154703855514526, 1.0924195051193237, 0.820859968662262, 0.7762007117271423, 0.9728169441223145, 1.0114235877990723, 0.9751687049865723, 0.9922124743461609, 1.0545868873596191, 1.0283340215682983, 1.089196801185608, 0.9066213369369507, 0.9743600487709045, 1.1375000476837158, 1.2002769708633423, 1.0073978900909424, 0.9120992422103882, 1.129140019416809, 0.9408938884735107, 0.9868065118789673, 1.155004620552063, 1.1210325956344604, 1.0169062614440918, 1.129085898399353, 1.2440521717071533, 1.079482913017273, 0.9587892889976501, 1.0549834966659546, 1.0998784303665161, 1.0070003271102905, 1.1770151853561401, 0.9068440198898315, 0.9607827067375183, 0.9314630031585693, 1.0449082851409912, 1.1287450790405273, 1.0069124698638916, 0.8963325619697571, 1.0504683256149292, 0.915126621723175, 1.0743110179901123, 0.9838208556175232, 0.7677052021026611, 0.946474552154541, 1.087097406387329, 1.0924583673477173, 1.107792615890503, 0.9685918688774109, 1.0801204442977905, 1.0271391868591309, 1.1583081483840942, 1.061700701713562, 0.8741716742515564, 1.0109089612960815, 1.1022623777389526, 1.0435082912445068, 1.1545583009719849, 0.8630850315093994, 1.0229852199554443, 1.0856518745422363, 1.0975950956344604, 0.9904009103775024, 0.9219754934310913, 1.023657202720642, 0.9136350750923157, 0.9678786396980286, 1.046858310699463, 0.9259179830551147, 1.0440446138381958, 1.0223731994628906, 0.955539882183075, 0.9877044558525085, 1.122169017791748, 1.2699201107025146, 1.0465699434280396, 1.1043140888214111, 1.0116488933563232, 1.044180989265442, 0.8066422939300537, 0.9684470891952515, 1.163875699043274, 1.0943927764892578, 0.8286129236221313, 0.903878390789032, 0.9212763905525208, 1.016169548034668, 0.9385762810707092, 1.1126790046691895, 0.997180163860321, 0.963012158870697, 0.9991461038589478, 1.1744498014450073, 1.004492998123169, 0.9337701201438904, 0.9957264065742493, 0.9435228109359741, 1.0948928594589233, 1.1372175216674805, 1.002515435218811, 0.9642789363861084, 1.0578962564468384, 1.0040456056594849, 0.9686522483825684, 1.1354210376739502, 0.8409860730171204, 1.0059099197387695, 1.1302050352096558, 1.0058172941207886, 0.932766854763031, 1.0459502935409546, 1.095065951347351, 0.9727126359939575, 1.0205292701721191, 0.9938746690750122, 1.109749674797058, 0.9544090032577515, 0.9804025888442993, 1.0097875595092773, 0.9934427738189697, 1.1463936567306519, 0.9128698706626892, 0.980467677116394, 1.069718837738037, 1.0890406370162964, 1.2062407732009888, 1.127364158630371, 1.0330133438110352, 1.0950956344604492, 0.9939461350440979, 0.8436160087585449, 1.0003342628479004, 1.1643261909484863, 1.0689560174942017, 0.9053688049316406, 1.2447456121444702, 1.0666515827178955, 0.9846106767654419, 1.0136916637420654, 1.002844214439392, 1.2724676132202148, 1.178790807723999, 0.9339494109153748, 1.0306129455566406, 1.1560285091400146, 0.9690589904785156]\n"
          ]
        },
        {
          "output_type": "display_data",
          "data": {
            "text/plain": [
              "<Figure size 432x288 with 1 Axes>"
            ],
            "image/png": "[encoded data removed]"
          },
          "metadata": {
            "needs_background": "light"
          }
        },
        {
          "output_type": "stream",
          "name": "stdout",
          "text": [
            "After 2 Epochs:\n",
            "Validation Accuracy\n",
            "   85.708% -- Uniform Rule [-y, y)\n",
            "   60.958% -- Normal Distribution\n",
            "Training Loss\n",
            "    0.500  -- Uniform Rule [-y, y)\n",
            "    0.969  -- Normal Distribution\n"
          ]
        }
      ],
      "source": [
        "model_list = [(model_uniform_rule, 'Uniform Rule [-y, y)'), # не надо менять название лейбла модели, на это завязаны тесты\n",
        "              (model_normal_rule, 'Normal Distribution')]   # не надо менять название лейбла модели, на это завязаны тесты\n",
        "\n",
        "compare_init_weights(model_list, \n",
        "                             'Uniform vs Normal', \n",
        "                             train_loader,\n",
        "                             valid_loader)"
      ]
    },
    {
      "cell_type": "markdown",
      "metadata": {
        "id": "AhmqCw3ZIae2"
      },
      "source": [
        "Нормальное распределение дает нам довольно похожее поведение по сравнению с равномерным распределением в данном случае. Вероятно, это связано с тем, что наша сеть очень мала; более крупная нейронная сеть будет выбирать больше весовых значений из каждого из этих распределений, увеличивая эффект обоих стилей инициализации. В общем случае нормальное распределение приведет к улучшению качества модели."
      ]
    },
    {
      "cell_type": "code",
      "source": [],
      "metadata": {
        "id": "C-6zl68sk0C3"
      },
      "execution_count": 17,
      "outputs": []
    }
  ],
  "metadata": {
    "anaconda-cloud": {},
    "colab": {
      "provenance": []
    },
    "kernelspec": {
      "display_name": "Python [default]",
      "language": "python",
      "name": "python3"
    },
    "language_info": {
      "codemirror_mode": {
        "name": "ipython",
        "version": 3
      },
      "file_extension": ".py",
      "mimetype": "text/x-python",
      "name": "python",
      "nbconvert_exporter": "python",
      "pygments_lexer": "ipython3",
      "version": "3.6.4"
    },
    "widgets": {
      "application/vnd.jupyter.widget-state+json": {
        "3e363b6afef8405fb36fcf1f1ea27b49": {
          "model_module": "@jupyter-widgets/controls",
          "model_name": "HBoxModel",
          "model_module_version": "1.5.0",
          "state": {
            "_dom_classes": [],
            "_model_module": "@jupyter-widgets/controls",
            "_model_module_version": "1.5.0",
            "_model_name": "HBoxModel",
            "_view_count": null,
            "_view_module": "@jupyter-widgets/controls",
            "_view_module_version": "1.5.0",
            "_view_name": "HBoxView",
            "box_style": "",
            "children": [
              "IPY_MODEL_ba8fcfe2c63246ca94c61e57fe4db24d",
              "IPY_MODEL_dee491fa654741c58253d4896edb6a0c",
              "IPY_MODEL_b53ecf6783994b52b84ed4906fbb8088"
            ],
            "layout": "IPY_MODEL_77a3f595a01441228e6dbb3cd07133a9"
          }
        },
        "ba8fcfe2c63246ca94c61e57fe4db24d": {
          "model_module": "@jupyter-widgets/controls",
          "model_name": "HTMLModel",
          "model_module_version": "1.5.0",
          "state": {
            "_dom_classes": [],
            "_model_module": "@jupyter-widgets/controls",
            "_model_module_version": "1.5.0",
            "_model_name": "HTMLModel",
            "_view_count": null,
            "_view_module": "@jupyter-widgets/controls",
            "_view_module_version": "1.5.0",
            "_view_name": "HTMLView",
            "description": "",
            "description_tooltip": null,
            "layout": "IPY_MODEL_eb63afa2454e44259c73cb244054de2c",
            "placeholder": "​",
            "style": "IPY_MODEL_c354fcf178e243abafb9acf1d5e5a4e4",
            "value": "100%"
          }
        },
        "dee491fa654741c58253d4896edb6a0c": {
          "model_module": "@jupyter-widgets/controls",
          "model_name": "FloatProgressModel",
          "model_module_version": "1.5.0",
          "state": {
            "_dom_classes": [],
            "_model_module": "@jupyter-widgets/controls",
            "_model_module_version": "1.5.0",
            "_model_name": "FloatProgressModel",
            "_view_count": null,
            "_view_module": "@jupyter-widgets/controls",
            "_view_module_version": "1.5.0",
            "_view_name": "ProgressView",
            "bar_style": "success",
            "description": "",
            "description_tooltip": null,
            "layout": "IPY_MODEL_a66b6e195ae24797988198477f00b23d",
            "max": 26421880,
            "min": 0,
            "orientation": "horizontal",
            "style": "IPY_MODEL_790e3e3744c64b9ab438622a028d9e2c",
            "value": 26421880
          }
        },
        "b53ecf6783994b52b84ed4906fbb8088": {
          "model_module": "@jupyter-widgets/controls",
          "model_name": "HTMLModel",
          "model_module_version": "1.5.0",
          "state": {
            "_dom_classes": [],
            "_model_module": "@jupyter-widgets/controls",
            "_model_module_version": "1.5.0",
            "_model_name": "HTMLModel",
            "_view_count": null,
            "_view_module": "@jupyter-widgets/controls",
            "_view_module_version": "1.5.0",
            "_view_name": "HTMLView",
            "description": "",
            "description_tooltip": null,
            "layout": "IPY_MODEL_e3bafd6d241c4d9f8583f51407042b6b",
            "placeholder": "​",
            "style": "IPY_MODEL_cfcc7d03f09643809afa63baa4ec8095",
            "value": " 26421880/26421880 [00:02&lt;00:00, 17952248.34it/s]"
          }
        },
        "77a3f595a01441228e6dbb3cd07133a9": {
          "model_module": "@jupyter-widgets/base",
          "model_name": "LayoutModel",
          "model_module_version": "1.2.0",
          "state": {
            "_model_module": "@jupyter-widgets/base",
            "_model_module_version": "1.2.0",
            "_model_name": "LayoutModel",
            "_view_count": null,
            "_view_module": "@jupyter-widgets/base",
            "_view_module_version": "1.2.0",
            "_view_name": "LayoutView",
            "align_content": null,
            "align_items": null,
            "align_self": null,
            "border": null,
            "bottom": null,
            "display": null,
            "flex": null,
            "flex_flow": null,
            "grid_area": null,
            "grid_auto_columns": null,
            "grid_auto_flow": null,
            "grid_auto_rows": null,
            "grid_column": null,
            "grid_gap": null,
            "grid_row": null,
            "grid_template_areas": null,
            "grid_template_columns": null,
            "grid_template_rows": null,
            "height": null,
            "justify_content": null,
            "justify_items": null,
            "left": null,
            "margin": null,
            "max_height": null,
            "max_width": null,
            "min_height": null,
            "min_width": null,
            "object_fit": null,
            "object_position": null,
            "order": null,
            "overflow": null,
            "overflow_x": null,
            "overflow_y": null,
            "padding": null,
            "right": null,
            "top": null,
            "visibility": null,
            "width": null
          }
        },
        "eb63afa2454e44259c73cb244054de2c": {
          "model_module": "@jupyter-widgets/base",
          "model_name": "LayoutModel",
          "model_module_version": "1.2.0",
          "state": {
            "_model_module": "@jupyter-widgets/base",
            "_model_module_version": "1.2.0",
            "_model_name": "LayoutModel",
            "_view_count": null,
            "_view_module": "@jupyter-widgets/base",
            "_view_module_version": "1.2.0",
            "_view_name": "LayoutView",
            "align_content": null,
            "align_items": null,
            "align_self": null,
            "border": null,
            "bottom": null,
            "display": null,
            "flex": null,
            "flex_flow": null,
            "grid_area": null,
            "grid_auto_columns": null,
            "grid_auto_flow": null,
            "grid_auto_rows": null,
            "grid_column": null,
            "grid_gap": null,
            "grid_row": null,
            "grid_template_areas": null,
            "grid_template_columns": null,
            "grid_template_rows": null,
            "height": null,
            "justify_content": null,
            "justify_items": null,
            "left": null,
            "margin": null,
            "max_height": null,
            "max_width": null,
            "min_height": null,
            "min_width": null,
            "object_fit": null,
            "object_position": null,
            "order": null,
            "overflow": null,
            "overflow_x": null,
            "overflow_y": null,
            "padding": null,
            "right": null,
            "top": null,
            "visibility": null,
            "width": null
          }
        },
        "c354fcf178e243abafb9acf1d5e5a4e4": {
          "model_module": "@jupyter-widgets/controls",
          "model_name": "DescriptionStyleModel",
          "model_module_version": "1.5.0",
          "state": {
            "_model_module": "@jupyter-widgets/controls",
            "_model_module_version": "1.5.0",
            "_model_name": "DescriptionStyleModel",
            "_view_count": null,
            "_view_module": "@jupyter-widgets/base",
            "_view_module_version": "1.2.0",
            "_view_name": "StyleView",
            "description_width": ""
          }
        },
        "a66b6e195ae24797988198477f00b23d": {
          "model_module": "@jupyter-widgets/base",
          "model_name": "LayoutModel",
          "model_module_version": "1.2.0",
          "state": {
            "_model_module": "@jupyter-widgets/base",
            "_model_module_version": "1.2.0",
            "_model_name": "LayoutModel",
            "_view_count": null,
            "_view_module": "@jupyter-widgets/base",
            "_view_module_version": "1.2.0",
            "_view_name": "LayoutView",
            "align_content": null,
            "align_items": null,
            "align_self": null,
            "border": null,
            "bottom": null,
            "display": null,
            "flex": null,
            "flex_flow": null,
            "grid_area": null,
            "grid_auto_columns": null,
            "grid_auto_flow": null,
            "grid_auto_rows": null,
            "grid_column": null,
            "grid_gap": null,
            "grid_row": null,
            "grid_template_areas": null,
            "grid_template_columns": null,
            "grid_template_rows": null,
            "height": null,
            "justify_content": null,
            "justify_items": null,
            "left": null,
            "margin": null,
            "max_height": null,
            "max_width": null,
            "min_height": null,
            "min_width": null,
            "object_fit": null,
            "object_position": null,
            "order": null,
            "overflow": null,
            "overflow_x": null,
            "overflow_y": null,
            "padding": null,
            "right": null,
            "top": null,
            "visibility": null,
            "width": null
          }
        },
        "790e3e3744c64b9ab438622a028d9e2c": {
          "model_module": "@jupyter-widgets/controls",
          "model_name": "ProgressStyleModel",
          "model_module_version": "1.5.0",
          "state": {
            "_model_module": "@jupyter-widgets/controls",
            "_model_module_version": "1.5.0",
            "_model_name": "ProgressStyleModel",
            "_view_count": null,
            "_view_module": "@jupyter-widgets/base",
            "_view_module_version": "1.2.0",
            "_view_name": "StyleView",
            "bar_color": null,
            "description_width": ""
          }
        },
        "e3bafd6d241c4d9f8583f51407042b6b": {
          "model_module": "@jupyter-widgets/base",
          "model_name": "LayoutModel",
          "model_module_version": "1.2.0",
          "state": {
            "_model_module": "@jupyter-widgets/base",
            "_model_module_version": "1.2.0",
            "_model_name": "LayoutModel",
            "_view_count": null,
            "_view_module": "@jupyter-widgets/base",
            "_view_module_version": "1.2.0",
            "_view_name": "LayoutView",
            "align_content": null,
            "align_items": null,
            "align_self": null,
            "border": null,
            "bottom": null,
            "display": null,
            "flex": null,
            "flex_flow": null,
            "grid_area": null,
            "grid_auto_columns": null,
            "grid_auto_flow": null,
            "grid_auto_rows": null,
            "grid_column": null,
            "grid_gap": null,
            "grid_row": null,
            "grid_template_areas": null,
            "grid_template_columns": null,
            "grid_template_rows": null,
            "height": null,
            "justify_content": null,
            "justify_items": null,
            "left": null,
            "margin": null,
            "max_height": null,
            "max_width": null,
            "min_height": null,
            "min_width": null,
            "object_fit": null,
            "object_position": null,
            "order": null,
            "overflow": null,
            "overflow_x": null,
            "overflow_y": null,
            "padding": null,
            "right": null,
            "top": null,
            "visibility": null,
            "width": null
          }
        },
        "cfcc7d03f09643809afa63baa4ec8095": {
          "model_module": "@jupyter-widgets/controls",
          "model_name": "DescriptionStyleModel",
          "model_module_version": "1.5.0",
          "state": {
            "_model_module": "@jupyter-widgets/controls",
            "_model_module_version": "1.5.0",
            "_model_name": "DescriptionStyleModel",
            "_view_count": null,
            "_view_module": "@jupyter-widgets/base",
            "_view_module_version": "1.2.0",
            "_view_name": "StyleView",
            "description_width": ""
          }
        },
        "9f133bc17e7b41ba9042ba3854b26776": {
          "model_module": "@jupyter-widgets/controls",
          "model_name": "HBoxModel",
          "model_module_version": "1.5.0",
          "state": {
            "_dom_classes": [],
            "_model_module": "@jupyter-widgets/controls",
            "_model_module_version": "1.5.0",
            "_model_name": "HBoxModel",
            "_view_count": null,
            "_view_module": "@jupyter-widgets/controls",
            "_view_module_version": "1.5.0",
            "_view_name": "HBoxView",
            "box_style": "",
            "children": [
              "IPY_MODEL_d5f8a0b555cc405dab5658a5767d12ef",
              "IPY_MODEL_cb20ab87c2a148d58293c622fb2acd4a",
              "IPY_MODEL_a6c32600bda14f16802ecd38ce066346"
            ],
            "layout": "IPY_MODEL_c5cad7c8fa1a421297f78b2c49fd85d6"
          }
        },
        "d5f8a0b555cc405dab5658a5767d12ef": {
          "model_module": "@jupyter-widgets/controls",
          "model_name": "HTMLModel",
          "model_module_version": "1.5.0",
          "state": {
            "_dom_classes": [],
            "_model_module": "@jupyter-widgets/controls",
            "_model_module_version": "1.5.0",
            "_model_name": "HTMLModel",
            "_view_count": null,
            "_view_module": "@jupyter-widgets/controls",
            "_view_module_version": "1.5.0",
            "_view_name": "HTMLView",
            "description": "",
            "description_tooltip": null,
            "layout": "IPY_MODEL_27a814fc3f624f039983b94625e4dbbd",
            "placeholder": "​",
            "style": "IPY_MODEL_5a8d88178f3243feb1100e095b5e50bc",
            "value": "100%"
          }
        },
        "cb20ab87c2a148d58293c622fb2acd4a": {
          "model_module": "@jupyter-widgets/controls",
          "model_name": "FloatProgressModel",
          "model_module_version": "1.5.0",
          "state": {
            "_dom_classes": [],
            "_model_module": "@jupyter-widgets/controls",
            "_model_module_version": "1.5.0",
            "_model_name": "FloatProgressModel",
            "_view_count": null,
            "_view_module": "@jupyter-widgets/controls",
            "_view_module_version": "1.5.0",
            "_view_name": "ProgressView",
            "bar_style": "success",
            "description": "",
            "description_tooltip": null,
            "layout": "IPY_MODEL_61d814fa8c71416b9d165eef207c758d",
            "max": 29515,
            "min": 0,
            "orientation": "horizontal",
            "style": "IPY_MODEL_36eed82ba47842dcb6945acd08ec859f",
            "value": 29515
          }
        },
        "a6c32600bda14f16802ecd38ce066346": {
          "model_module": "@jupyter-widgets/controls",
          "model_name": "HTMLModel",
          "model_module_version": "1.5.0",
          "state": {
            "_dom_classes": [],
            "_model_module": "@jupyter-widgets/controls",
            "_model_module_version": "1.5.0",
            "_model_name": "HTMLModel",
            "_view_count": null,
            "_view_module": "@jupyter-widgets/controls",
            "_view_module_version": "1.5.0",
            "_view_name": "HTMLView",
            "description": "",
            "description_tooltip": null,
            "layout": "IPY_MODEL_f6addc79ce7e4fadb2c5f2a4dfdea2c6",
            "placeholder": "​",
            "style": "IPY_MODEL_50302b1946814f2fb21795884b93f70a",
            "value": " 29515/29515 [00:00&lt;00:00, 198603.75it/s]"
          }
        },
        "c5cad7c8fa1a421297f78b2c49fd85d6": {
          "model_module": "@jupyter-widgets/base",
          "model_name": "LayoutModel",
          "model_module_version": "1.2.0",
          "state": {
            "_model_module": "@jupyter-widgets/base",
            "_model_module_version": "1.2.0",
            "_model_name": "LayoutModel",
            "_view_count": null,
            "_view_module": "@jupyter-widgets/base",
            "_view_module_version": "1.2.0",
            "_view_name": "LayoutView",
            "align_content": null,
            "align_items": null,
            "align_self": null,
            "border": null,
            "bottom": null,
            "display": null,
            "flex": null,
            "flex_flow": null,
            "grid_area": null,
            "grid_auto_columns": null,
            "grid_auto_flow": null,
            "grid_auto_rows": null,
            "grid_column": null,
            "grid_gap": null,
            "grid_row": null,
            "grid_template_areas": null,
            "grid_template_columns": null,
            "grid_template_rows": null,
            "height": null,
            "justify_content": null,
            "justify_items": null,
            "left": null,
            "margin": null,
            "max_height": null,
            "max_width": null,
            "min_height": null,
            "min_width": null,
            "object_fit": null,
            "object_position": null,
            "order": null,
            "overflow": null,
            "overflow_x": null,
            "overflow_y": null,
            "padding": null,
            "right": null,
            "top": null,
            "visibility": null,
            "width": null
          }
        },
        "27a814fc3f624f039983b94625e4dbbd": {
          "model_module": "@jupyter-widgets/base",
          "model_name": "LayoutModel",
          "model_module_version": "1.2.0",
          "state": {
            "_model_module": "@jupyter-widgets/base",
            "_model_module_version": "1.2.0",
            "_model_name": "LayoutModel",
            "_view_count": null,
            "_view_module": "@jupyter-widgets/base",
            "_view_module_version": "1.2.0",
            "_view_name": "LayoutView",
            "align_content": null,
            "align_items": null,
            "align_self": null,
            "border": null,
            "bottom": null,
            "display": null,
            "flex": null,
            "flex_flow": null,
            "grid_area": null,
            "grid_auto_columns": null,
            "grid_auto_flow": null,
            "grid_auto_rows": null,
            "grid_column": null,
            "grid_gap": null,
            "grid_row": null,
            "grid_template_areas": null,
            "grid_template_columns": null,
            "grid_template_rows": null,
            "height": null,
            "justify_content": null,
            "justify_items": null,
            "left": null,
            "margin": null,
            "max_height": null,
            "max_width": null,
            "min_height": null,
            "min_width": null,
            "object_fit": null,
            "object_position": null,
            "order": null,
            "overflow": null,
            "overflow_x": null,
            "overflow_y": null,
            "padding": null,
            "right": null,
            "top": null,
            "visibility": null,
            "width": null
          }
        },
        "5a8d88178f3243feb1100e095b5e50bc": {
          "model_module": "@jupyter-widgets/controls",
          "model_name": "DescriptionStyleModel",
          "model_module_version": "1.5.0",
          "state": {
            "_model_module": "@jupyter-widgets/controls",
            "_model_module_version": "1.5.0",
            "_model_name": "DescriptionStyleModel",
            "_view_count": null,
            "_view_module": "@jupyter-widgets/base",
            "_view_module_version": "1.2.0",
            "_view_name": "StyleView",
            "description_width": ""
          }
        },
        "61d814fa8c71416b9d165eef207c758d": {
          "model_module": "@jupyter-widgets/base",
          "model_name": "LayoutModel",
          "model_module_version": "1.2.0",
          "state": {
            "_model_module": "@jupyter-widgets/base",
            "_model_module_version": "1.2.0",
            "_model_name": "LayoutModel",
            "_view_count": null,
            "_view_module": "@jupyter-widgets/base",
            "_view_module_version": "1.2.0",
            "_view_name": "LayoutView",
            "align_content": null,
            "align_items": null,
            "align_self": null,
            "border": null,
            "bottom": null,
            "display": null,
            "flex": null,
            "flex_flow": null,
            "grid_area": null,
            "grid_auto_columns": null,
            "grid_auto_flow": null,
            "grid_auto_rows": null,
            "grid_column": null,
            "grid_gap": null,
            "grid_row": null,
            "grid_template_areas": null,
            "grid_template_columns": null,
            "grid_template_rows": null,
            "height": null,
            "justify_content": null,
            "justify_items": null,
            "left": null,
            "margin": null,
            "max_height": null,
            "max_width": null,
            "min_height": null,
            "min_width": null,
            "object_fit": null,
            "object_position": null,
            "order": null,
            "overflow": null,
            "overflow_x": null,
            "overflow_y": null,
            "padding": null,
            "right": null,
            "top": null,
            "visibility": null,
            "width": null
          }
        },
        "36eed82ba47842dcb6945acd08ec859f": {
          "model_module": "@jupyter-widgets/controls",
          "model_name": "ProgressStyleModel",
          "model_module_version": "1.5.0",
          "state": {
            "_model_module": "@jupyter-widgets/controls",
            "_model_module_version": "1.5.0",
            "_model_name": "ProgressStyleModel",
            "_view_count": null,
            "_view_module": "@jupyter-widgets/base",
            "_view_module_version": "1.2.0",
            "_view_name": "StyleView",
            "bar_color": null,
            "description_width": ""
          }
        },
        "f6addc79ce7e4fadb2c5f2a4dfdea2c6": {
          "model_module": "@jupyter-widgets/base",
          "model_name": "LayoutModel",
          "model_module_version": "1.2.0",
          "state": {
            "_model_module": "@jupyter-widgets/base",
            "_model_module_version": "1.2.0",
            "_model_name": "LayoutModel",
            "_view_count": null,
            "_view_module": "@jupyter-widgets/base",
            "_view_module_version": "1.2.0",
            "_view_name": "LayoutView",
            "align_content": null,
            "align_items": null,
            "align_self": null,
            "border": null,
            "bottom": null,
            "display": null,
            "flex": null,
            "flex_flow": null,
            "grid_area": null,
            "grid_auto_columns": null,
            "grid_auto_flow": null,
            "grid_auto_rows": null,
            "grid_column": null,
            "grid_gap": null,
            "grid_row": null,
            "grid_template_areas": null,
            "grid_template_columns": null,
            "grid_template_rows": null,
            "height": null,
            "justify_content": null,
            "justify_items": null,
            "left": null,
            "margin": null,
            "max_height": null,
            "max_width": null,
            "min_height": null,
            "min_width": null,
            "object_fit": null,
            "object_position": null,
            "order": null,
            "overflow": null,
            "overflow_x": null,
            "overflow_y": null,
            "padding": null,
            "right": null,
            "top": null,
            "visibility": null,
            "width": null
          }
        },
        "50302b1946814f2fb21795884b93f70a": {
          "model_module": "@jupyter-widgets/controls",
          "model_name": "DescriptionStyleModel",
          "model_module_version": "1.5.0",
          "state": {
            "_model_module": "@jupyter-widgets/controls",
            "_model_module_version": "1.5.0",
            "_model_name": "DescriptionStyleModel",
            "_view_count": null,
            "_view_module": "@jupyter-widgets/base",
            "_view_module_version": "1.2.0",
            "_view_name": "StyleView",
            "description_width": ""
          }
        },
        "4832d6e3ba374d45b76e44889a8db7db": {
          "model_module": "@jupyter-widgets/controls",
          "model_name": "HBoxModel",
          "model_module_version": "1.5.0",
          "state": {
            "_dom_classes": [],
            "_model_module": "@jupyter-widgets/controls",
            "_model_module_version": "1.5.0",
            "_model_name": "HBoxModel",
            "_view_count": null,
            "_view_module": "@jupyter-widgets/controls",
            "_view_module_version": "1.5.0",
            "_view_name": "HBoxView",
            "box_style": "",
            "children": [
              "IPY_MODEL_146bf85e0f7a4c7990f3d153aff9a408",
              "IPY_MODEL_4eb518602d70481e9995f12b062a9463",
              "IPY_MODEL_9924f65cbef34d569414f8856cce2097"
            ],
            "layout": "IPY_MODEL_433a6e1e818c4c1d8c6f9232cf27f71f"
          }
        },
        "146bf85e0f7a4c7990f3d153aff9a408": {
          "model_module": "@jupyter-widgets/controls",
          "model_name": "HTMLModel",
          "model_module_version": "1.5.0",
          "state": {
            "_dom_classes": [],
            "_model_module": "@jupyter-widgets/controls",
            "_model_module_version": "1.5.0",
            "_model_name": "HTMLModel",
            "_view_count": null,
            "_view_module": "@jupyter-widgets/controls",
            "_view_module_version": "1.5.0",
            "_view_name": "HTMLView",
            "description": "",
            "description_tooltip": null,
            "layout": "IPY_MODEL_9e2a3b79ba134f2983fb71de9b9a1af3",
            "placeholder": "​",
            "style": "IPY_MODEL_6477bcede993461fb30055b75b5ef4c9",
            "value": "100%"
          }
        },
        "4eb518602d70481e9995f12b062a9463": {
          "model_module": "@jupyter-widgets/controls",
          "model_name": "FloatProgressModel",
          "model_module_version": "1.5.0",
          "state": {
            "_dom_classes": [],
            "_model_module": "@jupyter-widgets/controls",
            "_model_module_version": "1.5.0",
            "_model_name": "FloatProgressModel",
            "_view_count": null,
            "_view_module": "@jupyter-widgets/controls",
            "_view_module_version": "1.5.0",
            "_view_name": "ProgressView",
            "bar_style": "success",
            "description": "",
            "description_tooltip": null,
            "layout": "IPY_MODEL_1ab527974b1349288987078b7506a7d0",
            "max": 4422102,
            "min": 0,
            "orientation": "horizontal",
            "style": "IPY_MODEL_3c99990228b64dc1914adf6baf7642be",
            "value": 4422102
          }
        },
        "9924f65cbef34d569414f8856cce2097": {
          "model_module": "@jupyter-widgets/controls",
          "model_name": "HTMLModel",
          "model_module_version": "1.5.0",
          "state": {
            "_dom_classes": [],
            "_model_module": "@jupyter-widgets/controls",
            "_model_module_version": "1.5.0",
            "_model_name": "HTMLModel",
            "_view_count": null,
            "_view_module": "@jupyter-widgets/controls",
            "_view_module_version": "1.5.0",
            "_view_name": "HTMLView",
            "description": "",
            "description_tooltip": null,
            "layout": "IPY_MODEL_104dfe9c17c24867a5ae9150d8aca7dd",
            "placeholder": "​",
            "style": "IPY_MODEL_5aa101c410474f898296b280c4dc309d",
            "value": " 4422102/4422102 [00:01&lt;00:00, 5632156.97it/s]"
          }
        },
        "433a6e1e818c4c1d8c6f9232cf27f71f": {
          "model_module": "@jupyter-widgets/base",
          "model_name": "LayoutModel",
          "model_module_version": "1.2.0",
          "state": {
            "_model_module": "@jupyter-widgets/base",
            "_model_module_version": "1.2.0",
            "_model_name": "LayoutModel",
            "_view_count": null,
            "_view_module": "@jupyter-widgets/base",
            "_view_module_version": "1.2.0",
            "_view_name": "LayoutView",
            "align_content": null,
            "align_items": null,
            "align_self": null,
            "border": null,
            "bottom": null,
            "display": null,
            "flex": null,
            "flex_flow": null,
            "grid_area": null,
            "grid_auto_columns": null,
            "grid_auto_flow": null,
            "grid_auto_rows": null,
            "grid_column": null,
            "grid_gap": null,
            "grid_row": null,
            "grid_template_areas": null,
            "grid_template_columns": null,
            "grid_template_rows": null,
            "height": null,
            "justify_content": null,
            "justify_items": null,
            "left": null,
            "margin": null,
            "max_height": null,
            "max_width": null,
            "min_height": null,
            "min_width": null,
            "object_fit": null,
            "object_position": null,
            "order": null,
            "overflow": null,
            "overflow_x": null,
            "overflow_y": null,
            "padding": null,
            "right": null,
            "top": null,
            "visibility": null,
            "width": null
          }
        },
        "9e2a3b79ba134f2983fb71de9b9a1af3": {
          "model_module": "@jupyter-widgets/base",
          "model_name": "LayoutModel",
          "model_module_version": "1.2.0",
          "state": {
            "_model_module": "@jupyter-widgets/base",
            "_model_module_version": "1.2.0",
            "_model_name": "LayoutModel",
            "_view_count": null,
            "_view_module": "@jupyter-widgets/base",
            "_view_module_version": "1.2.0",
            "_view_name": "LayoutView",
            "align_content": null,
            "align_items": null,
            "align_self": null,
            "border": null,
            "bottom": null,
            "display": null,
            "flex": null,
            "flex_flow": null,
            "grid_area": null,
            "grid_auto_columns": null,
            "grid_auto_flow": null,
            "grid_auto_rows": null,
            "grid_column": null,
            "grid_gap": null,
            "grid_row": null,
            "grid_template_areas": null,
            "grid_template_columns": null,
            "grid_template_rows": null,
            "height": null,
            "justify_content": null,
            "justify_items": null,
            "left": null,
            "margin": null,
            "max_height": null,
            "max_width": null,
            "min_height": null,
            "min_width": null,
            "object_fit": null,
            "object_position": null,
            "order": null,
            "overflow": null,
            "overflow_x": null,
            "overflow_y": null,
            "padding": null,
            "right": null,
            "top": null,
            "visibility": null,
            "width": null
          }
        },
        "6477bcede993461fb30055b75b5ef4c9": {
          "model_module": "@jupyter-widgets/controls",
          "model_name": "DescriptionStyleModel",
          "model_module_version": "1.5.0",
          "state": {
            "_model_module": "@jupyter-widgets/controls",
            "_model_module_version": "1.5.0",
            "_model_name": "DescriptionStyleModel",
            "_view_count": null,
            "_view_module": "@jupyter-widgets/base",
            "_view_module_version": "1.2.0",
            "_view_name": "StyleView",
            "description_width": ""
          }
        },
        "1ab527974b1349288987078b7506a7d0": {
          "model_module": "@jupyter-widgets/base",
          "model_name": "LayoutModel",
          "model_module_version": "1.2.0",
          "state": {
            "_model_module": "@jupyter-widgets/base",
            "_model_module_version": "1.2.0",
            "_model_name": "LayoutModel",
            "_view_count": null,
            "_view_module": "@jupyter-widgets/base",
            "_view_module_version": "1.2.0",
            "_view_name": "LayoutView",
            "align_content": null,
            "align_items": null,
            "align_self": null,
            "border": null,
            "bottom": null,
            "display": null,
            "flex": null,
            "flex_flow": null,
            "grid_area": null,
            "grid_auto_columns": null,
            "grid_auto_flow": null,
            "grid_auto_rows": null,
            "grid_column": null,
            "grid_gap": null,
            "grid_row": null,
            "grid_template_areas": null,
            "grid_template_columns": null,
            "grid_template_rows": null,
            "height": null,
            "justify_content": null,
            "justify_items": null,
            "left": null,
            "margin": null,
            "max_height": null,
            "max_width": null,
            "min_height": null,
            "min_width": null,
            "object_fit": null,
            "object_position": null,
            "order": null,
            "overflow": null,
            "overflow_x": null,
            "overflow_y": null,
            "padding": null,
            "right": null,
            "top": null,
            "visibility": null,
            "width": null
          }
        },
        "3c99990228b64dc1914adf6baf7642be": {
          "model_module": "@jupyter-widgets/controls",
          "model_name": "ProgressStyleModel",
          "model_module_version": "1.5.0",
          "state": {
            "_model_module": "@jupyter-widgets/controls",
            "_model_module_version": "1.5.0",
            "_model_name": "ProgressStyleModel",
            "_view_count": null,
            "_view_module": "@jupyter-widgets/base",
            "_view_module_version": "1.2.0",
            "_view_name": "StyleView",
            "bar_color": null,
            "description_width": ""
          }
        },
        "104dfe9c17c24867a5ae9150d8aca7dd": {
          "model_module": "@jupyter-widgets/base",
          "model_name": "LayoutModel",
          "model_module_version": "1.2.0",
          "state": {
            "_model_module": "@jupyter-widgets/base",
            "_model_module_version": "1.2.0",
            "_model_name": "LayoutModel",
            "_view_count": null,
            "_view_module": "@jupyter-widgets/base",
            "_view_module_version": "1.2.0",
            "_view_name": "LayoutView",
            "align_content": null,
            "align_items": null,
            "align_self": null,
            "border": null,
            "bottom": null,
            "display": null,
            "flex": null,
            "flex_flow": null,
            "grid_area": null,
            "grid_auto_columns": null,
            "grid_auto_flow": null,
            "grid_auto_rows": null,
            "grid_column": null,
            "grid_gap": null,
            "grid_row": null,
            "grid_template_areas": null,
            "grid_template_columns": null,
            "grid_template_rows": null,
            "height": null,
            "justify_content": null,
            "justify_items": null,
            "left": null,
            "margin": null,
            "max_height": null,
            "max_width": null,
            "min_height": null,
            "min_width": null,
            "object_fit": null,
            "object_position": null,
            "order": null,
            "overflow": null,
            "overflow_x": null,
            "overflow_y": null,
            "padding": null,
            "right": null,
            "top": null,
            "visibility": null,
            "width": null
          }
        },
        "5aa101c410474f898296b280c4dc309d": {
          "model_module": "@jupyter-widgets/controls",
          "model_name": "DescriptionStyleModel",
          "model_module_version": "1.5.0",
          "state": {
            "_model_module": "@jupyter-widgets/controls",
            "_model_module_version": "1.5.0",
            "_model_name": "DescriptionStyleModel",
            "_view_count": null,
            "_view_module": "@jupyter-widgets/base",
            "_view_module_version": "1.2.0",
            "_view_name": "StyleView",
            "description_width": ""
          }
        },
        "edd22c97b9284702adf33f74eca99597": {
          "model_module": "@jupyter-widgets/controls",
          "model_name": "HBoxModel",
          "model_module_version": "1.5.0",
          "state": {
            "_dom_classes": [],
            "_model_module": "@jupyter-widgets/controls",
            "_model_module_version": "1.5.0",
            "_model_name": "HBoxModel",
            "_view_count": null,
            "_view_module": "@jupyter-widgets/controls",
            "_view_module_version": "1.5.0",
            "_view_name": "HBoxView",
            "box_style": "",
            "children": [
              "IPY_MODEL_9bac56c871cd4cac92184dd15c7f5400",
              "IPY_MODEL_ccfc67d3e9384d7e8fd3466a23e1b10b",
              "IPY_MODEL_a5ba64e519d042a5acf11ce2fef1d404"
            ],
            "layout": "IPY_MODEL_db488ade4cb54a6a9625eb20c06967f7"
          }
        },
        "9bac56c871cd4cac92184dd15c7f5400": {
          "model_module": "@jupyter-widgets/controls",
          "model_name": "HTMLModel",
          "model_module_version": "1.5.0",
          "state": {
            "_dom_classes": [],
            "_model_module": "@jupyter-widgets/controls",
            "_model_module_version": "1.5.0",
            "_model_name": "HTMLModel",
            "_view_count": null,
            "_view_module": "@jupyter-widgets/controls",
            "_view_module_version": "1.5.0",
            "_view_name": "HTMLView",
            "description": "",
            "description_tooltip": null,
            "layout": "IPY_MODEL_d34f4b83c24b4144ad565f880273798a",
            "placeholder": "​",
            "style": "IPY_MODEL_d7fc9eccfd6547c8bd0d3568232be8b2",
            "value": "100%"
          }
        },
        "ccfc67d3e9384d7e8fd3466a23e1b10b": {
          "model_module": "@jupyter-widgets/controls",
          "model_name": "FloatProgressModel",
          "model_module_version": "1.5.0",
          "state": {
            "_dom_classes": [],
            "_model_module": "@jupyter-widgets/controls",
            "_model_module_version": "1.5.0",
            "_model_name": "FloatProgressModel",
            "_view_count": null,
            "_view_module": "@jupyter-widgets/controls",
            "_view_module_version": "1.5.0",
            "_view_name": "ProgressView",
            "bar_style": "success",
            "description": "",
            "description_tooltip": null,
            "layout": "IPY_MODEL_781f7b3da18746bd900e948476b45dd9",
            "max": 5148,
            "min": 0,
            "orientation": "horizontal",
            "style": "IPY_MODEL_6b77f6777cf749f68e1a991320c4a72b",
            "value": 5148
          }
        },
        "a5ba64e519d042a5acf11ce2fef1d404": {
          "model_module": "@jupyter-widgets/controls",
          "model_name": "HTMLModel",
          "model_module_version": "1.5.0",
          "state": {
            "_dom_classes": [],
            "_model_module": "@jupyter-widgets/controls",
            "_model_module_version": "1.5.0",
            "_model_name": "HTMLModel",
            "_view_count": null,
            "_view_module": "@jupyter-widgets/controls",
            "_view_module_version": "1.5.0",
            "_view_name": "HTMLView",
            "description": "",
            "description_tooltip": null,
            "layout": "IPY_MODEL_dc519755847e4c24b3935686e8defe25",
            "placeholder": "​",
            "style": "IPY_MODEL_9a316432bd4c4670a12fa56aa77acc41",
            "value": " 5148/5148 [00:00&lt;00:00, 31949.46it/s]"
          }
        },
        "db488ade4cb54a6a9625eb20c06967f7": {
          "model_module": "@jupyter-widgets/base",
          "model_name": "LayoutModel",
          "model_module_version": "1.2.0",
          "state": {
            "_model_module": "@jupyter-widgets/base",
            "_model_module_version": "1.2.0",
            "_model_name": "LayoutModel",
            "_view_count": null,
            "_view_module": "@jupyter-widgets/base",
            "_view_module_version": "1.2.0",
            "_view_name": "LayoutView",
            "align_content": null,
            "align_items": null,
            "align_self": null,
            "border": null,
            "bottom": null,
            "display": null,
            "flex": null,
            "flex_flow": null,
            "grid_area": null,
            "grid_auto_columns": null,
            "grid_auto_flow": null,
            "grid_auto_rows": null,
            "grid_column": null,
            "grid_gap": null,
            "grid_row": null,
            "grid_template_areas": null,
            "grid_template_columns": null,
            "grid_template_rows": null,
            "height": null,
            "justify_content": null,
            "justify_items": null,
            "left": null,
            "margin": null,
            "max_height": null,
            "max_width": null,
            "min_height": null,
            "min_width": null,
            "object_fit": null,
            "object_position": null,
            "order": null,
            "overflow": null,
            "overflow_x": null,
            "overflow_y": null,
            "padding": null,
            "right": null,
            "top": null,
            "visibility": null,
            "width": null
          }
        },
        "d34f4b83c24b4144ad565f880273798a": {
          "model_module": "@jupyter-widgets/base",
          "model_name": "LayoutModel",
          "model_module_version": "1.2.0",
          "state": {
            "_model_module": "@jupyter-widgets/base",
            "_model_module_version": "1.2.0",
            "_model_name": "LayoutModel",
            "_view_count": null,
            "_view_module": "@jupyter-widgets/base",
            "_view_module_version": "1.2.0",
            "_view_name": "LayoutView",
            "align_content": null,
            "align_items": null,
            "align_self": null,
            "border": null,
            "bottom": null,
            "display": null,
            "flex": null,
            "flex_flow": null,
            "grid_area": null,
            "grid_auto_columns": null,
            "grid_auto_flow": null,
            "grid_auto_rows": null,
            "grid_column": null,
            "grid_gap": null,
            "grid_row": null,
            "grid_template_areas": null,
            "grid_template_columns": null,
            "grid_template_rows": null,
            "height": null,
            "justify_content": null,
            "justify_items": null,
            "left": null,
            "margin": null,
            "max_height": null,
            "max_width": null,
            "min_height": null,
            "min_width": null,
            "object_fit": null,
            "object_position": null,
            "order": null,
            "overflow": null,
            "overflow_x": null,
            "overflow_y": null,
            "padding": null,
            "right": null,
            "top": null,
            "visibility": null,
            "width": null
          }
        },
        "d7fc9eccfd6547c8bd0d3568232be8b2": {
          "model_module": "@jupyter-widgets/controls",
          "model_name": "DescriptionStyleModel",
          "model_module_version": "1.5.0",
          "state": {
            "_model_module": "@jupyter-widgets/controls",
            "_model_module_version": "1.5.0",
            "_model_name": "DescriptionStyleModel",
            "_view_count": null,
            "_view_module": "@jupyter-widgets/base",
            "_view_module_version": "1.2.0",
            "_view_name": "StyleView",
            "description_width": ""
          }
        },
        "781f7b3da18746bd900e948476b45dd9": {
          "model_module": "@jupyter-widgets/base",
          "model_name": "LayoutModel",
          "model_module_version": "1.2.0",
          "state": {
            "_model_module": "@jupyter-widgets/base",
            "_model_module_version": "1.2.0",
            "_model_name": "LayoutModel",
            "_view_count": null,
            "_view_module": "@jupyter-widgets/base",
            "_view_module_version": "1.2.0",
            "_view_name": "LayoutView",
            "align_content": null,
            "align_items": null,
            "align_self": null,
            "border": null,
            "bottom": null,
            "display": null,
            "flex": null,
            "flex_flow": null,
            "grid_area": null,
            "grid_auto_columns": null,
            "grid_auto_flow": null,
            "grid_auto_rows": null,
            "grid_column": null,
            "grid_gap": null,
            "grid_row": null,
            "grid_template_areas": null,
            "grid_template_columns": null,
            "grid_template_rows": null,
            "height": null,
            "justify_content": null,
            "justify_items": null,
            "left": null,
            "margin": null,
            "max_height": null,
            "max_width": null,
            "min_height": null,
            "min_width": null,
            "object_fit": null,
            "object_position": null,
            "order": null,
            "overflow": null,
            "overflow_x": null,
            "overflow_y": null,
            "padding": null,
            "right": null,
            "top": null,
            "visibility": null,
            "width": null
          }
        },
        "6b77f6777cf749f68e1a991320c4a72b": {
          "model_module": "@jupyter-widgets/controls",
          "model_name": "ProgressStyleModel",
          "model_module_version": "1.5.0",
          "state": {
            "_model_module": "@jupyter-widgets/controls",
            "_model_module_version": "1.5.0",
            "_model_name": "ProgressStyleModel",
            "_view_count": null,
            "_view_module": "@jupyter-widgets/base",
            "_view_module_version": "1.2.0",
            "_view_name": "StyleView",
            "bar_color": null,
            "description_width": ""
          }
        },
        "dc519755847e4c24b3935686e8defe25": {
          "model_module": "@jupyter-widgets/base",
          "model_name": "LayoutModel",
          "model_module_version": "1.2.0",
          "state": {
            "_model_module": "@jupyter-widgets/base",
            "_model_module_version": "1.2.0",
            "_model_name": "LayoutModel",
            "_view_count": null,
            "_view_module": "@jupyter-widgets/base",
            "_view_module_version": "1.2.0",
            "_view_name": "LayoutView",
            "align_content": null,
            "align_items": null,
            "align_self": null,
            "border": null,
            "bottom": null,
            "display": null,
            "flex": null,
            "flex_flow": null,
            "grid_area": null,
            "grid_auto_columns": null,
            "grid_auto_flow": null,
            "grid_auto_rows": null,
            "grid_column": null,
            "grid_gap": null,
            "grid_row": null,
            "grid_template_areas": null,
            "grid_template_columns": null,
            "grid_template_rows": null,
            "height": null,
            "justify_content": null,
            "justify_items": null,
            "left": null,
            "margin": null,
            "max_height": null,
            "max_width": null,
            "min_height": null,
            "min_width": null,
            "object_fit": null,
            "object_position": null,
            "order": null,
            "overflow": null,
            "overflow_x": null,
            "overflow_y": null,
            "padding": null,
            "right": null,
            "top": null,
            "visibility": null,
            "width": null
          }
        },
        "9a316432bd4c4670a12fa56aa77acc41": {
          "model_module": "@jupyter-widgets/controls",
          "model_name": "DescriptionStyleModel",
          "model_module_version": "1.5.0",
          "state": {
            "_model_module": "@jupyter-widgets/controls",
            "_model_module_version": "1.5.0",
            "_model_name": "DescriptionStyleModel",
            "_view_count": null,
            "_view_module": "@jupyter-widgets/base",
            "_view_module_version": "1.2.0",
            "_view_name": "StyleView",
            "description_width": ""
          }
        }
      }
    }
  },
  "nbformat": 4,
  "nbformat_minor": 0
}